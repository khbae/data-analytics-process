{
  "nbformat": 4,
  "nbformat_minor": 0,
  "metadata": {
    "colab": {
      "name": "데이터 분석 프로세스의 이해와 리더의 역할.ipynb",
      "provenance": [],
      "collapsed_sections": [
        "zhb81Wrv7WpD",
        "cYv76ZpI9R9F",
        "WX8_y7kGD5Tu",
        "AJy7OWS2--bQ"
      ],
      "include_colab_link": true
    },
    "kernelspec": {
      "name": "python3",
      "display_name": "Python 3"
    }
  },
  "cells": [
    {
      "cell_type": "markdown",
      "metadata": {
        "id": "view-in-github",
        "colab_type": "text"
      },
      "source": [
        "<a href=\"https://colab.research.google.com/github/khbae/data-analytics-process/blob/main/%EB%8D%B0%EC%9D%B4%ED%84%B0_%EB%B6%84%EC%84%9D_%ED%94%84%EB%A1%9C%EC%84%B8%EC%8A%A4%EC%9D%98_%EC%9D%B4%ED%95%B4%EC%99%80_%EB%A6%AC%EB%8D%94%EC%9D%98_%EC%97%AD%ED%95%A0.ipynb\" target=\"_parent\"><img src=\"https://colab.research.google.com/assets/colab-badge.svg\" alt=\"Open In Colab\"/></a>"
      ]
    },
    {
      "cell_type": "markdown",
      "metadata": {
        "id": "aQB7BZ4idL8r"
      },
      "source": [
        "# 데이터 분석 프로세스의 이해와 리더의 역할\n",
        "\n",
        "## [배경훈 (성균관대학교)](https://biz.skku.edu/bizskk/intro/faculty.do?mode=view&perId=LZStrK4YQ4gQgZgFgggGTAUQIwAYBSBHAngFhhgFliAjAcwF4qg%20&srProfessorType=20)\n",
        "\n"
      ]
    },
    {
      "cell_type": "markdown",
      "metadata": {
        "id": "w4KYCiGWielN"
      },
      "source": [
        "# Big Data or Large Data\n",
        "\n",
        "![](https://github.com/data-science-lab/predicting-oil-prices/blob/main/03_Result/data2.png?raw=true)"
      ]
    },
    {
      "cell_type": "markdown",
      "metadata": {
        "id": "-5lq75iNi41J"
      },
      "source": [
        "# 데이터 분석 프로세스\n",
        "\n",
        "![](https://github.com/data-science-lab/predicting-oil-prices/blob/main/03_Result/process3.png?raw=true)\n",
        "\n",
        "![](https://github.com/data-science-lab/predicting-oil-prices/blob/main/03_Result/process4.png?raw=true)"
      ]
    },
    {
      "cell_type": "markdown",
      "metadata": {
        "id": "fmVCuWk9iEl8"
      },
      "source": [
        "# 데이터 분석 실습 - 오일 가격 예측 모델\n",
        "\n",
        "## Input, Output 데이터를 활용해서 unknown인 함수 f 를 찾는 과정\n",
        "\n",
        "![](https://github.com/data-science-lab/predicting-oil-prices/blob/main/03_Result/function2.png?raw=true)\n",
        "\n",
        "## 선형함수: Small Data, Low-Performance Computing\n",
        "\n",
        "## 비선형함수: Large Data, High-Performance Computing"
      ]
    },
    {
      "cell_type": "markdown",
      "metadata": {
        "id": "xFDr0I-YnQ9v"
      },
      "source": [
        "# 훈련(Training)과 검증(Testing)\n",
        "\n",
        "![](https://github.com/data-science-lab/predicting-oil-prices/blob/main/03_Result/training_test.png?raw=true)"
      ]
    },
    {
      "cell_type": "markdown",
      "metadata": {
        "id": "DOti9NSdO4F7"
      },
      "source": [
        "# 선형 회귀 (Linear Regression)"
      ]
    },
    {
      "cell_type": "markdown",
      "metadata": {
        "id": "D95s8RK_O92R"
      },
      "source": [
        "\\begin{gather*}  y_{i} = \\beta_{i}x_{i1} + \\cdots + \\beta_{p}x_{ip} + \\epsilon_{i} = x_{i}^T\\beta + \\epsilon_{i} , \\hspace{2cm} i = 1, ..., n  \\end{gather*}\n",
        "\n",
        "![](https://github.com/data-science-lab/predicting-oil-prices/blob/main/03_Result/regression.png?raw=true)\n"
      ]
    },
    {
      "cell_type": "markdown",
      "metadata": {
        "id": "vAqHFnSMO12j"
      },
      "source": [
        "[Simple Regression 예시](https://gallery.shinyapps.io/simple_regression/)"
      ]
    },
    {
      "cell_type": "markdown",
      "metadata": {
        "id": "9sr5sC5bBY0g"
      },
      "source": [
        "# 데이터와 작업 환경 세팅"
      ]
    },
    {
      "cell_type": "markdown",
      "metadata": {
        "id": "z-yF4ns2BaUu"
      },
      "source": [
        "## 라이브러리 설치"
      ]
    },
    {
      "cell_type": "code",
      "metadata": {
        "id": "O63w6PutBYdz",
        "colab": {
          "base_uri": "https://localhost:8080/"
        },
        "outputId": "fc5c8b26-b0e6-4065-d62a-ecc48765a15c"
      },
      "source": [
        "!pip3 install numpy\n",
        "!pip3 install pandas\n",
        "!pip3 install matplotlib\n",
        "!pip3 install sklearn\n",
        "!pip3 install tensorflow"
      ],
      "execution_count": 48,
      "outputs": [
        {
          "output_type": "stream",
          "text": [
            "Requirement already satisfied: numpy in /usr/local/lib/python3.7/dist-packages (1.19.5)\n",
            "Requirement already satisfied: pandas in /usr/local/lib/python3.7/dist-packages (1.1.5)\n",
            "Requirement already satisfied: python-dateutil>=2.7.3 in /usr/local/lib/python3.7/dist-packages (from pandas) (2.8.1)\n",
            "Requirement already satisfied: numpy>=1.15.4 in /usr/local/lib/python3.7/dist-packages (from pandas) (1.19.5)\n",
            "Requirement already satisfied: pytz>=2017.2 in /usr/local/lib/python3.7/dist-packages (from pandas) (2018.9)\n",
            "Requirement already satisfied: six>=1.5 in /usr/local/lib/python3.7/dist-packages (from python-dateutil>=2.7.3->pandas) (1.15.0)\n",
            "Requirement already satisfied: matplotlib in /usr/local/lib/python3.7/dist-packages (3.2.2)\n",
            "Requirement already satisfied: pyparsing!=2.0.4,!=2.1.2,!=2.1.6,>=2.0.1 in /usr/local/lib/python3.7/dist-packages (from matplotlib) (2.4.7)\n",
            "Requirement already satisfied: python-dateutil>=2.1 in /usr/local/lib/python3.7/dist-packages (from matplotlib) (2.8.1)\n",
            "Requirement already satisfied: cycler>=0.10 in /usr/local/lib/python3.7/dist-packages (from matplotlib) (0.10.0)\n",
            "Requirement already satisfied: kiwisolver>=1.0.1 in /usr/local/lib/python3.7/dist-packages (from matplotlib) (1.3.1)\n",
            "Requirement already satisfied: numpy>=1.11 in /usr/local/lib/python3.7/dist-packages (from matplotlib) (1.19.5)\n",
            "Requirement already satisfied: six>=1.5 in /usr/local/lib/python3.7/dist-packages (from python-dateutil>=2.1->matplotlib) (1.15.0)\n",
            "Requirement already satisfied: sklearn in /usr/local/lib/python3.7/dist-packages (0.0)\n",
            "Requirement already satisfied: scikit-learn in /usr/local/lib/python3.7/dist-packages (from sklearn) (0.22.2.post1)\n",
            "Requirement already satisfied: joblib>=0.11 in /usr/local/lib/python3.7/dist-packages (from scikit-learn->sklearn) (1.0.1)\n",
            "Requirement already satisfied: scipy>=0.17.0 in /usr/local/lib/python3.7/dist-packages (from scikit-learn->sklearn) (1.4.1)\n",
            "Requirement already satisfied: numpy>=1.11.0 in /usr/local/lib/python3.7/dist-packages (from scikit-learn->sklearn) (1.19.5)\n",
            "Requirement already satisfied: tensorflow in /usr/local/lib/python3.7/dist-packages (2.4.1)\n",
            "Requirement already satisfied: wrapt~=1.12.1 in /usr/local/lib/python3.7/dist-packages (from tensorflow) (1.12.1)\n",
            "Requirement already satisfied: protobuf>=3.9.2 in /usr/local/lib/python3.7/dist-packages (from tensorflow) (3.12.4)\n",
            "Requirement already satisfied: six~=1.15.0 in /usr/local/lib/python3.7/dist-packages (from tensorflow) (1.15.0)\n",
            "Requirement already satisfied: flatbuffers~=1.12.0 in /usr/local/lib/python3.7/dist-packages (from tensorflow) (1.12)\n",
            "Requirement already satisfied: numpy~=1.19.2 in /usr/local/lib/python3.7/dist-packages (from tensorflow) (1.19.5)\n",
            "Requirement already satisfied: tensorflow-estimator<2.5.0,>=2.4.0 in /usr/local/lib/python3.7/dist-packages (from tensorflow) (2.4.0)\n",
            "Requirement already satisfied: tensorboard~=2.4 in /usr/local/lib/python3.7/dist-packages (from tensorflow) (2.4.1)\n",
            "Requirement already satisfied: h5py~=2.10.0 in /usr/local/lib/python3.7/dist-packages (from tensorflow) (2.10.0)\n",
            "Requirement already satisfied: absl-py~=0.10 in /usr/local/lib/python3.7/dist-packages (from tensorflow) (0.10.0)\n",
            "Requirement already satisfied: astunparse~=1.6.3 in /usr/local/lib/python3.7/dist-packages (from tensorflow) (1.6.3)\n",
            "Requirement already satisfied: google-pasta~=0.2 in /usr/local/lib/python3.7/dist-packages (from tensorflow) (0.2.0)\n",
            "Requirement already satisfied: gast==0.3.3 in /usr/local/lib/python3.7/dist-packages (from tensorflow) (0.3.3)\n",
            "Requirement already satisfied: keras-preprocessing~=1.1.2 in /usr/local/lib/python3.7/dist-packages (from tensorflow) (1.1.2)\n",
            "Requirement already satisfied: typing-extensions~=3.7.4 in /usr/local/lib/python3.7/dist-packages (from tensorflow) (3.7.4.3)\n",
            "Requirement already satisfied: grpcio~=1.32.0 in /usr/local/lib/python3.7/dist-packages (from tensorflow) (1.32.0)\n",
            "Requirement already satisfied: wheel~=0.35 in /usr/local/lib/python3.7/dist-packages (from tensorflow) (0.36.2)\n",
            "Requirement already satisfied: opt-einsum~=3.3.0 in /usr/local/lib/python3.7/dist-packages (from tensorflow) (3.3.0)\n",
            "Requirement already satisfied: termcolor~=1.1.0 in /usr/local/lib/python3.7/dist-packages (from tensorflow) (1.1.0)\n",
            "Requirement already satisfied: setuptools in /usr/local/lib/python3.7/dist-packages (from protobuf>=3.9.2->tensorflow) (54.1.2)\n",
            "Requirement already satisfied: tensorboard-plugin-wit>=1.6.0 in /usr/local/lib/python3.7/dist-packages (from tensorboard~=2.4->tensorflow) (1.8.0)\n",
            "Requirement already satisfied: werkzeug>=0.11.15 in /usr/local/lib/python3.7/dist-packages (from tensorboard~=2.4->tensorflow) (1.0.1)\n",
            "Requirement already satisfied: markdown>=2.6.8 in /usr/local/lib/python3.7/dist-packages (from tensorboard~=2.4->tensorflow) (3.3.4)\n",
            "Requirement already satisfied: requests<3,>=2.21.0 in /usr/local/lib/python3.7/dist-packages (from tensorboard~=2.4->tensorflow) (2.23.0)\n",
            "Requirement already satisfied: google-auth-oauthlib<0.5,>=0.4.1 in /usr/local/lib/python3.7/dist-packages (from tensorboard~=2.4->tensorflow) (0.4.3)\n",
            "Requirement already satisfied: google-auth<2,>=1.6.3 in /usr/local/lib/python3.7/dist-packages (from tensorboard~=2.4->tensorflow) (1.27.1)\n",
            "Requirement already satisfied: importlib-metadata; python_version < \"3.8\" in /usr/local/lib/python3.7/dist-packages (from markdown>=2.6.8->tensorboard~=2.4->tensorflow) (3.7.2)\n",
            "Requirement already satisfied: certifi>=2017.4.17 in /usr/local/lib/python3.7/dist-packages (from requests<3,>=2.21.0->tensorboard~=2.4->tensorflow) (2020.12.5)\n",
            "Requirement already satisfied: urllib3!=1.25.0,!=1.25.1,<1.26,>=1.21.1 in /usr/local/lib/python3.7/dist-packages (from requests<3,>=2.21.0->tensorboard~=2.4->tensorflow) (1.24.3)\n",
            "Requirement already satisfied: idna<3,>=2.5 in /usr/local/lib/python3.7/dist-packages (from requests<3,>=2.21.0->tensorboard~=2.4->tensorflow) (2.10)\n",
            "Requirement already satisfied: chardet<4,>=3.0.2 in /usr/local/lib/python3.7/dist-packages (from requests<3,>=2.21.0->tensorboard~=2.4->tensorflow) (3.0.4)\n",
            "Requirement already satisfied: requests-oauthlib>=0.7.0 in /usr/local/lib/python3.7/dist-packages (from google-auth-oauthlib<0.5,>=0.4.1->tensorboard~=2.4->tensorflow) (1.3.0)\n",
            "Requirement already satisfied: rsa<5,>=3.1.4; python_version >= \"3.6\" in /usr/local/lib/python3.7/dist-packages (from google-auth<2,>=1.6.3->tensorboard~=2.4->tensorflow) (4.7.2)\n",
            "Requirement already satisfied: pyasn1-modules>=0.2.1 in /usr/local/lib/python3.7/dist-packages (from google-auth<2,>=1.6.3->tensorboard~=2.4->tensorflow) (0.2.8)\n",
            "Requirement already satisfied: cachetools<5.0,>=2.0.0 in /usr/local/lib/python3.7/dist-packages (from google-auth<2,>=1.6.3->tensorboard~=2.4->tensorflow) (4.2.1)\n",
            "Requirement already satisfied: zipp>=0.5 in /usr/local/lib/python3.7/dist-packages (from importlib-metadata; python_version < \"3.8\"->markdown>=2.6.8->tensorboard~=2.4->tensorflow) (3.4.1)\n",
            "Requirement already satisfied: oauthlib>=3.0.0 in /usr/local/lib/python3.7/dist-packages (from requests-oauthlib>=0.7.0->google-auth-oauthlib<0.5,>=0.4.1->tensorboard~=2.4->tensorflow) (3.1.0)\n",
            "Requirement already satisfied: pyasn1>=0.1.3 in /usr/local/lib/python3.7/dist-packages (from rsa<5,>=3.1.4; python_version >= \"3.6\"->google-auth<2,>=1.6.3->tensorboard~=2.4->tensorflow) (0.4.8)\n"
          ],
          "name": "stdout"
        }
      ]
    },
    {
      "cell_type": "markdown",
      "metadata": {
        "id": "ncvsJ9bTCU0q"
      },
      "source": [
        "## 필요한 라이브러리를 불러오기(Import)"
      ]
    },
    {
      "cell_type": "code",
      "metadata": {
        "id": "gwS3PZc87mi5"
      },
      "source": [
        "# 데이터 전처리에 사용하는 라이브러리\n",
        "import numpy as np\n",
        "import pandas as pd\n",
        "\n",
        "# 데이터를 시각적으로 표현하는데 사용하는 라이브러리\n",
        "import matplotlib.pyplot as plt\n",
        "\n",
        "# 선형회귀분석에 사용하는 머신러닝 라이브러리\n",
        "from sklearn.linear_model import LinearRegression\n",
        "\n",
        "# 서포트 벡터 머신에 사용되는 머신러닝 라이브러리\n",
        "from sklearn import svm\n",
        "\n",
        "# 결정 트리 모형에 사용되는 머신러닝 라이브러리\n",
        "from sklearn.tree import DecisionTreeRegressor\n",
        "\n",
        "# 뉴럴 네트워크에 사용되는 라이브러리\n",
        "from tensorflow.keras.models import Sequential\n",
        "from tensorflow.keras.layers import Dense, Flatten, Conv1D, MaxPooling1D"
      ],
      "execution_count": 49,
      "outputs": []
    },
    {
      "cell_type": "markdown",
      "metadata": {
        "id": "MC7XpEfOCrjF"
      },
      "source": [
        "## Dataset \n",
        "\n",
        "### Crude Oil Brent 가격 : 1987년 5월 20일\t ~ 2019년 12월 31일\n",
        "### 3개월 Treasury Bill: Secondary Market Rate : 1987년 5월 20일\t ~ 2019년 12월 31일"
      ]
    },
    {
      "cell_type": "code",
      "metadata": {
        "id": "shyhSYDM7SSn",
        "colab": {
          "base_uri": "https://localhost:8080/",
          "height": 235
        },
        "outputId": "0d8c60e8-9535-4c2b-e6f9-42e42052511c"
      },
      "source": [
        "# 깃허브에서 저장되어있는 데이터 불러오기\n",
        "url = 'https://raw.githubusercontent.com/data-science-lab/predicting-oil-prices/main/01_Data/data.csv'\n",
        "dataset = pd.read_csv(url, index_col=\"Date\", parse_dates=[\"Date\"])\n",
        "dataset.head()"
      ],
      "execution_count": 50,
      "outputs": [
        {
          "output_type": "execute_result",
          "data": {
            "text/html": [
              "<div>\n",
              "<style scoped>\n",
              "    .dataframe tbody tr th:only-of-type {\n",
              "        vertical-align: middle;\n",
              "    }\n",
              "\n",
              "    .dataframe tbody tr th {\n",
              "        vertical-align: top;\n",
              "    }\n",
              "\n",
              "    .dataframe thead th {\n",
              "        text-align: right;\n",
              "    }\n",
              "</style>\n",
              "<table border=\"1\" class=\"dataframe\">\n",
              "  <thead>\n",
              "    <tr style=\"text-align: right;\">\n",
              "      <th></th>\n",
              "      <th>Oil_price</th>\n",
              "      <th>DTB3_rate</th>\n",
              "    </tr>\n",
              "    <tr>\n",
              "      <th>Date</th>\n",
              "      <th></th>\n",
              "      <th></th>\n",
              "    </tr>\n",
              "  </thead>\n",
              "  <tbody>\n",
              "    <tr>\n",
              "      <th>1987-05-20</th>\n",
              "      <td>18.63</td>\n",
              "      <td>0.0569</td>\n",
              "    </tr>\n",
              "    <tr>\n",
              "      <th>1987-05-21</th>\n",
              "      <td>18.45</td>\n",
              "      <td>0.0553</td>\n",
              "    </tr>\n",
              "    <tr>\n",
              "      <th>1987-05-22</th>\n",
              "      <td>18.55</td>\n",
              "      <td>0.0555</td>\n",
              "    </tr>\n",
              "    <tr>\n",
              "      <th>1987-05-25</th>\n",
              "      <td>18.60</td>\n",
              "      <td>0.0555</td>\n",
              "    </tr>\n",
              "    <tr>\n",
              "      <th>1987-05-26</th>\n",
              "      <td>18.63</td>\n",
              "      <td>0.0561</td>\n",
              "    </tr>\n",
              "  </tbody>\n",
              "</table>\n",
              "</div>"
            ],
            "text/plain": [
              "            Oil_price  DTB3_rate\n",
              "Date                            \n",
              "1987-05-20      18.63     0.0569\n",
              "1987-05-21      18.45     0.0553\n",
              "1987-05-22      18.55     0.0555\n",
              "1987-05-25      18.60     0.0555\n",
              "1987-05-26      18.63     0.0561"
            ]
          },
          "metadata": {
            "tags": []
          },
          "execution_count": 50
        }
      ]
    },
    {
      "cell_type": "code",
      "metadata": {
        "colab": {
          "base_uri": "https://localhost:8080/",
          "height": 235
        },
        "id": "BiK-LFS-2ApY",
        "outputId": "2ebafec4-053d-4156-88d8-dfffb5dd8e16"
      },
      "source": [
        "## 로그 수익률 계산\n",
        "log_return = np.log(dataset['Oil_price'])\n",
        "log_return = log_return.diff(1)\n",
        "dataset['Oil_log_return'] = log_return\n",
        "dataset = dataset[[\"Oil_price\", \"Oil_log_return\", \"DTB3_rate\"]]  ## 열의 순서를 재배치\n",
        "dataset.head()"
      ],
      "execution_count": 51,
      "outputs": [
        {
          "output_type": "execute_result",
          "data": {
            "text/html": [
              "<div>\n",
              "<style scoped>\n",
              "    .dataframe tbody tr th:only-of-type {\n",
              "        vertical-align: middle;\n",
              "    }\n",
              "\n",
              "    .dataframe tbody tr th {\n",
              "        vertical-align: top;\n",
              "    }\n",
              "\n",
              "    .dataframe thead th {\n",
              "        text-align: right;\n",
              "    }\n",
              "</style>\n",
              "<table border=\"1\" class=\"dataframe\">\n",
              "  <thead>\n",
              "    <tr style=\"text-align: right;\">\n",
              "      <th></th>\n",
              "      <th>Oil_price</th>\n",
              "      <th>Oil_log_return</th>\n",
              "      <th>DTB3_rate</th>\n",
              "    </tr>\n",
              "    <tr>\n",
              "      <th>Date</th>\n",
              "      <th></th>\n",
              "      <th></th>\n",
              "      <th></th>\n",
              "    </tr>\n",
              "  </thead>\n",
              "  <tbody>\n",
              "    <tr>\n",
              "      <th>1987-05-20</th>\n",
              "      <td>18.63</td>\n",
              "      <td>NaN</td>\n",
              "      <td>0.0569</td>\n",
              "    </tr>\n",
              "    <tr>\n",
              "      <th>1987-05-21</th>\n",
              "      <td>18.45</td>\n",
              "      <td>-0.009709</td>\n",
              "      <td>0.0553</td>\n",
              "    </tr>\n",
              "    <tr>\n",
              "      <th>1987-05-22</th>\n",
              "      <td>18.55</td>\n",
              "      <td>0.005405</td>\n",
              "      <td>0.0555</td>\n",
              "    </tr>\n",
              "    <tr>\n",
              "      <th>1987-05-25</th>\n",
              "      <td>18.60</td>\n",
              "      <td>0.002692</td>\n",
              "      <td>0.0555</td>\n",
              "    </tr>\n",
              "    <tr>\n",
              "      <th>1987-05-26</th>\n",
              "      <td>18.63</td>\n",
              "      <td>0.001612</td>\n",
              "      <td>0.0561</td>\n",
              "    </tr>\n",
              "  </tbody>\n",
              "</table>\n",
              "</div>"
            ],
            "text/plain": [
              "            Oil_price  Oil_log_return  DTB3_rate\n",
              "Date                                            \n",
              "1987-05-20      18.63             NaN     0.0569\n",
              "1987-05-21      18.45       -0.009709     0.0553\n",
              "1987-05-22      18.55        0.005405     0.0555\n",
              "1987-05-25      18.60        0.002692     0.0555\n",
              "1987-05-26      18.63        0.001612     0.0561"
            ]
          },
          "metadata": {
            "tags": []
          },
          "execution_count": 51
        }
      ]
    },
    {
      "cell_type": "markdown",
      "metadata": {
        "id": "Kfnagu3zEJDz"
      },
      "source": [
        "## 시각화 : 데이터 플롯팅(Plotting)"
      ]
    },
    {
      "cell_type": "code",
      "metadata": {
        "colab": {
          "base_uri": "https://localhost:8080/",
          "height": 335
        },
        "id": "1Yc-2GsPC5ny",
        "outputId": "00c7eb6c-2760-4df0-eb5d-51c0e005f424"
      },
      "source": [
        "# Y축 이름 설정\n",
        "plt.ylabel(\"Crude Oil Prices: Brent - Europe\")\n",
        "\n",
        "# 그래프 사이즈 설정\n",
        "dataset.Oil_price.plot(figsize=(10,5))"
      ],
      "execution_count": 52,
      "outputs": [
        {
          "output_type": "execute_result",
          "data": {
            "text/plain": [
              "<matplotlib.axes._subplots.AxesSubplot at 0x7fe3ac8b4ed0>"
            ]
          },
          "metadata": {
            "tags": []
          },
          "execution_count": 52
        },
        {
          "output_type": "display_data",
          "data": {
            "image/png": "[encoded data removed]",
            "text/plain": [
              "<Figure size 720x360 with 1 Axes>"
            ]
          },
          "metadata": {
            "tags": [],
            "needs_background": "light"
          }
        }
      ]
    },
    {
      "cell_type": "code",
      "metadata": {
        "colab": {
          "base_uri": "https://localhost:8080/",
          "height": 335
        },
        "id": "6UykpI2o1mxP",
        "outputId": "4b9abfec-2dfe-4bd3-fe8a-7a44647dfc14"
      },
      "source": [
        "# Y축 이름 설정\n",
        "plt.ylabel(\"3-Month Treasury Bill: Secondary Market Rate\")\n",
        "\n",
        "# 그래프 사이즈 설정\n",
        "dataset.DTB3_rate.plot(figsize=(10,5))"
      ],
      "execution_count": 53,
      "outputs": [
        {
          "output_type": "execute_result",
          "data": {
            "text/plain": [
              "<matplotlib.axes._subplots.AxesSubplot at 0x7fe3b5363910>"
            ]
          },
          "metadata": {
            "tags": []
          },
          "execution_count": 53
        },
        {
          "output_type": "display_data",
          "data": {
            "image/png": "[encoded data removed]",
            "text/plain": [
              "<Figure size 720x360 with 1 Axes>"
            ]
          },
          "metadata": {
            "tags": [],
            "needs_background": "light"
          }
        }
      ]
    },
    {
      "cell_type": "markdown",
      "metadata": {
        "id": "1VNZy4p8EXus"
      },
      "source": [
        "## 설명변수 정의 — 오일 가격을 예측하는데 사용하는 특징들(the features) \n",
        "\n",
        "### 1) 과거 1일 ~ 10일의 이동평균 \n",
        "### 2) 이동평균 * 3개월 Treasury Bill"
      ]
    },
    {
      "cell_type": "code",
      "metadata": {
        "id": "vNjWFrpPC5lZ"
      },
      "source": [
        "# 설명변수 만들기\n",
        "dataset['MA1'] = dataset['Oil_price'].shift(1).rolling(window=1).mean()\n",
        "dataset['MA2'] = dataset['Oil_price'].shift(1).rolling(window=2).mean()\n",
        "dataset['MA3'] = dataset['Oil_price'].shift(1).rolling(window=3).mean()\n",
        "dataset['MA4'] = dataset['Oil_price'].shift(1).rolling(window=4).mean()\n",
        "dataset['MA5'] = dataset['Oil_price'].shift(1).rolling(window=5).mean()\n",
        "dataset['MA6'] = dataset['Oil_price'].shift(1).rolling(window=6).mean()\n",
        "dataset['MA7'] = dataset['Oil_price'].shift(1).rolling(window=7).mean()\n",
        "dataset['MA8'] = dataset['Oil_price'].shift(1).rolling(window=8).mean()\n",
        "dataset['MA9'] = dataset['Oil_price'].shift(1).rolling(window=9).mean()\n",
        "dataset['MA10'] = dataset['Oil_price'].shift(1).rolling(window=10).mean()\n",
        "dataset['MA1_DTB3'] = dataset[\"MA1\"]*dataset['DTB3_rate']\n",
        "dataset['MA2_DTB3'] = dataset[\"MA2\"]*dataset['DTB3_rate']\n",
        "dataset['MA3_DTB3'] = dataset[\"MA3\"]*dataset['DTB3_rate']\n",
        "dataset['MA4_DTB3'] = dataset[\"MA4\"]*dataset['DTB3_rate']\n",
        "dataset['MA5_DTB3'] = dataset[\"MA5\"]*dataset['DTB3_rate']\n",
        "dataset['MA6_DTB3'] = dataset[\"MA6\"]*dataset['DTB3_rate']\n",
        "dataset['MA7_DTB3'] = dataset[\"MA7\"]*dataset['DTB3_rate']\n",
        "dataset['MA8_DTB3'] = dataset[\"MA8\"]*dataset['DTB3_rate']\n",
        "dataset['MA9_DTB3'] = dataset[\"MA9\"]*dataset['DTB3_rate']\n",
        "dataset['MA10_DTB3'] = dataset[\"MA10\"]*dataset['DTB3_rate']"
      ],
      "execution_count": 54,
      "outputs": []
    },
    {
      "cell_type": "code",
      "metadata": {
        "colab": {
          "base_uri": "https://localhost:8080/",
          "height": 235
        },
        "id": "vBM7-dli4dzZ",
        "outputId": "aef6cd56-33da-47f6-9116-c05a06a4340b"
      },
      "source": [
        "dataset.head()"
      ],
      "execution_count": 55,
      "outputs": [
        {
          "output_type": "execute_result",
          "data": {
            "text/html": [
              "<div>\n",
              "<style scoped>\n",
              "    .dataframe tbody tr th:only-of-type {\n",
              "        vertical-align: middle;\n",
              "    }\n",
              "\n",
              "    .dataframe tbody tr th {\n",
              "        vertical-align: top;\n",
              "    }\n",
              "\n",
              "    .dataframe thead th {\n",
              "        text-align: right;\n",
              "    }\n",
              "</style>\n",
              "<table border=\"1\" class=\"dataframe\">\n",
              "  <thead>\n",
              "    <tr style=\"text-align: right;\">\n",
              "      <th></th>\n",
              "      <th>Oil_price</th>\n",
              "      <th>Oil_log_return</th>\n",
              "      <th>DTB3_rate</th>\n",
              "      <th>MA1</th>\n",
              "      <th>MA2</th>\n",
              "      <th>MA3</th>\n",
              "      <th>MA4</th>\n",
              "      <th>MA5</th>\n",
              "      <th>MA6</th>\n",
              "      <th>MA7</th>\n",
              "      <th>MA8</th>\n",
              "      <th>MA9</th>\n",
              "      <th>MA10</th>\n",
              "      <th>MA1_DTB3</th>\n",
              "      <th>MA2_DTB3</th>\n",
              "      <th>MA3_DTB3</th>\n",
              "      <th>MA4_DTB3</th>\n",
              "      <th>MA5_DTB3</th>\n",
              "      <th>MA6_DTB3</th>\n",
              "      <th>MA7_DTB3</th>\n",
              "      <th>MA8_DTB3</th>\n",
              "      <th>MA9_DTB3</th>\n",
              "      <th>MA10_DTB3</th>\n",
              "    </tr>\n",
              "    <tr>\n",
              "      <th>Date</th>\n",
              "      <th></th>\n",
              "      <th></th>\n",
              "      <th></th>\n",
              "      <th></th>\n",
              "      <th></th>\n",
              "      <th></th>\n",
              "      <th></th>\n",
              "      <th></th>\n",
              "      <th></th>\n",
              "      <th></th>\n",
              "      <th></th>\n",
              "      <th></th>\n",
              "      <th></th>\n",
              "      <th></th>\n",
              "      <th></th>\n",
              "      <th></th>\n",
              "      <th></th>\n",
              "      <th></th>\n",
              "      <th></th>\n",
              "      <th></th>\n",
              "      <th></th>\n",
              "      <th></th>\n",
              "      <th></th>\n",
              "    </tr>\n",
              "  </thead>\n",
              "  <tbody>\n",
              "    <tr>\n",
              "      <th>1987-05-20</th>\n",
              "      <td>18.63</td>\n",
              "      <td>NaN</td>\n",
              "      <td>0.0569</td>\n",
              "      <td>NaN</td>\n",
              "      <td>NaN</td>\n",
              "      <td>NaN</td>\n",
              "      <td>NaN</td>\n",
              "      <td>NaN</td>\n",
              "      <td>NaN</td>\n",
              "      <td>NaN</td>\n",
              "      <td>NaN</td>\n",
              "      <td>NaN</td>\n",
              "      <td>NaN</td>\n",
              "      <td>NaN</td>\n",
              "      <td>NaN</td>\n",
              "      <td>NaN</td>\n",
              "      <td>NaN</td>\n",
              "      <td>NaN</td>\n",
              "      <td>NaN</td>\n",
              "      <td>NaN</td>\n",
              "      <td>NaN</td>\n",
              "      <td>NaN</td>\n",
              "      <td>NaN</td>\n",
              "    </tr>\n",
              "    <tr>\n",
              "      <th>1987-05-21</th>\n",
              "      <td>18.45</td>\n",
              "      <td>-0.009709</td>\n",
              "      <td>0.0553</td>\n",
              "      <td>18.63</td>\n",
              "      <td>NaN</td>\n",
              "      <td>NaN</td>\n",
              "      <td>NaN</td>\n",
              "      <td>NaN</td>\n",
              "      <td>NaN</td>\n",
              "      <td>NaN</td>\n",
              "      <td>NaN</td>\n",
              "      <td>NaN</td>\n",
              "      <td>NaN</td>\n",
              "      <td>1.030239</td>\n",
              "      <td>NaN</td>\n",
              "      <td>NaN</td>\n",
              "      <td>NaN</td>\n",
              "      <td>NaN</td>\n",
              "      <td>NaN</td>\n",
              "      <td>NaN</td>\n",
              "      <td>NaN</td>\n",
              "      <td>NaN</td>\n",
              "      <td>NaN</td>\n",
              "    </tr>\n",
              "    <tr>\n",
              "      <th>1987-05-22</th>\n",
              "      <td>18.55</td>\n",
              "      <td>0.005405</td>\n",
              "      <td>0.0555</td>\n",
              "      <td>18.45</td>\n",
              "      <td>18.540</td>\n",
              "      <td>NaN</td>\n",
              "      <td>NaN</td>\n",
              "      <td>NaN</td>\n",
              "      <td>NaN</td>\n",
              "      <td>NaN</td>\n",
              "      <td>NaN</td>\n",
              "      <td>NaN</td>\n",
              "      <td>NaN</td>\n",
              "      <td>1.023975</td>\n",
              "      <td>1.028970</td>\n",
              "      <td>NaN</td>\n",
              "      <td>NaN</td>\n",
              "      <td>NaN</td>\n",
              "      <td>NaN</td>\n",
              "      <td>NaN</td>\n",
              "      <td>NaN</td>\n",
              "      <td>NaN</td>\n",
              "      <td>NaN</td>\n",
              "    </tr>\n",
              "    <tr>\n",
              "      <th>1987-05-25</th>\n",
              "      <td>18.60</td>\n",
              "      <td>0.002692</td>\n",
              "      <td>0.0555</td>\n",
              "      <td>18.55</td>\n",
              "      <td>18.500</td>\n",
              "      <td>18.543333</td>\n",
              "      <td>NaN</td>\n",
              "      <td>NaN</td>\n",
              "      <td>NaN</td>\n",
              "      <td>NaN</td>\n",
              "      <td>NaN</td>\n",
              "      <td>NaN</td>\n",
              "      <td>NaN</td>\n",
              "      <td>1.029525</td>\n",
              "      <td>1.026750</td>\n",
              "      <td>1.029155</td>\n",
              "      <td>NaN</td>\n",
              "      <td>NaN</td>\n",
              "      <td>NaN</td>\n",
              "      <td>NaN</td>\n",
              "      <td>NaN</td>\n",
              "      <td>NaN</td>\n",
              "      <td>NaN</td>\n",
              "    </tr>\n",
              "    <tr>\n",
              "      <th>1987-05-26</th>\n",
              "      <td>18.63</td>\n",
              "      <td>0.001612</td>\n",
              "      <td>0.0561</td>\n",
              "      <td>18.60</td>\n",
              "      <td>18.575</td>\n",
              "      <td>18.533333</td>\n",
              "      <td>18.5575</td>\n",
              "      <td>NaN</td>\n",
              "      <td>NaN</td>\n",
              "      <td>NaN</td>\n",
              "      <td>NaN</td>\n",
              "      <td>NaN</td>\n",
              "      <td>NaN</td>\n",
              "      <td>1.043460</td>\n",
              "      <td>1.042058</td>\n",
              "      <td>1.039720</td>\n",
              "      <td>1.041076</td>\n",
              "      <td>NaN</td>\n",
              "      <td>NaN</td>\n",
              "      <td>NaN</td>\n",
              "      <td>NaN</td>\n",
              "      <td>NaN</td>\n",
              "      <td>NaN</td>\n",
              "    </tr>\n",
              "  </tbody>\n",
              "</table>\n",
              "</div>"
            ],
            "text/plain": [
              "            Oil_price  Oil_log_return  DTB3_rate  ...  MA8_DTB3  MA9_DTB3  MA10_DTB3\n",
              "Date                                              ...                               \n",
              "1987-05-20      18.63             NaN     0.0569  ...       NaN       NaN        NaN\n",
              "1987-05-21      18.45       -0.009709     0.0553  ...       NaN       NaN        NaN\n",
              "1987-05-22      18.55        0.005405     0.0555  ...       NaN       NaN        NaN\n",
              "1987-05-25      18.60        0.002692     0.0555  ...       NaN       NaN        NaN\n",
              "1987-05-26      18.63        0.001612     0.0561  ...       NaN       NaN        NaN\n",
              "\n",
              "[5 rows x 23 columns]"
            ]
          },
          "metadata": {
            "tags": []
          },
          "execution_count": 55
        }
      ]
    },
    {
      "cell_type": "code",
      "metadata": {
        "colab": {
          "base_uri": "https://localhost:8080/",
          "height": 235
        },
        "id": "QtbjeuMEC5i4",
        "outputId": "82150d24-1551-421e-ebb6-2b8ec0a4de7b"
      },
      "source": [
        "# NaN 값을 제거\n",
        "dataset = dataset.dropna()\n",
        "dataset.head()"
      ],
      "execution_count": 56,
      "outputs": [
        {
          "output_type": "execute_result",
          "data": {
            "text/html": [
              "<div>\n",
              "<style scoped>\n",
              "    .dataframe tbody tr th:only-of-type {\n",
              "        vertical-align: middle;\n",
              "    }\n",
              "\n",
              "    .dataframe tbody tr th {\n",
              "        vertical-align: top;\n",
              "    }\n",
              "\n",
              "    .dataframe thead th {\n",
              "        text-align: right;\n",
              "    }\n",
              "</style>\n",
              "<table border=\"1\" class=\"dataframe\">\n",
              "  <thead>\n",
              "    <tr style=\"text-align: right;\">\n",
              "      <th></th>\n",
              "      <th>Oil_price</th>\n",
              "      <th>Oil_log_return</th>\n",
              "      <th>DTB3_rate</th>\n",
              "      <th>MA1</th>\n",
              "      <th>MA2</th>\n",
              "      <th>MA3</th>\n",
              "      <th>MA4</th>\n",
              "      <th>MA5</th>\n",
              "      <th>MA6</th>\n",
              "      <th>MA7</th>\n",
              "      <th>MA8</th>\n",
              "      <th>MA9</th>\n",
              "      <th>MA10</th>\n",
              "      <th>MA1_DTB3</th>\n",
              "      <th>MA2_DTB3</th>\n",
              "      <th>MA3_DTB3</th>\n",
              "      <th>MA4_DTB3</th>\n",
              "      <th>MA5_DTB3</th>\n",
              "      <th>MA6_DTB3</th>\n",
              "      <th>MA7_DTB3</th>\n",
              "      <th>MA8_DTB3</th>\n",
              "      <th>MA9_DTB3</th>\n",
              "      <th>MA10_DTB3</th>\n",
              "    </tr>\n",
              "    <tr>\n",
              "      <th>Date</th>\n",
              "      <th></th>\n",
              "      <th></th>\n",
              "      <th></th>\n",
              "      <th></th>\n",
              "      <th></th>\n",
              "      <th></th>\n",
              "      <th></th>\n",
              "      <th></th>\n",
              "      <th></th>\n",
              "      <th></th>\n",
              "      <th></th>\n",
              "      <th></th>\n",
              "      <th></th>\n",
              "      <th></th>\n",
              "      <th></th>\n",
              "      <th></th>\n",
              "      <th></th>\n",
              "      <th></th>\n",
              "      <th></th>\n",
              "      <th></th>\n",
              "      <th></th>\n",
              "      <th></th>\n",
              "      <th></th>\n",
              "    </tr>\n",
              "  </thead>\n",
              "  <tbody>\n",
              "    <tr>\n",
              "      <th>1987-06-03</th>\n",
              "      <td>18.75</td>\n",
              "      <td>0.003740</td>\n",
              "      <td>0.0569</td>\n",
              "      <td>18.68</td>\n",
              "      <td>18.665</td>\n",
              "      <td>18.636667</td>\n",
              "      <td>18.6275</td>\n",
              "      <td>18.622</td>\n",
              "      <td>18.623333</td>\n",
              "      <td>18.620000</td>\n",
              "      <td>18.61125</td>\n",
              "      <td>18.593333</td>\n",
              "      <td>18.597</td>\n",
              "      <td>1.062892</td>\n",
              "      <td>1.062038</td>\n",
              "      <td>1.060426</td>\n",
              "      <td>1.059905</td>\n",
              "      <td>1.059592</td>\n",
              "      <td>1.059668</td>\n",
              "      <td>1.059478</td>\n",
              "      <td>1.058980</td>\n",
              "      <td>1.057961</td>\n",
              "      <td>1.058169</td>\n",
              "    </tr>\n",
              "    <tr>\n",
              "      <th>1987-06-04</th>\n",
              "      <td>18.78</td>\n",
              "      <td>0.001599</td>\n",
              "      <td>0.0566</td>\n",
              "      <td>18.75</td>\n",
              "      <td>18.715</td>\n",
              "      <td>18.693333</td>\n",
              "      <td>18.6650</td>\n",
              "      <td>18.652</td>\n",
              "      <td>18.643333</td>\n",
              "      <td>18.641429</td>\n",
              "      <td>18.63625</td>\n",
              "      <td>18.626667</td>\n",
              "      <td>18.609</td>\n",
              "      <td>1.061250</td>\n",
              "      <td>1.059269</td>\n",
              "      <td>1.058043</td>\n",
              "      <td>1.056439</td>\n",
              "      <td>1.055703</td>\n",
              "      <td>1.055213</td>\n",
              "      <td>1.055105</td>\n",
              "      <td>1.054812</td>\n",
              "      <td>1.054269</td>\n",
              "      <td>1.053269</td>\n",
              "    </tr>\n",
              "    <tr>\n",
              "      <th>1987-06-05</th>\n",
              "      <td>18.65</td>\n",
              "      <td>-0.006946</td>\n",
              "      <td>0.0568</td>\n",
              "      <td>18.78</td>\n",
              "      <td>18.765</td>\n",
              "      <td>18.736667</td>\n",
              "      <td>18.7150</td>\n",
              "      <td>18.688</td>\n",
              "      <td>18.673333</td>\n",
              "      <td>18.662857</td>\n",
              "      <td>18.65875</td>\n",
              "      <td>18.652222</td>\n",
              "      <td>18.642</td>\n",
              "      <td>1.066704</td>\n",
              "      <td>1.065852</td>\n",
              "      <td>1.064243</td>\n",
              "      <td>1.063012</td>\n",
              "      <td>1.061478</td>\n",
              "      <td>1.060645</td>\n",
              "      <td>1.060050</td>\n",
              "      <td>1.059817</td>\n",
              "      <td>1.059446</td>\n",
              "      <td>1.058866</td>\n",
              "    </tr>\n",
              "    <tr>\n",
              "      <th>1987-06-08</th>\n",
              "      <td>18.75</td>\n",
              "      <td>0.005348</td>\n",
              "      <td>0.0566</td>\n",
              "      <td>18.65</td>\n",
              "      <td>18.715</td>\n",
              "      <td>18.726667</td>\n",
              "      <td>18.7150</td>\n",
              "      <td>18.702</td>\n",
              "      <td>18.681667</td>\n",
              "      <td>18.670000</td>\n",
              "      <td>18.66125</td>\n",
              "      <td>18.657778</td>\n",
              "      <td>18.652</td>\n",
              "      <td>1.055590</td>\n",
              "      <td>1.059269</td>\n",
              "      <td>1.059929</td>\n",
              "      <td>1.059269</td>\n",
              "      <td>1.058533</td>\n",
              "      <td>1.057382</td>\n",
              "      <td>1.056722</td>\n",
              "      <td>1.056227</td>\n",
              "      <td>1.056030</td>\n",
              "      <td>1.055703</td>\n",
              "    </tr>\n",
              "    <tr>\n",
              "      <th>1987-06-09</th>\n",
              "      <td>18.78</td>\n",
              "      <td>0.001599</td>\n",
              "      <td>0.0551</td>\n",
              "      <td>18.75</td>\n",
              "      <td>18.700</td>\n",
              "      <td>18.726667</td>\n",
              "      <td>18.7325</td>\n",
              "      <td>18.722</td>\n",
              "      <td>18.710000</td>\n",
              "      <td>18.691429</td>\n",
              "      <td>18.68000</td>\n",
              "      <td>18.671111</td>\n",
              "      <td>18.667</td>\n",
              "      <td>1.033125</td>\n",
              "      <td>1.030370</td>\n",
              "      <td>1.031839</td>\n",
              "      <td>1.032161</td>\n",
              "      <td>1.031582</td>\n",
              "      <td>1.030921</td>\n",
              "      <td>1.029898</td>\n",
              "      <td>1.029268</td>\n",
              "      <td>1.028778</td>\n",
              "      <td>1.028552</td>\n",
              "    </tr>\n",
              "  </tbody>\n",
              "</table>\n",
              "</div>"
            ],
            "text/plain": [
              "            Oil_price  Oil_log_return  DTB3_rate  ...  MA8_DTB3  MA9_DTB3  MA10_DTB3\n",
              "Date                                              ...                               \n",
              "1987-06-03      18.75        0.003740     0.0569  ...  1.058980  1.057961   1.058169\n",
              "1987-06-04      18.78        0.001599     0.0566  ...  1.054812  1.054269   1.053269\n",
              "1987-06-05      18.65       -0.006946     0.0568  ...  1.059817  1.059446   1.058866\n",
              "1987-06-08      18.75        0.005348     0.0566  ...  1.056227  1.056030   1.055703\n",
              "1987-06-09      18.78        0.001599     0.0551  ...  1.029268  1.028778   1.028552\n",
              "\n",
              "[5 rows x 23 columns]"
            ]
          },
          "metadata": {
            "tags": []
          },
          "execution_count": 56
        }
      ]
    },
    {
      "cell_type": "code",
      "metadata": {
        "colab": {
          "base_uri": "https://localhost:8080/",
          "height": 235
        },
        "id": "wDwmFkpakFdJ",
        "outputId": "6cd208b8-a976-4df6-9c25-6646070b3519"
      },
      "source": [
        "# 샘플 데이터의 시작일과 종료일을 선택\n",
        "start_date = \"1987-06-03\" \n",
        "end_date = \"2019-12-31\"\n",
        "\n",
        "data = dataset.loc[start_date:end_date,:].copy()\n",
        "data.head()"
      ],
      "execution_count": 57,
      "outputs": [
        {
          "output_type": "execute_result",
          "data": {
            "text/html": [
              "<div>\n",
              "<style scoped>\n",
              "    .dataframe tbody tr th:only-of-type {\n",
              "        vertical-align: middle;\n",
              "    }\n",
              "\n",
              "    .dataframe tbody tr th {\n",
              "        vertical-align: top;\n",
              "    }\n",
              "\n",
              "    .dataframe thead th {\n",
              "        text-align: right;\n",
              "    }\n",
              "</style>\n",
              "<table border=\"1\" class=\"dataframe\">\n",
              "  <thead>\n",
              "    <tr style=\"text-align: right;\">\n",
              "      <th></th>\n",
              "      <th>Oil_price</th>\n",
              "      <th>Oil_log_return</th>\n",
              "      <th>DTB3_rate</th>\n",
              "      <th>MA1</th>\n",
              "      <th>MA2</th>\n",
              "      <th>MA3</th>\n",
              "      <th>MA4</th>\n",
              "      <th>MA5</th>\n",
              "      <th>MA6</th>\n",
              "      <th>MA7</th>\n",
              "      <th>MA8</th>\n",
              "      <th>MA9</th>\n",
              "      <th>MA10</th>\n",
              "      <th>MA1_DTB3</th>\n",
              "      <th>MA2_DTB3</th>\n",
              "      <th>MA3_DTB3</th>\n",
              "      <th>MA4_DTB3</th>\n",
              "      <th>MA5_DTB3</th>\n",
              "      <th>MA6_DTB3</th>\n",
              "      <th>MA7_DTB3</th>\n",
              "      <th>MA8_DTB3</th>\n",
              "      <th>MA9_DTB3</th>\n",
              "      <th>MA10_DTB3</th>\n",
              "    </tr>\n",
              "    <tr>\n",
              "      <th>Date</th>\n",
              "      <th></th>\n",
              "      <th></th>\n",
              "      <th></th>\n",
              "      <th></th>\n",
              "      <th></th>\n",
              "      <th></th>\n",
              "      <th></th>\n",
              "      <th></th>\n",
              "      <th></th>\n",
              "      <th></th>\n",
              "      <th></th>\n",
              "      <th></th>\n",
              "      <th></th>\n",
              "      <th></th>\n",
              "      <th></th>\n",
              "      <th></th>\n",
              "      <th></th>\n",
              "      <th></th>\n",
              "      <th></th>\n",
              "      <th></th>\n",
              "      <th></th>\n",
              "      <th></th>\n",
              "      <th></th>\n",
              "    </tr>\n",
              "  </thead>\n",
              "  <tbody>\n",
              "    <tr>\n",
              "      <th>1987-06-03</th>\n",
              "      <td>18.75</td>\n",
              "      <td>0.003740</td>\n",
              "      <td>0.0569</td>\n",
              "      <td>18.68</td>\n",
              "      <td>18.665</td>\n",
              "      <td>18.636667</td>\n",
              "      <td>18.6275</td>\n",
              "      <td>18.622</td>\n",
              "      <td>18.623333</td>\n",
              "      <td>18.620000</td>\n",
              "      <td>18.61125</td>\n",
              "      <td>18.593333</td>\n",
              "      <td>18.597</td>\n",
              "      <td>1.062892</td>\n",
              "      <td>1.062038</td>\n",
              "      <td>1.060426</td>\n",
              "      <td>1.059905</td>\n",
              "      <td>1.059592</td>\n",
              "      <td>1.059668</td>\n",
              "      <td>1.059478</td>\n",
              "      <td>1.058980</td>\n",
              "      <td>1.057961</td>\n",
              "      <td>1.058169</td>\n",
              "    </tr>\n",
              "    <tr>\n",
              "      <th>1987-06-04</th>\n",
              "      <td>18.78</td>\n",
              "      <td>0.001599</td>\n",
              "      <td>0.0566</td>\n",
              "      <td>18.75</td>\n",
              "      <td>18.715</td>\n",
              "      <td>18.693333</td>\n",
              "      <td>18.6650</td>\n",
              "      <td>18.652</td>\n",
              "      <td>18.643333</td>\n",
              "      <td>18.641429</td>\n",
              "      <td>18.63625</td>\n",
              "      <td>18.626667</td>\n",
              "      <td>18.609</td>\n",
              "      <td>1.061250</td>\n",
              "      <td>1.059269</td>\n",
              "      <td>1.058043</td>\n",
              "      <td>1.056439</td>\n",
              "      <td>1.055703</td>\n",
              "      <td>1.055213</td>\n",
              "      <td>1.055105</td>\n",
              "      <td>1.054812</td>\n",
              "      <td>1.054269</td>\n",
              "      <td>1.053269</td>\n",
              "    </tr>\n",
              "    <tr>\n",
              "      <th>1987-06-05</th>\n",
              "      <td>18.65</td>\n",
              "      <td>-0.006946</td>\n",
              "      <td>0.0568</td>\n",
              "      <td>18.78</td>\n",
              "      <td>18.765</td>\n",
              "      <td>18.736667</td>\n",
              "      <td>18.7150</td>\n",
              "      <td>18.688</td>\n",
              "      <td>18.673333</td>\n",
              "      <td>18.662857</td>\n",
              "      <td>18.65875</td>\n",
              "      <td>18.652222</td>\n",
              "      <td>18.642</td>\n",
              "      <td>1.066704</td>\n",
              "      <td>1.065852</td>\n",
              "      <td>1.064243</td>\n",
              "      <td>1.063012</td>\n",
              "      <td>1.061478</td>\n",
              "      <td>1.060645</td>\n",
              "      <td>1.060050</td>\n",
              "      <td>1.059817</td>\n",
              "      <td>1.059446</td>\n",
              "      <td>1.058866</td>\n",
              "    </tr>\n",
              "    <tr>\n",
              "      <th>1987-06-08</th>\n",
              "      <td>18.75</td>\n",
              "      <td>0.005348</td>\n",
              "      <td>0.0566</td>\n",
              "      <td>18.65</td>\n",
              "      <td>18.715</td>\n",
              "      <td>18.726667</td>\n",
              "      <td>18.7150</td>\n",
              "      <td>18.702</td>\n",
              "      <td>18.681667</td>\n",
              "      <td>18.670000</td>\n",
              "      <td>18.66125</td>\n",
              "      <td>18.657778</td>\n",
              "      <td>18.652</td>\n",
              "      <td>1.055590</td>\n",
              "      <td>1.059269</td>\n",
              "      <td>1.059929</td>\n",
              "      <td>1.059269</td>\n",
              "      <td>1.058533</td>\n",
              "      <td>1.057382</td>\n",
              "      <td>1.056722</td>\n",
              "      <td>1.056227</td>\n",
              "      <td>1.056030</td>\n",
              "      <td>1.055703</td>\n",
              "    </tr>\n",
              "    <tr>\n",
              "      <th>1987-06-09</th>\n",
              "      <td>18.78</td>\n",
              "      <td>0.001599</td>\n",
              "      <td>0.0551</td>\n",
              "      <td>18.75</td>\n",
              "      <td>18.700</td>\n",
              "      <td>18.726667</td>\n",
              "      <td>18.7325</td>\n",
              "      <td>18.722</td>\n",
              "      <td>18.710000</td>\n",
              "      <td>18.691429</td>\n",
              "      <td>18.68000</td>\n",
              "      <td>18.671111</td>\n",
              "      <td>18.667</td>\n",
              "      <td>1.033125</td>\n",
              "      <td>1.030370</td>\n",
              "      <td>1.031839</td>\n",
              "      <td>1.032161</td>\n",
              "      <td>1.031582</td>\n",
              "      <td>1.030921</td>\n",
              "      <td>1.029898</td>\n",
              "      <td>1.029268</td>\n",
              "      <td>1.028778</td>\n",
              "      <td>1.028552</td>\n",
              "    </tr>\n",
              "  </tbody>\n",
              "</table>\n",
              "</div>"
            ],
            "text/plain": [
              "            Oil_price  Oil_log_return  DTB3_rate  ...  MA8_DTB3  MA9_DTB3  MA10_DTB3\n",
              "Date                                              ...                               \n",
              "1987-06-03      18.75        0.003740     0.0569  ...  1.058980  1.057961   1.058169\n",
              "1987-06-04      18.78        0.001599     0.0566  ...  1.054812  1.054269   1.053269\n",
              "1987-06-05      18.65       -0.006946     0.0568  ...  1.059817  1.059446   1.058866\n",
              "1987-06-08      18.75        0.005348     0.0566  ...  1.056227  1.056030   1.055703\n",
              "1987-06-09      18.78        0.001599     0.0551  ...  1.029268  1.028778   1.028552\n",
              "\n",
              "[5 rows x 23 columns]"
            ]
          },
          "metadata": {
            "tags": []
          },
          "execution_count": 57
        }
      ]
    },
    {
      "cell_type": "markdown",
      "metadata": {
        "id": "doOUAp6ywlx4"
      },
      "source": [
        "# 실습 - feature 선택"
      ]
    },
    {
      "cell_type": "code",
      "metadata": {
        "colab": {
          "base_uri": "https://localhost:8080/"
        },
        "id": "ZTgbmZ_awwLE",
        "outputId": "990ceef7-c01d-4794-83c5-420c26c630da"
      },
      "source": [
        "data.columns"
      ],
      "execution_count": 58,
      "outputs": [
        {
          "output_type": "execute_result",
          "data": {
            "text/plain": [
              "Index(['Oil_price', 'Oil_log_return', 'DTB3_rate', 'MA1', 'MA2', 'MA3', 'MA4',\n",
              "       'MA5', 'MA6', 'MA7', 'MA8', 'MA9', 'MA10', 'MA1_DTB3', 'MA2_DTB3',\n",
              "       'MA3_DTB3', 'MA4_DTB3', 'MA5_DTB3', 'MA6_DTB3', 'MA7_DTB3', 'MA8_DTB3',\n",
              "       'MA9_DTB3', 'MA10_DTB3'],\n",
              "      dtype='object')"
            ]
          },
          "metadata": {
            "tags": []
          },
          "execution_count": 58
        }
      ]
    },
    {
      "cell_type": "code",
      "metadata": {
        "colab": {
          "base_uri": "https://localhost:8080/",
          "height": 235
        },
        "id": "z2k3yeej4pP1",
        "outputId": "0ee1429d-435b-4f3f-9886-7427ae05eaae"
      },
      "source": [
        "# 원하는 특징 변수를 선택\n",
        "features = [\"MA1\", \"MA5\", \"MA10\", \"MA5_DTB3\"]\n",
        "\n",
        "# 선택한 특징 변수를 X로 설정\n",
        "X = data[features]\n",
        "\n",
        "# 데이터의 시작부분을 확인\n",
        "X.head()"
      ],
      "execution_count": 59,
      "outputs": [
        {
          "output_type": "execute_result",
          "data": {
            "text/html": [
              "<div>\n",
              "<style scoped>\n",
              "    .dataframe tbody tr th:only-of-type {\n",
              "        vertical-align: middle;\n",
              "    }\n",
              "\n",
              "    .dataframe tbody tr th {\n",
              "        vertical-align: top;\n",
              "    }\n",
              "\n",
              "    .dataframe thead th {\n",
              "        text-align: right;\n",
              "    }\n",
              "</style>\n",
              "<table border=\"1\" class=\"dataframe\">\n",
              "  <thead>\n",
              "    <tr style=\"text-align: right;\">\n",
              "      <th></th>\n",
              "      <th>MA1</th>\n",
              "      <th>MA5</th>\n",
              "      <th>MA10</th>\n",
              "      <th>MA5_DTB3</th>\n",
              "    </tr>\n",
              "    <tr>\n",
              "      <th>Date</th>\n",
              "      <th></th>\n",
              "      <th></th>\n",
              "      <th></th>\n",
              "      <th></th>\n",
              "    </tr>\n",
              "  </thead>\n",
              "  <tbody>\n",
              "    <tr>\n",
              "      <th>1987-06-03</th>\n",
              "      <td>18.68</td>\n",
              "      <td>18.622</td>\n",
              "      <td>18.597</td>\n",
              "      <td>1.059592</td>\n",
              "    </tr>\n",
              "    <tr>\n",
              "      <th>1987-06-04</th>\n",
              "      <td>18.75</td>\n",
              "      <td>18.652</td>\n",
              "      <td>18.609</td>\n",
              "      <td>1.055703</td>\n",
              "    </tr>\n",
              "    <tr>\n",
              "      <th>1987-06-05</th>\n",
              "      <td>18.78</td>\n",
              "      <td>18.688</td>\n",
              "      <td>18.642</td>\n",
              "      <td>1.061478</td>\n",
              "    </tr>\n",
              "    <tr>\n",
              "      <th>1987-06-08</th>\n",
              "      <td>18.65</td>\n",
              "      <td>18.702</td>\n",
              "      <td>18.652</td>\n",
              "      <td>1.058533</td>\n",
              "    </tr>\n",
              "    <tr>\n",
              "      <th>1987-06-09</th>\n",
              "      <td>18.75</td>\n",
              "      <td>18.722</td>\n",
              "      <td>18.667</td>\n",
              "      <td>1.031582</td>\n",
              "    </tr>\n",
              "  </tbody>\n",
              "</table>\n",
              "</div>"
            ],
            "text/plain": [
              "              MA1     MA5    MA10  MA5_DTB3\n",
              "Date                                       \n",
              "1987-06-03  18.68  18.622  18.597  1.059592\n",
              "1987-06-04  18.75  18.652  18.609  1.055703\n",
              "1987-06-05  18.78  18.688  18.642  1.061478\n",
              "1987-06-08  18.65  18.702  18.652  1.058533\n",
              "1987-06-09  18.75  18.722  18.667  1.031582"
            ]
          },
          "metadata": {
            "tags": []
          },
          "execution_count": 59
        }
      ]
    },
    {
      "cell_type": "markdown",
      "metadata": {
        "id": "Bpm5sVq7EynU"
      },
      "source": [
        "## 종속변수 정의\n",
        "\n"
      ]
    },
    {
      "cell_type": "code",
      "metadata": {
        "colab": {
          "base_uri": "https://localhost:8080/"
        },
        "id": "Kiig5o3VE0H0",
        "outputId": "46ee9f62-de9d-494a-df48-986098a6913c"
      },
      "source": [
        "# 원하는 종속 변수를 선택 \n",
        "# \"Oil_price\"  : 오일의 가격\n",
        "# \"Oil_log_return\"  : 오일의 로그 수익률\n",
        "dep_var = \"Oil_price\"\n",
        "y = data[dep_var] \n",
        "\n",
        "# 데이터의 시작부분을 확인\n",
        "y.head()"
      ],
      "execution_count": 60,
      "outputs": [
        {
          "output_type": "execute_result",
          "data": {
            "text/plain": [
              "Date\n",
              "1987-06-03    18.75\n",
              "1987-06-04    18.78\n",
              "1987-06-05    18.65\n",
              "1987-06-08    18.75\n",
              "1987-06-09    18.78\n",
              "Name: Oil_price, dtype: float64"
            ]
          },
          "metadata": {
            "tags": []
          },
          "execution_count": 60
        }
      ]
    },
    {
      "cell_type": "markdown",
      "metadata": {
        "id": "_gjWyAWRE6BL"
      },
      "source": [
        "## Training"
      ]
    },
    {
      "cell_type": "markdown",
      "metadata": {
        "id": "UUct5WMAE8ui"
      },
      "source": [
        "### 데이터를 2가지 집단으로 나누기 \n",
        "### 80% : training set\n",
        "### 20% : testing set\n"
      ]
    },
    {
      "cell_type": "code",
      "metadata": {
        "id": "ObBhG13AE28X"
      },
      "source": [
        "# 전체 데이터의 80%를 training set으로 설정\n",
        "training = 0.8\n",
        "t = int(training*len(data))\n",
        "\n",
        "# Training dataset\n",
        "X_train = X[:t]\n",
        "y_train = y[:t]\n",
        "\n",
        "# Testing dataset\n",
        "X_test = X[t:]\n",
        "y_test = y[t:]"
      ],
      "execution_count": 61,
      "outputs": []
    },
    {
      "cell_type": "markdown",
      "metadata": {
        "id": "62VwoogatYLz"
      },
      "source": [
        "\n",
        "![](https://github.com/data-science-lab/predicting-oil-prices/blob/main/03_Result/training_test.png?raw=true)"
      ]
    },
    {
      "cell_type": "markdown",
      "metadata": {
        "id": "QdeX9DNy7Uti"
      },
      "source": [
        "## 모형 선택"
      ]
    },
    {
      "cell_type": "markdown",
      "metadata": {
        "id": "zhb81Wrv7WpD"
      },
      "source": [
        "### 선형 회귀(Linear Regression)"
      ]
    },
    {
      "cell_type": "code",
      "metadata": {
        "id": "WSkPckSQFA5v"
      },
      "source": [
        "# 회귀 분석에 대한 계수 및 상수 생성\n",
        "linear_model = LinearRegression().fit(X_train,y_train)"
      ],
      "execution_count": 62,
      "outputs": []
    },
    {
      "cell_type": "markdown",
      "metadata": {
        "id": "bAVOCJ7EFhC8"
      },
      "source": [
        "#### Predicted Value & Actual Value 비교"
      ]
    },
    {
      "cell_type": "code",
      "metadata": {
        "colab": {
          "base_uri": "https://localhost:8080/",
          "height": 318
        },
        "id": "SDqZB7CiFjYX",
        "outputId": "264efd1d-e008-454b-d755-f3ef2d24cd64"
      },
      "source": [
        "predicted_value = linear_model.predict(X_test)\n",
        "predicted_value = pd.DataFrame(predicted_value,index=y_test.index,columns = [dep_var])\n",
        "predicted_value.plot(figsize=(10,5))\n",
        "y_test.plot()\n",
        "plt.legend(['Predicted Value','Actual Value'])\n",
        "plt.ylabel(dep_var)\n",
        "plt.show()"
      ],
      "execution_count": 63,
      "outputs": [
        {
          "output_type": "display_data",
          "data": {
            "image/png": "[encoded data removed]",
            "text/plain": [
              "<Figure size 720x360 with 1 Axes>"
            ]
          },
          "metadata": {
            "tags": [],
            "needs_background": "light"
          }
        }
      ]
    },
    {
      "cell_type": "markdown",
      "metadata": {
        "id": "b85aNO8JFq8V"
      },
      "source": [
        "#### 모형 정확도(accuracy) 계산"
      ]
    },
    {
      "cell_type": "code",
      "metadata": {
        "colab": {
          "base_uri": "https://localhost:8080/"
        },
        "id": "5U2-9SiJE23s",
        "outputId": "7b03ddf7-7ca0-4d96-80bd-ff07deab14e1"
      },
      "source": [
        "R_squared_score = linear_model.score(X_test,y_test)*100\n",
        "accuracy = (\"{0:.2f}\".format(R_squared_score))\n",
        "print (\"The model has a \" + accuracy + \"% accuracy.\")"
      ],
      "execution_count": 64,
      "outputs": [
        {
          "output_type": "stream",
          "text": [
            "The model has a 99.73% accuracy.\n"
          ],
          "name": "stdout"
        }
      ]
    },
    {
      "cell_type": "markdown",
      "metadata": {
        "id": "cYv76ZpI9R9F"
      },
      "source": [
        "### 서포트 벡터 머신(Support Vector Machine)"
      ]
    },
    {
      "cell_type": "code",
      "metadata": {
        "colab": {
          "base_uri": "https://localhost:8080/"
        },
        "id": "CZRKi7VP9SR0",
        "outputId": "6cf2746f-54bc-4f2c-a81a-c2c469474635"
      },
      "source": [
        "svm_model = svm.SVR()\n",
        "svm_model.fit(X_train, y_train)"
      ],
      "execution_count": 65,
      "outputs": [
        {
          "output_type": "execute_result",
          "data": {
            "text/plain": [
              "SVR(C=1.0, cache_size=200, coef0=0.0, degree=3, epsilon=0.1, gamma='scale',\n",
              "    kernel='rbf', max_iter=-1, shrinking=True, tol=0.001, verbose=False)"
            ]
          },
          "metadata": {
            "tags": []
          },
          "execution_count": 65
        }
      ]
    },
    {
      "cell_type": "markdown",
      "metadata": {
        "id": "wUwoaW7UCwVl"
      },
      "source": [
        "#### Predicted Value & Actual Value 비교"
      ]
    },
    {
      "cell_type": "code",
      "metadata": {
        "colab": {
          "base_uri": "https://localhost:8080/",
          "height": 318
        },
        "id": "_1mqU4N3CiiX",
        "outputId": "d9f8b3d6-b047-4497-fd58-055b93798ee6"
      },
      "source": [
        "predicted_value = svm_model.predict(X_test)\n",
        "predicted_value = pd.DataFrame(predicted_value,index=y_test.index,columns = [dep_var])\n",
        "predicted_value.plot(figsize=(10,5))\n",
        "y_test.plot()\n",
        "plt.legend(['Predicted Value','Actual Value'])\n",
        "plt.ylabel(dep_var)\n",
        "plt.show()"
      ],
      "execution_count": 66,
      "outputs": [
        {
          "output_type": "display_data",
          "data": {
            "image/png": "[encoded data removed]",
            "text/plain": [
              "<Figure size 720x360 with 1 Axes>"
            ]
          },
          "metadata": {
            "tags": [],
            "needs_background": "light"
          }
        }
      ]
    },
    {
      "cell_type": "markdown",
      "metadata": {
        "id": "D6XhhNuFCypT"
      },
      "source": [
        "#### 모형 정확도(accuracy) 계산"
      ]
    },
    {
      "cell_type": "code",
      "metadata": {
        "colab": {
          "base_uri": "https://localhost:8080/"
        },
        "id": "bs-nIj_9CpGn",
        "outputId": "6c317bed-e13d-40c4-9944-e2889632060e"
      },
      "source": [
        "R_squared_score = svm_model.score(X_test,y_test)*100\n",
        "accuracy = (\"{0:.2f}\".format(R_squared_score))\n",
        "print (\"The model has a \" + accuracy + \"% accuracy.\")"
      ],
      "execution_count": 67,
      "outputs": [
        {
          "output_type": "stream",
          "text": [
            "The model has a 99.68% accuracy.\n"
          ],
          "name": "stdout"
        }
      ]
    },
    {
      "cell_type": "markdown",
      "metadata": {
        "id": "WX8_y7kGD5Tu"
      },
      "source": [
        "### 결정 트리(Decision Tree Regression)"
      ]
    },
    {
      "cell_type": "code",
      "metadata": {
        "colab": {
          "base_uri": "https://localhost:8080/"
        },
        "id": "Ik-fQTusHcKH",
        "outputId": "811502c4-deff-4d1b-f8f2-af4d8ed7c290"
      },
      "source": [
        "# max_depth의 값이 커질수록 정확도 상승\n",
        "N = 2\n",
        "dtr_model = DecisionTreeRegressor(max_depth=N) \n",
        "dtr_model.fit(X_train, y_train)"
      ],
      "execution_count": 68,
      "outputs": [
        {
          "output_type": "execute_result",
          "data": {
            "text/plain": [
              "DecisionTreeRegressor(ccp_alpha=0.0, criterion='mse', max_depth=2,\n",
              "                      max_features=None, max_leaf_nodes=None,\n",
              "                      min_impurity_decrease=0.0, min_impurity_split=None,\n",
              "                      min_samples_leaf=1, min_samples_split=2,\n",
              "                      min_weight_fraction_leaf=0.0, presort='deprecated',\n",
              "                      random_state=None, splitter='best')"
            ]
          },
          "metadata": {
            "tags": []
          },
          "execution_count": 68
        }
      ]
    },
    {
      "cell_type": "markdown",
      "metadata": {
        "id": "aEN4Qcu7H8T8"
      },
      "source": [
        "#### Predicted Value & Actual Value 비교"
      ]
    },
    {
      "cell_type": "code",
      "metadata": {
        "colab": {
          "base_uri": "https://localhost:8080/",
          "height": 318
        },
        "id": "YrzYoAGbH8-9",
        "outputId": "21aa74bf-f0ae-469a-e542-ccee4fe50db3"
      },
      "source": [
        "predicted_value = dtr_model.predict(X_test)\n",
        "predicted_value = pd.DataFrame(predicted_value,index=y_test.index,columns = [dep_var])\n",
        "predicted_value.plot(figsize=(10,5))\n",
        "y_test.plot()\n",
        "plt.legend(['Predicted Value','Actual Value'])\n",
        "plt.ylabel(dep_var)\n",
        "plt.show()"
      ],
      "execution_count": 69,
      "outputs": [
        {
          "output_type": "display_data",
          "data": {
            "image/png": "[encoded data removed]",
            "text/plain": [
              "<Figure size 720x360 with 1 Axes>"
            ]
          },
          "metadata": {
            "tags": [],
            "needs_background": "light"
          }
        }
      ]
    },
    {
      "cell_type": "markdown",
      "metadata": {
        "id": "rQ8BHSrPIHEi"
      },
      "source": [
        "#### 모형 정확도(accuracy) 계산"
      ]
    },
    {
      "cell_type": "code",
      "metadata": {
        "colab": {
          "base_uri": "https://localhost:8080/"
        },
        "id": "v8bHYr4SEQAB",
        "outputId": "e056005e-2279-4835-8bf7-22ba2c8c8045"
      },
      "source": [
        "R_squared_score = dtr_model.score(X_test,y_test)*100\n",
        "accuracy = (\"{0:.2f}\".format(R_squared_score))\n",
        "print (\"The model has a \" + accuracy + \"% accuracy.\")"
      ],
      "execution_count": 70,
      "outputs": [
        {
          "output_type": "stream",
          "text": [
            "The model has a 85.23% accuracy.\n"
          ],
          "name": "stdout"
        }
      ]
    },
    {
      "cell_type": "markdown",
      "metadata": {
        "id": "AJy7OWS2--bQ"
      },
      "source": [
        "### Neural Network"
      ]
    },
    {
      "cell_type": "code",
      "metadata": {
        "id": "52XMs3tfKuCW"
      },
      "source": [
        "# 뉴럴 네트워크에 들어가도록 인풋 데이터를 변형해준다.\n",
        "X_train_set = np.array(X_train).reshape((X_train.shape[0], X_train.shape[1], 1))\n",
        "y_train_set = np.array(y_train)\n",
        "X_test_set = np.array(X_test).reshape((X_test.shape[0], X_test.shape[1], 1))"
      ],
      "execution_count": 71,
      "outputs": []
    },
    {
      "cell_type": "code",
      "metadata": {
        "colab": {
          "base_uri": "https://localhost:8080/"
        },
        "id": "-5A6WWVQPJov",
        "outputId": "73ab0de7-e86f-4954-b4d6-072b91a31947"
      },
      "source": [
        "model = Sequential()\n",
        "##model.add(Conv1D(filters=64, kernel_size=2, activation='relu', input_shape=(len(features), 1)))\n",
        "##model.add(MaxPooling1D(pool_size=2))\n",
        "\n",
        "model.add(Flatten())\n",
        "model.add(Dense(50, activation='relu'))\n",
        "model.add(Dense(1))\n",
        "\n",
        "model.compile(optimizer='adam',loss='mse')\n",
        "history = model.fit(X_train_set,y_train_set, epochs=10, verbose = 2)\n",
        "#model.summary()"
      ],
      "execution_count": 72,
      "outputs": [
        {
          "output_type": "stream",
          "text": [
            "Epoch 1/10\n",
            "209/209 - 1s - loss: 353.4887\n",
            "Epoch 2/10\n",
            "209/209 - 0s - loss: 1.7222\n",
            "Epoch 3/10\n",
            "209/209 - 0s - loss: 1.5969\n",
            "Epoch 4/10\n",
            "209/209 - 0s - loss: 1.5155\n",
            "Epoch 5/10\n",
            "209/209 - 0s - loss: 1.4433\n",
            "Epoch 6/10\n",
            "209/209 - 0s - loss: 1.3535\n",
            "Epoch 7/10\n",
            "209/209 - 0s - loss: 1.2862\n",
            "Epoch 8/10\n",
            "209/209 - 0s - loss: 1.2662\n",
            "Epoch 9/10\n",
            "209/209 - 0s - loss: 1.2592\n",
            "Epoch 10/10\n",
            "209/209 - 0s - loss: 1.2639\n"
          ],
          "name": "stdout"
        }
      ]
    },
    {
      "cell_type": "markdown",
      "metadata": {
        "id": "dQ6shgHNQOTV"
      },
      "source": [
        "#### Predicted Value & Actual Value 비교"
      ]
    },
    {
      "cell_type": "code",
      "metadata": {
        "colab": {
          "base_uri": "https://localhost:8080/",
          "height": 318
        },
        "id": "L6V7SUx_P76Z",
        "outputId": "9e629545-45cc-4077-9876-66cd3e14c5df"
      },
      "source": [
        "predicted_value = model.predict(X_test_set,verbose=0)\n",
        "predicted_value = pd.DataFrame(predicted_value,index=y_test.index,columns = [dep_var])\n",
        "predicted_value.plot(figsize=(10,5))\n",
        "y_test.plot()\n",
        "plt.legend(['Predicted Value','Actual Value'])\n",
        "plt.ylabel(dep_var)\n",
        "plt.show()"
      ],
      "execution_count": 73,
      "outputs": [
        {
          "output_type": "display_data",
          "data": {
            "image/png": "[encoded data removed]",
            "text/plain": [
              "<Figure size 720x360 with 1 Axes>"
            ]
          },
          "metadata": {
            "tags": [],
            "needs_background": "light"
          }
        }
      ]
    },
    {
      "cell_type": "markdown",
      "metadata": {
        "id": "p5LZq2wiRehD"
      },
      "source": [
        "#### 모형 정확도(accuracy) 계산"
      ]
    },
    {
      "cell_type": "markdown",
      "metadata": {
        "id": "vAW0oqp-Yud-"
      },
      "source": [
        "![image.png](data:image/png;base64,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)"
      ]
    },
    {
      "cell_type": "code",
      "metadata": {
        "colab": {
          "base_uri": "https://localhost:8080/"
        },
        "id": "Piur6ayuctek",
        "outputId": "d3e48fcd-4481-45a8-ef2c-3f7f4b53eeb0"
      },
      "source": [
        "x = np.array(predicted_value).reshape(1, len(predicted_value))\n",
        "Y = np.array(y_test)\n",
        "r = np.corrcoef(x, Y)[0,1]\n",
        "\n",
        "R_squared_score = r**2\n",
        "\n",
        "accuracy = (\"{0:.2f}\".format(R_squared_score*100))\n",
        "print (\"The model has a \" + accuracy + \"% accuracy.\")"
      ],
      "execution_count": 74,
      "outputs": [
        {
          "output_type": "stream",
          "text": [
            "The model has a 99.69% accuracy.\n"
          ],
          "name": "stdout"
        }
      ]
    },
    {
      "cell_type": "markdown",
      "metadata": {
        "id": "kFjsEv2nF-Zb"
      },
      "source": [
        "## 모델 개선"
      ]
    },
    {
      "cell_type": "markdown",
      "metadata": {
        "id": "4t7LgeulGKoP"
      },
      "source": [
        "### 1. Making our dataset larger : 데이터의 시작일이나 종료일을 변경\n",
        "### 2. 독립변수 변경\n",
        "### 3. 모형 변경"
      ]
    },
    {
      "cell_type": "code",
      "metadata": {
        "id": "VNtLi18E7xQJ"
      },
      "source": [
        "# 샘플 데이터의 시작일과 종료일을 선택\n",
        "start_date = \"2000-01-01\" \n",
        "end_date = \"2019-12-31\"\n",
        "\n",
        "data = dataset.loc[start_date:end_date,:].copy()\n",
        "\n",
        "# 원하는 특징 변수를 선택\n",
        "features = [\"MA1\", \"MA2\", \"MA3\", \"MA1_DTB3\", \"MA2_DTB3\"]\n",
        "# 선택한 특징 변수를 X로 설정  \n",
        "X = data[features]\n",
        "\n",
        "# 원하는 종속 변수를 선택 \n",
        "# \"Oil_price\"   :   오일의 가격\n",
        "# \"Oil_log_return\"   :   오일의 로그 수익률\n",
        "y = data[\"Oil_log_return\"] "
      ],
      "execution_count": 75,
      "outputs": []
    },
    {
      "cell_type": "code",
      "metadata": {
        "id": "ITeq6fROW0NG"
      },
      "source": [
        "# 전체 데이터의 80%를 training set으로 설정\n",
        "training = 0.8\n",
        "t = int(training*len(data))\n",
        "\n",
        "# Training dataset\n",
        "X_train = X[:t]\n",
        "y_train = y[:t]\n",
        "\n",
        "# Testing dataset\n",
        "X_test = X[t:]\n",
        "y_test = y[t:]"
      ],
      "execution_count": 76,
      "outputs": []
    },
    {
      "cell_type": "markdown",
      "metadata": {
        "id": "3LqfC7leb9Rv"
      },
      "source": [
        "##### 선형 회귀(Linear Regression)"
      ]
    },
    {
      "cell_type": "code",
      "metadata": {
        "id": "IWjwjRAkW0J8",
        "colab": {
          "base_uri": "https://localhost:8080/"
        },
        "outputId": "5e998f7d-62b3-4433-b091-a8e786162508"
      },
      "source": [
        "# 회귀 분석에 대한 계수 및 상수 생성\n",
        "linear_model = LinearRegression().fit(X_train,y_train)\n",
        "\n",
        "# 모형 정확도 계산\n",
        "R_squared_score = linear_model.score(X_test,y_test)*100\n",
        "accuracy = (\"{0:.2f}\".format(R_squared_score))\n",
        "print (\"The model has a \" + accuracy + \"% accuracy.\")"
      ],
      "execution_count": 77,
      "outputs": [
        {
          "output_type": "stream",
          "text": [
            "The model has a -0.11% accuracy.\n"
          ],
          "name": "stdout"
        }
      ]
    },
    {
      "cell_type": "markdown",
      "metadata": {
        "id": "DG1uF9Zkb-60"
      },
      "source": [
        "##### 서포트 벡터 머신(Support Vector Machine)"
      ]
    },
    {
      "cell_type": "code",
      "metadata": {
        "colab": {
          "base_uri": "https://localhost:8080/"
        },
        "id": "XPEIYrQbKDTm",
        "outputId": "c5a7c899-c2e2-4df0-e200-9edf246a5543"
      },
      "source": [
        "# 서포트 벡터 머신\n",
        "svm_model = svm.SVR()\n",
        "svm_model.fit(X_train, y_train)\n",
        "\n",
        "# 모형 정확도 계산\n",
        "R_squared_score = svm_model.score(X_test,y_test)*100\n",
        "accuracy = (\"{0:.2f}\".format(R_squared_score))\n",
        "print (\"The model has a \" + accuracy + \"% accuracy.\")"
      ],
      "execution_count": 78,
      "outputs": [
        {
          "output_type": "stream",
          "text": [
            "The model has a -12.13% accuracy.\n"
          ],
          "name": "stdout"
        }
      ]
    },
    {
      "cell_type": "markdown",
      "metadata": {
        "id": "MK6HRHrGcE5t"
      },
      "source": [
        "##### 결정 트리 모형(Decision Tree Regression)"
      ]
    },
    {
      "cell_type": "code",
      "metadata": {
        "colab": {
          "base_uri": "https://localhost:8080/"
        },
        "id": "5Srb_0nQKC8T",
        "outputId": "e981138a-3be3-4dca-9319-9847eeab2765"
      },
      "source": [
        "# 결정 트리 모형\n",
        "# max_depth의 값이 커질수록 정확도 상승\n",
        "N = 10\n",
        "dtr_model = DecisionTreeRegressor(max_depth=N) \n",
        "dtr_model.fit(X_train, y_train)\n",
        "\n",
        "# 모형 정확도 계산\n",
        "R_squared_score = dtr_model.score(X_test,y_test)*100\n",
        "accuracy = (\"{0:.2f}\".format(R_squared_score))\n",
        "print (\"The model has a \" + accuracy + \"% accuracy.\")"
      ],
      "execution_count": 79,
      "outputs": [
        {
          "output_type": "stream",
          "text": [
            "The model has a -0.03% accuracy.\n"
          ],
          "name": "stdout"
        }
      ]
    },
    {
      "cell_type": "markdown",
      "metadata": {
        "id": "mGVAsKLpcLfW"
      },
      "source": [
        "##### Neural Network"
      ]
    },
    {
      "cell_type": "code",
      "metadata": {
        "colab": {
          "base_uri": "https://localhost:8080/"
        },
        "id": "8nni-0z9bTtM",
        "outputId": "a5c4e4ef-a392-48e7-a571-482d7dffc555"
      },
      "source": [
        "# 뉴럴 네트워크에 들어가도록 인풋 데이터를 변형해준다.\n",
        "X_train_set = np.array(X_train).reshape((X_train.shape[0], X_train.shape[1], 1))\n",
        "y_train_set = np.array(y_train)\n",
        "X_test_set = np.array(X_test).reshape((X_test.shape[0], X_test.shape[1], 1))\n",
        "\n",
        "model = Sequential()\n",
        "#model.add(Conv1D(filters=64, kernel_size=2, activation='relu', input_shape=(len(features), 1)))\n",
        "#model.add(MaxPooling1D(pool_size=2))\n",
        "\n",
        "model.add(Flatten())\n",
        "model.add(Dense(50, activation='relu'))\n",
        "model.add(Dense(50, activation='relu'))\n",
        "model.add(Dense(1))\n",
        "\n",
        "model.compile(optimizer='adam',loss='mse')\n",
        "history = model.fit(X_train_set,y_train_set, epochs=50, verbose=False)\n",
        "predicted_value = model.predict(X_test_set,verbose=0)\n",
        "\n",
        "# 모형 정확도 계산\n",
        "x = np.array(predicted_value).reshape(1, len(predicted_value))\n",
        "Y = np.array(y_test)\n",
        "r = np.corrcoef(x, Y)[0,1]\n",
        "\n",
        "R_squared_score = r**2\n",
        "\n",
        "accuracy = (\"{0:.2f}\".format(R_squared_score*100))\n",
        "print (\"The model has a \" + accuracy + \"% accuracy.\")"
      ],
      "execution_count": 80,
      "outputs": [
        {
          "output_type": "stream",
          "text": [
            "The model has a 0.00% accuracy.\n"
          ],
          "name": "stdout"
        }
      ]
    }
  ]
}