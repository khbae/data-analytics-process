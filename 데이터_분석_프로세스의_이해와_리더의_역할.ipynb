{
  "nbformat": 4,
  "nbformat_minor": 0,
  "metadata": {
    "colab": {
      "name": "데이터 분석 프로세스의 이해와 리더의 역할.ipynb",
      "provenance": [],
      "collapsed_sections": [],
      "include_colab_link": true
    },
    "kernelspec": {
      "name": "python3",
      "display_name": "Python 3"
    }
  },
  "cells": [
    {
      "cell_type": "markdown",
      "metadata": {
        "id": "view-in-github",
        "colab_type": "text"
      },
      "source": [
        "<a href=\"https://colab.research.google.com/github/khbae/data-analytics-process/blob/main/%EB%8D%B0%EC%9D%B4%ED%84%B0_%EB%B6%84%EC%84%9D_%ED%94%84%EB%A1%9C%EC%84%B8%EC%8A%A4%EC%9D%98_%EC%9D%B4%ED%95%B4%EC%99%80_%EB%A6%AC%EB%8D%94%EC%9D%98_%EC%97%AD%ED%95%A0.ipynb\" target=\"_parent\"><img src=\"https://colab.research.google.com/assets/colab-badge.svg\" alt=\"Open In Colab\"/></a>"
      ]
    },
    {
      "cell_type": "markdown",
      "metadata": {
        "id": "aQB7BZ4idL8r"
      },
      "source": [
        "# 데이터 분석 프로세스의 이해와 리더의 역할\n",
        "\n",
        "## [배경훈 (성균관대학교)](https://biz.skku.edu/bizskk/intro/faculty.do?mode=view&perId=LZStrK4YQ4gQgZgFgggGTAUQIwAYBSBHAngFhhgFliAjAcwF4qg%20&srProfessorType=20)\n",
        "\n"
      ]
    },
    {
      "cell_type": "markdown",
      "metadata": {
        "id": "w4KYCiGWielN"
      },
      "source": [
        "# Big Data(or Large Data)\n",
        "\n",
        "![](https://github.com/data-science-lab/predicting-oil-prices/blob/main/03_Result/data2.png?raw=true)"
      ]
    },
    {
      "cell_type": "markdown",
      "metadata": {
        "id": "-5lq75iNi41J"
      },
      "source": [
        "# 데이터 분석 프로세스\n",
        "\n",
        "![](https://github.com/data-science-lab/predicting-oil-prices/blob/main/03_Result/process3.png?raw=true)\n",
        "\n",
        "![](https://github.com/data-science-lab/predicting-oil-prices/blob/main/03_Result/process4.png?raw=true)"
      ]
    },
    {
      "cell_type": "markdown",
      "metadata": {
        "id": "fmVCuWk9iEl8"
      },
      "source": [
        "# 데이터 분석 실습 - 오일 가격 예측 모델\n",
        "\n",
        "## Input, Output 데이터를 활용해서 unknown인 함수 f 를 찾는 과정\n",
        "\n",
        "![](https://github.com/data-science-lab/predicting-oil-prices/blob/main/03_Result/function2.png?raw=true)\n",
        "\n",
        "* 선형함수: Small Data, Low-Performance Computing\n",
        "\n",
        "* 비선형함수: Large Data, High-Performance Computing"
      ]
    },
    {
      "cell_type": "markdown",
      "metadata": {
        "id": "xFDr0I-YnQ9v"
      },
      "source": [
        "# 훈련(Training)과 검증(Testing)\n",
        "\n",
        "![](https://github.com/data-science-lab/predicting-oil-prices/blob/main/03_Result/training_test.png?raw=true)"
      ]
    },
    {
      "cell_type": "markdown",
      "metadata": {
        "id": "DOti9NSdO4F7"
      },
      "source": [
        "# 선형 회귀 (Linear Regression)"
      ]
    },
    {
      "cell_type": "markdown",
      "metadata": {
        "id": "D95s8RK_O92R"
      },
      "source": [
        "\\begin{gather*}  y_{i} = \\beta_{i}x_{i1} + \\cdots + \\beta_{p}x_{ip} + \\epsilon_{i} = x_{i}^T\\beta + \\epsilon_{i} , \\hspace{2cm} i = 1, ..., n  \\end{gather*}\n",
        "\n",
        "![](https://github.com/data-science-lab/predicting-oil-prices/blob/main/03_Result/regression.png?raw=true)\n"
      ]
    },
    {
      "cell_type": "markdown",
      "metadata": {
        "id": "vAqHFnSMO12j"
      },
      "source": [
        "* [Simple Regression 예시](https://gallery.shinyapps.io/simple_regression/)"
      ]
    },
    {
      "cell_type": "markdown",
      "metadata": {
        "id": "9sr5sC5bBY0g"
      },
      "source": [
        "# 데이터와 작업 환경 세팅\n",
        "\n",
        "## 라이브러리 설치"
      ]
    },
    {
      "cell_type": "code",
      "metadata": {
        "id": "O63w6PutBYdz",
        "colab": {
          "base_uri": "https://localhost:8080/"
        },
        "outputId": "ee3d0d15-cf6f-41d6-ef31-881d7c03d8d3"
      },
      "source": [
        "!pip3 install numpy\n",
        "!pip3 install pandas\n",
        "!pip3 install matplotlib\n",
        "!pip3 install sklearn\n",
        "!pip3 install tensorflow"
      ],
      "execution_count": 204,
      "outputs": [
        {
          "output_type": "stream",
          "text": [
            "Requirement already satisfied: numpy in /usr/local/lib/python3.7/dist-packages (1.19.5)\n",
            "Requirement already satisfied: pandas in /usr/local/lib/python3.7/dist-packages (1.1.5)\n",
            "Requirement already satisfied: python-dateutil>=2.7.3 in /usr/local/lib/python3.7/dist-packages (from pandas) (2.8.1)\n",
            "Requirement already satisfied: pytz>=2017.2 in /usr/local/lib/python3.7/dist-packages (from pandas) (2018.9)\n",
            "Requirement already satisfied: numpy>=1.15.4 in /usr/local/lib/python3.7/dist-packages (from pandas) (1.19.5)\n",
            "Requirement already satisfied: six>=1.5 in /usr/local/lib/python3.7/dist-packages (from python-dateutil>=2.7.3->pandas) (1.15.0)\n",
            "Requirement already satisfied: matplotlib in /usr/local/lib/python3.7/dist-packages (3.2.2)\n",
            "Requirement already satisfied: python-dateutil>=2.1 in /usr/local/lib/python3.7/dist-packages (from matplotlib) (2.8.1)\n",
            "Requirement already satisfied: numpy>=1.11 in /usr/local/lib/python3.7/dist-packages (from matplotlib) (1.19.5)\n",
            "Requirement already satisfied: pyparsing!=2.0.4,!=2.1.2,!=2.1.6,>=2.0.1 in /usr/local/lib/python3.7/dist-packages (from matplotlib) (2.4.7)\n",
            "Requirement already satisfied: cycler>=0.10 in /usr/local/lib/python3.7/dist-packages (from matplotlib) (0.10.0)\n",
            "Requirement already satisfied: kiwisolver>=1.0.1 in /usr/local/lib/python3.7/dist-packages (from matplotlib) (1.3.1)\n",
            "Requirement already satisfied: six>=1.5 in /usr/local/lib/python3.7/dist-packages (from python-dateutil>=2.1->matplotlib) (1.15.0)\n",
            "Requirement already satisfied: sklearn in /usr/local/lib/python3.7/dist-packages (0.0)\n",
            "Requirement already satisfied: scikit-learn in /usr/local/lib/python3.7/dist-packages (from sklearn) (0.22.2.post1)\n",
            "Requirement already satisfied: joblib>=0.11 in /usr/local/lib/python3.7/dist-packages (from scikit-learn->sklearn) (1.0.1)\n",
            "Requirement already satisfied: scipy>=0.17.0 in /usr/local/lib/python3.7/dist-packages (from scikit-learn->sklearn) (1.4.1)\n",
            "Requirement already satisfied: numpy>=1.11.0 in /usr/local/lib/python3.7/dist-packages (from scikit-learn->sklearn) (1.19.5)\n",
            "Requirement already satisfied: tensorflow in /usr/local/lib/python3.7/dist-packages (2.4.1)\n",
            "Requirement already satisfied: termcolor~=1.1.0 in /usr/local/lib/python3.7/dist-packages (from tensorflow) (1.1.0)\n",
            "Requirement already satisfied: tensorboard~=2.4 in /usr/local/lib/python3.7/dist-packages (from tensorflow) (2.4.1)\n",
            "Requirement already satisfied: grpcio~=1.32.0 in /usr/local/lib/python3.7/dist-packages (from tensorflow) (1.32.0)\n",
            "Requirement already satisfied: wheel~=0.35 in /usr/local/lib/python3.7/dist-packages (from tensorflow) (0.36.2)\n",
            "Requirement already satisfied: gast==0.3.3 in /usr/local/lib/python3.7/dist-packages (from tensorflow) (0.3.3)\n",
            "Requirement already satisfied: absl-py~=0.10 in /usr/local/lib/python3.7/dist-packages (from tensorflow) (0.10.0)\n",
            "Requirement already satisfied: h5py~=2.10.0 in /usr/local/lib/python3.7/dist-packages (from tensorflow) (2.10.0)\n",
            "Requirement already satisfied: wrapt~=1.12.1 in /usr/local/lib/python3.7/dist-packages (from tensorflow) (1.12.1)\n",
            "Requirement already satisfied: protobuf>=3.9.2 in /usr/local/lib/python3.7/dist-packages (from tensorflow) (3.12.4)\n",
            "Requirement already satisfied: google-pasta~=0.2 in /usr/local/lib/python3.7/dist-packages (from tensorflow) (0.2.0)\n",
            "Requirement already satisfied: typing-extensions~=3.7.4 in /usr/local/lib/python3.7/dist-packages (from tensorflow) (3.7.4.3)\n",
            "Requirement already satisfied: numpy~=1.19.2 in /usr/local/lib/python3.7/dist-packages (from tensorflow) (1.19.5)\n",
            "Requirement already satisfied: keras-preprocessing~=1.1.2 in /usr/local/lib/python3.7/dist-packages (from tensorflow) (1.1.2)\n",
            "Requirement already satisfied: flatbuffers~=1.12.0 in /usr/local/lib/python3.7/dist-packages (from tensorflow) (1.12)\n",
            "Requirement already satisfied: opt-einsum~=3.3.0 in /usr/local/lib/python3.7/dist-packages (from tensorflow) (3.3.0)\n",
            "Requirement already satisfied: six~=1.15.0 in /usr/local/lib/python3.7/dist-packages (from tensorflow) (1.15.0)\n",
            "Requirement already satisfied: astunparse~=1.6.3 in /usr/local/lib/python3.7/dist-packages (from tensorflow) (1.6.3)\n",
            "Requirement already satisfied: tensorflow-estimator<2.5.0,>=2.4.0 in /usr/local/lib/python3.7/dist-packages (from tensorflow) (2.4.0)\n",
            "Requirement already satisfied: requests<3,>=2.21.0 in /usr/local/lib/python3.7/dist-packages (from tensorboard~=2.4->tensorflow) (2.23.0)\n",
            "Requirement already satisfied: tensorboard-plugin-wit>=1.6.0 in /usr/local/lib/python3.7/dist-packages (from tensorboard~=2.4->tensorflow) (1.8.0)\n",
            "Requirement already satisfied: werkzeug>=0.11.15 in /usr/local/lib/python3.7/dist-packages (from tensorboard~=2.4->tensorflow) (1.0.1)\n",
            "Requirement already satisfied: setuptools>=41.0.0 in /usr/local/lib/python3.7/dist-packages (from tensorboard~=2.4->tensorflow) (54.1.2)\n",
            "Requirement already satisfied: google-auth-oauthlib<0.5,>=0.4.1 in /usr/local/lib/python3.7/dist-packages (from tensorboard~=2.4->tensorflow) (0.4.3)\n",
            "Requirement already satisfied: google-auth<2,>=1.6.3 in /usr/local/lib/python3.7/dist-packages (from tensorboard~=2.4->tensorflow) (1.27.1)\n",
            "Requirement already satisfied: markdown>=2.6.8 in /usr/local/lib/python3.7/dist-packages (from tensorboard~=2.4->tensorflow) (3.3.4)\n",
            "Requirement already satisfied: idna<3,>=2.5 in /usr/local/lib/python3.7/dist-packages (from requests<3,>=2.21.0->tensorboard~=2.4->tensorflow) (2.10)\n",
            "Requirement already satisfied: chardet<4,>=3.0.2 in /usr/local/lib/python3.7/dist-packages (from requests<3,>=2.21.0->tensorboard~=2.4->tensorflow) (3.0.4)\n",
            "Requirement already satisfied: certifi>=2017.4.17 in /usr/local/lib/python3.7/dist-packages (from requests<3,>=2.21.0->tensorboard~=2.4->tensorflow) (2020.12.5)\n",
            "Requirement already satisfied: urllib3!=1.25.0,!=1.25.1,<1.26,>=1.21.1 in /usr/local/lib/python3.7/dist-packages (from requests<3,>=2.21.0->tensorboard~=2.4->tensorflow) (1.24.3)\n",
            "Requirement already satisfied: requests-oauthlib>=0.7.0 in /usr/local/lib/python3.7/dist-packages (from google-auth-oauthlib<0.5,>=0.4.1->tensorboard~=2.4->tensorflow) (1.3.0)\n",
            "Requirement already satisfied: pyasn1-modules>=0.2.1 in /usr/local/lib/python3.7/dist-packages (from google-auth<2,>=1.6.3->tensorboard~=2.4->tensorflow) (0.2.8)\n",
            "Requirement already satisfied: rsa<5,>=3.1.4; python_version >= \"3.6\" in /usr/local/lib/python3.7/dist-packages (from google-auth<2,>=1.6.3->tensorboard~=2.4->tensorflow) (4.7.2)\n",
            "Requirement already satisfied: cachetools<5.0,>=2.0.0 in /usr/local/lib/python3.7/dist-packages (from google-auth<2,>=1.6.3->tensorboard~=2.4->tensorflow) (4.2.1)\n",
            "Requirement already satisfied: importlib-metadata; python_version < \"3.8\" in /usr/local/lib/python3.7/dist-packages (from markdown>=2.6.8->tensorboard~=2.4->tensorflow) (3.7.2)\n",
            "Requirement already satisfied: oauthlib>=3.0.0 in /usr/local/lib/python3.7/dist-packages (from requests-oauthlib>=0.7.0->google-auth-oauthlib<0.5,>=0.4.1->tensorboard~=2.4->tensorflow) (3.1.0)\n",
            "Requirement already satisfied: pyasn1<0.5.0,>=0.4.6 in /usr/local/lib/python3.7/dist-packages (from pyasn1-modules>=0.2.1->google-auth<2,>=1.6.3->tensorboard~=2.4->tensorflow) (0.4.8)\n",
            "Requirement already satisfied: zipp>=0.5 in /usr/local/lib/python3.7/dist-packages (from importlib-metadata; python_version < \"3.8\"->markdown>=2.6.8->tensorboard~=2.4->tensorflow) (3.4.1)\n"
          ],
          "name": "stdout"
        }
      ]
    },
    {
      "cell_type": "markdown",
      "metadata": {
        "id": "ncvsJ9bTCU0q"
      },
      "source": [
        "## 필요한 라이브러리를 불러오기(Import)"
      ]
    },
    {
      "cell_type": "code",
      "metadata": {
        "id": "gwS3PZc87mi5"
      },
      "source": [
        "# 데이터 전처리에 사용하는 라이브러리\n",
        "import numpy as np\n",
        "import pandas as pd\n",
        " \n",
        "# 데이터를 시각적으로 표현하는데 사용하는 라이브러리\n",
        "import matplotlib.pyplot as plt\n",
        " \n",
        "# 리스트에 있는 값들의 조합을 구하기위해 사용하는 라이브러리\n",
        "from itertools import combinations\n",
        " \n",
        "# 선형회귀분석에 사용하는 머신러닝 라이브러리\n",
        "from sklearn.linear_model import LinearRegression\n",
        " \n",
        "# 서포트 벡터 머신에 사용되는 머신러닝 라이브러리\n",
        "from sklearn import svm\n",
        " \n",
        "# 결정 트리 모형에 사용되는 머신러닝 라이브러리\n",
        "from sklearn.tree import DecisionTreeRegressor\n",
        " \n",
        "# 뉴럴 네트워크에 사용되는 라이브러리\n",
        "from tensorflow.keras.models import Sequential\n",
        "from tensorflow.keras.layers import Dense, Flatten, Conv1D, MaxPooling1D"
      ],
      "execution_count": 205,
      "outputs": []
    },
    {
      "cell_type": "markdown",
      "metadata": {
        "id": "MC7XpEfOCrjF"
      },
      "source": [
        "## Dataset \n",
        "\n",
        "* Crude Oil Brent 가격 : 1988년 3월 4일\t ~ 2019년 12월 31일\n",
        "* 3개월 Treasury Bill: Secondary Market Rate : 1988년 3월 4일\t ~ 2019년 12월 31일\n",
        "* USD/JPY 현물 가격 : 1988년 3월 4일\t ~ 2019년 12월 31일\n",
        "* 미국 달러 지수 : 1988년 3월 4일\t ~ 2019년 12월 31일"
      ]
    },
    {
      "cell_type": "code",
      "metadata": {
        "id": "shyhSYDM7SSn",
        "colab": {
          "base_uri": "https://localhost:8080/",
          "height": 258
        },
        "outputId": "2034aced-f547-4b9a-ef9f-d274c5539605"
      },
      "source": [
        "# 깃허브에서 저장되어있는 데이터 불러오기\n",
        "url = 'https://raw.githubusercontent.com/khbae/data-analytics-process/main/Data/data.csv'\n",
        "dataset = pd.read_csv(url, index_col=\"Date\", parse_dates=[\"Date\"])\n",
        "dataset.head()"
      ],
      "execution_count": 206,
      "outputs": [
        {
          "output_type": "execute_result",
          "data": {
            "text/html": [
              "<div>\n",
              "<style scoped>\n",
              "    .dataframe tbody tr th:only-of-type {\n",
              "        vertical-align: middle;\n",
              "    }\n",
              "\n",
              "    .dataframe tbody tr th {\n",
              "        vertical-align: top;\n",
              "    }\n",
              "\n",
              "    .dataframe thead th {\n",
              "        text-align: right;\n",
              "    }\n",
              "</style>\n",
              "<table border=\"1\" class=\"dataframe\">\n",
              "  <thead>\n",
              "    <tr style=\"text-align: right;\">\n",
              "      <th></th>\n",
              "      <th>Oil_price</th>\n",
              "      <th>DTB3</th>\n",
              "      <th>USDJPY</th>\n",
              "      <th>DXY</th>\n",
              "    </tr>\n",
              "    <tr>\n",
              "      <th>Date</th>\n",
              "      <th></th>\n",
              "      <th></th>\n",
              "      <th></th>\n",
              "      <th></th>\n",
              "    </tr>\n",
              "  </thead>\n",
              "  <tbody>\n",
              "    <tr>\n",
              "      <th>1988-03-04</th>\n",
              "      <td>14.00</td>\n",
              "      <td>0.0571</td>\n",
              "      <td>128.58</td>\n",
              "      <td>90.56</td>\n",
              "    </tr>\n",
              "    <tr>\n",
              "      <th>1988-03-07</th>\n",
              "      <td>13.90</td>\n",
              "      <td>0.0572</td>\n",
              "      <td>127.76</td>\n",
              "      <td>89.77</td>\n",
              "    </tr>\n",
              "    <tr>\n",
              "      <th>1988-03-08</th>\n",
              "      <td>13.80</td>\n",
              "      <td>0.0574</td>\n",
              "      <td>127.80</td>\n",
              "      <td>89.35</td>\n",
              "    </tr>\n",
              "    <tr>\n",
              "      <th>1988-03-09</th>\n",
              "      <td>13.98</td>\n",
              "      <td>0.0573</td>\n",
              "      <td>128.12</td>\n",
              "      <td>89.32</td>\n",
              "    </tr>\n",
              "    <tr>\n",
              "      <th>1988-03-10</th>\n",
              "      <td>14.48</td>\n",
              "      <td>0.0575</td>\n",
              "      <td>127.88</td>\n",
              "      <td>89.38</td>\n",
              "    </tr>\n",
              "  </tbody>\n",
              "</table>\n",
              "</div>"
            ],
            "text/plain": [
              "            Oil_price    DTB3  USDJPY    DXY\n",
              "Date                                        \n",
              "1988-03-04      14.00  0.0571  128.58  90.56\n",
              "1988-03-07      13.90  0.0572  127.76  89.77\n",
              "1988-03-08      13.80  0.0574  127.80  89.35\n",
              "1988-03-09      13.98  0.0573  128.12  89.32\n",
              "1988-03-10      14.48  0.0575  127.88  89.38"
            ]
          },
          "metadata": {
            "tags": []
          },
          "execution_count": 206
        }
      ]
    },
    {
      "cell_type": "code",
      "metadata": {
        "colab": {
          "base_uri": "https://localhost:8080/",
          "height": 258
        },
        "id": "BiK-LFS-2ApY",
        "outputId": "21acdc1f-32d4-4bc2-d4a7-41dd5a689dde"
      },
      "source": [
        "## 로그 수익률 계산\n",
        "log_return = np.log(dataset['Oil_price'])\n",
        "log_return = log_return.diff(1)\n",
        "dataset['Oil_log_return'] = log_return\n",
        "dataset = dataset[[\"Oil_price\", \"Oil_log_return\", \"DTB3\", \"USDJPY\", \"DXY\"]]  ## 열의 순서를 재배치\n",
        "dataset.head()"
      ],
      "execution_count": 207,
      "outputs": [
        {
          "output_type": "execute_result",
          "data": {
            "text/html": [
              "<div>\n",
              "<style scoped>\n",
              "    .dataframe tbody tr th:only-of-type {\n",
              "        vertical-align: middle;\n",
              "    }\n",
              "\n",
              "    .dataframe tbody tr th {\n",
              "        vertical-align: top;\n",
              "    }\n",
              "\n",
              "    .dataframe thead th {\n",
              "        text-align: right;\n",
              "    }\n",
              "</style>\n",
              "<table border=\"1\" class=\"dataframe\">\n",
              "  <thead>\n",
              "    <tr style=\"text-align: right;\">\n",
              "      <th></th>\n",
              "      <th>Oil_price</th>\n",
              "      <th>Oil_log_return</th>\n",
              "      <th>DTB3</th>\n",
              "      <th>USDJPY</th>\n",
              "      <th>DXY</th>\n",
              "    </tr>\n",
              "    <tr>\n",
              "      <th>Date</th>\n",
              "      <th></th>\n",
              "      <th></th>\n",
              "      <th></th>\n",
              "      <th></th>\n",
              "      <th></th>\n",
              "    </tr>\n",
              "  </thead>\n",
              "  <tbody>\n",
              "    <tr>\n",
              "      <th>1988-03-04</th>\n",
              "      <td>14.00</td>\n",
              "      <td>NaN</td>\n",
              "      <td>0.0571</td>\n",
              "      <td>128.58</td>\n",
              "      <td>90.56</td>\n",
              "    </tr>\n",
              "    <tr>\n",
              "      <th>1988-03-07</th>\n",
              "      <td>13.90</td>\n",
              "      <td>-0.007168</td>\n",
              "      <td>0.0572</td>\n",
              "      <td>127.76</td>\n",
              "      <td>89.77</td>\n",
              "    </tr>\n",
              "    <tr>\n",
              "      <th>1988-03-08</th>\n",
              "      <td>13.80</td>\n",
              "      <td>-0.007220</td>\n",
              "      <td>0.0574</td>\n",
              "      <td>127.80</td>\n",
              "      <td>89.35</td>\n",
              "    </tr>\n",
              "    <tr>\n",
              "      <th>1988-03-09</th>\n",
              "      <td>13.98</td>\n",
              "      <td>0.012959</td>\n",
              "      <td>0.0573</td>\n",
              "      <td>128.12</td>\n",
              "      <td>89.32</td>\n",
              "    </tr>\n",
              "    <tr>\n",
              "      <th>1988-03-10</th>\n",
              "      <td>14.48</td>\n",
              "      <td>0.035141</td>\n",
              "      <td>0.0575</td>\n",
              "      <td>127.88</td>\n",
              "      <td>89.38</td>\n",
              "    </tr>\n",
              "  </tbody>\n",
              "</table>\n",
              "</div>"
            ],
            "text/plain": [
              "            Oil_price  Oil_log_return    DTB3  USDJPY    DXY\n",
              "Date                                                        \n",
              "1988-03-04      14.00             NaN  0.0571  128.58  90.56\n",
              "1988-03-07      13.90       -0.007168  0.0572  127.76  89.77\n",
              "1988-03-08      13.80       -0.007220  0.0574  127.80  89.35\n",
              "1988-03-09      13.98        0.012959  0.0573  128.12  89.32\n",
              "1988-03-10      14.48        0.035141  0.0575  127.88  89.38"
            ]
          },
          "metadata": {
            "tags": []
          },
          "execution_count": 207
        }
      ]
    },
    {
      "cell_type": "markdown",
      "metadata": {
        "id": "Kfnagu3zEJDz"
      },
      "source": [
        "## 시각화 : 데이터 플롯팅(Plotting)"
      ]
    },
    {
      "cell_type": "code",
      "metadata": {
        "colab": {
          "base_uri": "https://localhost:8080/",
          "height": 356
        },
        "id": "1Yc-2GsPC5ny",
        "outputId": "75340a65-a477-4202-899e-b7543fc74f8e"
      },
      "source": [
        "# Y축 이름 설정\n",
        "plt.ylabel(\"Crude Oil Prices: Brent - Europe\")\n",
        " \n",
        "# 그래프 사이즈 설정\n",
        "dataset.Oil_price.plot(figsize=(10,5))"
      ],
      "execution_count": 244,
      "outputs": [
        {
          "output_type": "execute_result",
          "data": {
            "text/plain": [
              "<matplotlib.axes._subplots.AxesSubplot at 0x7f85bf098c90>"
            ]
          },
          "metadata": {
            "tags": []
          },
          "execution_count": 244
        },
        {
          "output_type": "display_data",
          "data": {
            "image/png": "[encoded data removed]",
            "text/plain": [
              "<Figure size 720x360 with 1 Axes>"
            ]
          },
          "metadata": {
            "tags": [],
            "needs_background": "light"
          }
        }
      ]
    },
    {
      "cell_type": "code",
      "metadata": {
        "colab": {
          "base_uri": "https://localhost:8080/",
          "height": 356
        },
        "id": "6UykpI2o1mxP",
        "outputId": "0e60f2d1-c515-454d-b4f7-a43e8ab990d7"
      },
      "source": [
        "# Y축 이름 설정\n",
        "plt.ylabel(\"3-Month Treasury Bill: Secondary Market Rate\")\n",
        "\n",
        "# 그래프 사이즈 설정\n",
        "dataset.DTB3.plot(figsize=(10,5))"
      ],
      "execution_count": 209,
      "outputs": [
        {
          "output_type": "execute_result",
          "data": {
            "text/plain": [
              "<matplotlib.axes._subplots.AxesSubplot at 0x7f85c365e2d0>"
            ]
          },
          "metadata": {
            "tags": []
          },
          "execution_count": 209
        },
        {
          "output_type": "display_data",
          "data": {
            "image/png": "[encoded data removed]",
            "text/plain": [
              "<Figure size 720x360 with 1 Axes>"
            ]
          },
          "metadata": {
            "tags": [],
            "needs_background": "light"
          }
        }
      ]
    },
    {
      "cell_type": "code",
      "metadata": {
        "colab": {
          "base_uri": "https://localhost:8080/",
          "height": 356
        },
        "id": "AsCVRWTjmyLr",
        "outputId": "229a153a-c761-403f-ffa2-25f870ba2637"
      },
      "source": [
        "# Y축 이름 설정\n",
        "plt.ylabel(\"USD to JPY Exchange Rate\")\n",
        "\n",
        "# 그래프 사이즈 설정\n",
        "dataset.USDJPY.plot(figsize=(10,5))"
      ],
      "execution_count": 210,
      "outputs": [
        {
          "output_type": "execute_result",
          "data": {
            "text/plain": [
              "<matplotlib.axes._subplots.AxesSubplot at 0x7f85c1bbc350>"
            ]
          },
          "metadata": {
            "tags": []
          },
          "execution_count": 210
        },
        {
          "output_type": "display_data",
          "data": {
            "image/png": "[encoded data removed]",
            "text/plain": [
              "<Figure size 720x360 with 1 Axes>"
            ]
          },
          "metadata": {
            "tags": [],
            "needs_background": "light"
          }
        }
      ]
    },
    {
      "cell_type": "code",
      "metadata": {
        "colab": {
          "base_uri": "https://localhost:8080/",
          "height": 356
        },
        "id": "-P_r7q47myDC",
        "outputId": "08897607-54a4-406a-e09c-c4049e7b2c88"
      },
      "source": [
        "# Y축 이름 설정\n",
        "plt.ylabel(\"U.S. Dollar Index\")\n",
        "\n",
        "# 그래프 사이즈 설정\n",
        "dataset.DXY.plot(figsize=(10,5))"
      ],
      "execution_count": 211,
      "outputs": [
        {
          "output_type": "execute_result",
          "data": {
            "text/plain": [
              "<matplotlib.axes._subplots.AxesSubplot at 0x7f85c3d815d0>"
            ]
          },
          "metadata": {
            "tags": []
          },
          "execution_count": 211
        },
        {
          "output_type": "display_data",
          "data": {
            "image/png": "[encoded data removed]",
            "text/plain": [
              "<Figure size 720x360 with 1 Axes>"
            ]
          },
          "metadata": {
            "tags": [],
            "needs_background": "light"
          }
        }
      ]
    },
    {
      "cell_type": "markdown",
      "metadata": {
        "id": "1VNZy4p8EXus"
      },
      "source": [
        "## 설명변수 정의 — 오일 가격을 예측하는데 사용하는 특징들(the features) \n",
        "\n",
        "* 오일 가격의 과거 1일 ~ 10일의 이동평균\n",
        "* 3개월 Treasury Bill rate의 과거 1일 ~ 10일의 이동평균  \n",
        "* 독립변수 23개 간의 곱"
      ]
    },
    {
      "cell_type": "code",
      "metadata": {
        "id": "vNjWFrpPC5lZ"
      },
      "source": [
        "# 설명변수 만들기\n",
        " \n",
        "# 오일 가격의 과거 1일 ~ 10일 이동평균\n",
        "dataset['Oil_MA1'] = dataset['Oil_price'].shift(1).rolling(window=1).mean()\n",
        "dataset['Oil_MA2'] = dataset['Oil_price'].shift(1).rolling(window=2).mean()\n",
        "dataset['Oil_MA3'] = dataset['Oil_price'].shift(1).rolling(window=3).mean()\n",
        "dataset['Oil_MA4'] = dataset['Oil_price'].shift(1).rolling(window=4).mean()\n",
        "dataset['Oil_MA5'] = dataset['Oil_price'].shift(1).rolling(window=5).mean()\n",
        "dataset['Oil_MA6'] = dataset['Oil_price'].shift(1).rolling(window=6).mean()\n",
        "dataset['Oil_MA7'] = dataset['Oil_price'].shift(1).rolling(window=7).mean()\n",
        "dataset['Oil_MA8'] = dataset['Oil_price'].shift(1).rolling(window=8).mean()\n",
        "dataset['Oil_MA9'] = dataset['Oil_price'].shift(1).rolling(window=9).mean()\n",
        "dataset['Oil_MA10'] = dataset['Oil_price'].shift(1).rolling(window=10).mean()\n",
        " \n",
        "# 3개월 Treasury Bill rate의 과거 1일 ~ 10일 이동평균\n",
        "dataset['DTB3_MA1'] = dataset['DTB3'].shift(1).rolling(window=1).mean()\n",
        "dataset['DTB3_MA2'] = dataset['DTB3'].shift(1).rolling(window=2).mean()\n",
        "dataset['DTB3_MA3'] = dataset['DTB3'].shift(1).rolling(window=3).mean()\n",
        "dataset['DTB3_MA4'] = dataset['DTB3'].shift(1).rolling(window=4).mean()\n",
        "dataset['DTB3_MA5'] = dataset['DTB3'].shift(1).rolling(window=5).mean()\n",
        "dataset['DTB3_MA6'] = dataset['DTB3'].shift(1).rolling(window=6).mean()\n",
        "dataset['DTB3_MA7'] = dataset['DTB3'].shift(1).rolling(window=7).mean()\n",
        "dataset['DTB3_MA8'] = dataset['DTB3'].shift(1).rolling(window=8).mean()\n",
        "dataset['DTB3_MA9'] = dataset['DTB3'].shift(1).rolling(window=9).mean()\n",
        "dataset['DTB3_MA10'] = dataset['DTB3'].shift(1).rolling(window=10).mean()"
      ],
      "execution_count": 212,
      "outputs": []
    },
    {
      "cell_type": "code",
      "metadata": {
        "colab": {
          "base_uri": "https://localhost:8080/"
        },
        "id": "piKqN_NQqVLh",
        "outputId": "83e985e3-15f0-48fd-b8eb-065c6c7bb86c"
      },
      "source": [
        "dataset.columns"
      ],
      "execution_count": 213,
      "outputs": [
        {
          "output_type": "execute_result",
          "data": {
            "text/plain": [
              "Index(['Oil_price', 'Oil_log_return', 'DTB3', 'USDJPY', 'DXY', 'Oil_MA1',\n",
              "       'Oil_MA2', 'Oil_MA3', 'Oil_MA4', 'Oil_MA5', 'Oil_MA6', 'Oil_MA7',\n",
              "       'Oil_MA8', 'Oil_MA9', 'Oil_MA10', 'DTB3_MA1', 'DTB3_MA2', 'DTB3_MA3',\n",
              "       'DTB3_MA4', 'DTB3_MA5', 'DTB3_MA6', 'DTB3_MA7', 'DTB3_MA8', 'DTB3_MA9',\n",
              "       'DTB3_MA10'],\n",
              "      dtype='object')"
            ]
          },
          "metadata": {
            "tags": []
          },
          "execution_count": 213
        }
      ]
    },
    {
      "cell_type": "code",
      "metadata": {
        "id": "X25ibZL5pE1Y"
      },
      "source": [
        "# 독립변수들 간의 곱\n",
        "for variable in list(combinations(dataset.columns[2:], 2)):\n",
        "  new_variable_name = variable[0]+ \"_\" + variable[1]\n",
        "  dataset[new_variable_name] = dataset[variable[0]] * dataset[variable[1]]"
      ],
      "execution_count": 214,
      "outputs": []
    },
    {
      "cell_type": "code",
      "metadata": {
        "colab": {
          "base_uri": "https://localhost:8080/",
          "height": 374
        },
        "id": "vBM7-dli4dzZ",
        "outputId": "144413ef-f80e-4ce2-8647-d2bc5c99ea69"
      },
      "source": [
        "dataset.head()"
      ],
      "execution_count": 215,
      "outputs": [
        {
          "output_type": "execute_result",
          "data": {
            "text/html": [
              "<div>\n",
              "<style scoped>\n",
              "    .dataframe tbody tr th:only-of-type {\n",
              "        vertical-align: middle;\n",
              "    }\n",
              "\n",
              "    .dataframe tbody tr th {\n",
              "        vertical-align: top;\n",
              "    }\n",
              "\n",
              "    .dataframe thead th {\n",
              "        text-align: right;\n",
              "    }\n",
              "</style>\n",
              "<table border=\"1\" class=\"dataframe\">\n",
              "  <thead>\n",
              "    <tr style=\"text-align: right;\">\n",
              "      <th></th>\n",
              "      <th>Oil_price</th>\n",
              "      <th>Oil_log_return</th>\n",
              "      <th>DTB3</th>\n",
              "      <th>USDJPY</th>\n",
              "      <th>DXY</th>\n",
              "      <th>Oil_MA1</th>\n",
              "      <th>Oil_MA2</th>\n",
              "      <th>Oil_MA3</th>\n",
              "      <th>Oil_MA4</th>\n",
              "      <th>Oil_MA5</th>\n",
              "      <th>Oil_MA6</th>\n",
              "      <th>Oil_MA7</th>\n",
              "      <th>Oil_MA8</th>\n",
              "      <th>Oil_MA9</th>\n",
              "      <th>Oil_MA10</th>\n",
              "      <th>DTB3_MA1</th>\n",
              "      <th>DTB3_MA2</th>\n",
              "      <th>DTB3_MA3</th>\n",
              "      <th>DTB3_MA4</th>\n",
              "      <th>DTB3_MA5</th>\n",
              "      <th>DTB3_MA6</th>\n",
              "      <th>DTB3_MA7</th>\n",
              "      <th>DTB3_MA8</th>\n",
              "      <th>DTB3_MA9</th>\n",
              "      <th>DTB3_MA10</th>\n",
              "      <th>DTB3_USDJPY</th>\n",
              "      <th>DTB3_DXY</th>\n",
              "      <th>DTB3_Oil_MA1</th>\n",
              "      <th>DTB3_Oil_MA2</th>\n",
              "      <th>DTB3_Oil_MA3</th>\n",
              "      <th>DTB3_Oil_MA4</th>\n",
              "      <th>DTB3_Oil_MA5</th>\n",
              "      <th>DTB3_Oil_MA6</th>\n",
              "      <th>DTB3_Oil_MA7</th>\n",
              "      <th>DTB3_Oil_MA8</th>\n",
              "      <th>DTB3_Oil_MA9</th>\n",
              "      <th>DTB3_Oil_MA10</th>\n",
              "      <th>DTB3_DTB3_MA1</th>\n",
              "      <th>DTB3_DTB3_MA2</th>\n",
              "      <th>DTB3_DTB3_MA3</th>\n",
              "      <th>...</th>\n",
              "      <th>DTB3_MA1_DTB3_MA7</th>\n",
              "      <th>DTB3_MA1_DTB3_MA8</th>\n",
              "      <th>DTB3_MA1_DTB3_MA9</th>\n",
              "      <th>DTB3_MA1_DTB3_MA10</th>\n",
              "      <th>DTB3_MA2_DTB3_MA3</th>\n",
              "      <th>DTB3_MA2_DTB3_MA4</th>\n",
              "      <th>DTB3_MA2_DTB3_MA5</th>\n",
              "      <th>DTB3_MA2_DTB3_MA6</th>\n",
              "      <th>DTB3_MA2_DTB3_MA7</th>\n",
              "      <th>DTB3_MA2_DTB3_MA8</th>\n",
              "      <th>DTB3_MA2_DTB3_MA9</th>\n",
              "      <th>DTB3_MA2_DTB3_MA10</th>\n",
              "      <th>DTB3_MA3_DTB3_MA4</th>\n",
              "      <th>DTB3_MA3_DTB3_MA5</th>\n",
              "      <th>DTB3_MA3_DTB3_MA6</th>\n",
              "      <th>DTB3_MA3_DTB3_MA7</th>\n",
              "      <th>DTB3_MA3_DTB3_MA8</th>\n",
              "      <th>DTB3_MA3_DTB3_MA9</th>\n",
              "      <th>DTB3_MA3_DTB3_MA10</th>\n",
              "      <th>DTB3_MA4_DTB3_MA5</th>\n",
              "      <th>DTB3_MA4_DTB3_MA6</th>\n",
              "      <th>DTB3_MA4_DTB3_MA7</th>\n",
              "      <th>DTB3_MA4_DTB3_MA8</th>\n",
              "      <th>DTB3_MA4_DTB3_MA9</th>\n",
              "      <th>DTB3_MA4_DTB3_MA10</th>\n",
              "      <th>DTB3_MA5_DTB3_MA6</th>\n",
              "      <th>DTB3_MA5_DTB3_MA7</th>\n",
              "      <th>DTB3_MA5_DTB3_MA8</th>\n",
              "      <th>DTB3_MA5_DTB3_MA9</th>\n",
              "      <th>DTB3_MA5_DTB3_MA10</th>\n",
              "      <th>DTB3_MA6_DTB3_MA7</th>\n",
              "      <th>DTB3_MA6_DTB3_MA8</th>\n",
              "      <th>DTB3_MA6_DTB3_MA9</th>\n",
              "      <th>DTB3_MA6_DTB3_MA10</th>\n",
              "      <th>DTB3_MA7_DTB3_MA8</th>\n",
              "      <th>DTB3_MA7_DTB3_MA9</th>\n",
              "      <th>DTB3_MA7_DTB3_MA10</th>\n",
              "      <th>DTB3_MA8_DTB3_MA9</th>\n",
              "      <th>DTB3_MA8_DTB3_MA10</th>\n",
              "      <th>DTB3_MA9_DTB3_MA10</th>\n",
              "    </tr>\n",
              "    <tr>\n",
              "      <th>Date</th>\n",
              "      <th></th>\n",
              "      <th></th>\n",
              "      <th></th>\n",
              "      <th></th>\n",
              "      <th></th>\n",
              "      <th></th>\n",
              "      <th></th>\n",
              "      <th></th>\n",
              "      <th></th>\n",
              "      <th></th>\n",
              "      <th></th>\n",
              "      <th></th>\n",
              "      <th></th>\n",
              "      <th></th>\n",
              "      <th></th>\n",
              "      <th></th>\n",
              "      <th></th>\n",
              "      <th></th>\n",
              "      <th></th>\n",
              "      <th></th>\n",
              "      <th></th>\n",
              "      <th></th>\n",
              "      <th></th>\n",
              "      <th></th>\n",
              "      <th></th>\n",
              "      <th></th>\n",
              "      <th></th>\n",
              "      <th></th>\n",
              "      <th></th>\n",
              "      <th></th>\n",
              "      <th></th>\n",
              "      <th></th>\n",
              "      <th></th>\n",
              "      <th></th>\n",
              "      <th></th>\n",
              "      <th></th>\n",
              "      <th></th>\n",
              "      <th></th>\n",
              "      <th></th>\n",
              "      <th></th>\n",
              "      <th></th>\n",
              "      <th></th>\n",
              "      <th></th>\n",
              "      <th></th>\n",
              "      <th></th>\n",
              "      <th></th>\n",
              "      <th></th>\n",
              "      <th></th>\n",
              "      <th></th>\n",
              "      <th></th>\n",
              "      <th></th>\n",
              "      <th></th>\n",
              "      <th></th>\n",
              "      <th></th>\n",
              "      <th></th>\n",
              "      <th></th>\n",
              "      <th></th>\n",
              "      <th></th>\n",
              "      <th></th>\n",
              "      <th></th>\n",
              "      <th></th>\n",
              "      <th></th>\n",
              "      <th></th>\n",
              "      <th></th>\n",
              "      <th></th>\n",
              "      <th></th>\n",
              "      <th></th>\n",
              "      <th></th>\n",
              "      <th></th>\n",
              "      <th></th>\n",
              "      <th></th>\n",
              "      <th></th>\n",
              "      <th></th>\n",
              "      <th></th>\n",
              "      <th></th>\n",
              "      <th></th>\n",
              "      <th></th>\n",
              "      <th></th>\n",
              "      <th></th>\n",
              "      <th></th>\n",
              "      <th></th>\n",
              "    </tr>\n",
              "  </thead>\n",
              "  <tbody>\n",
              "    <tr>\n",
              "      <th>1988-03-04</th>\n",
              "      <td>14.00</td>\n",
              "      <td>NaN</td>\n",
              "      <td>0.0571</td>\n",
              "      <td>128.58</td>\n",
              "      <td>90.56</td>\n",
              "      <td>NaN</td>\n",
              "      <td>NaN</td>\n",
              "      <td>NaN</td>\n",
              "      <td>NaN</td>\n",
              "      <td>NaN</td>\n",
              "      <td>NaN</td>\n",
              "      <td>NaN</td>\n",
              "      <td>NaN</td>\n",
              "      <td>NaN</td>\n",
              "      <td>NaN</td>\n",
              "      <td>NaN</td>\n",
              "      <td>NaN</td>\n",
              "      <td>NaN</td>\n",
              "      <td>NaN</td>\n",
              "      <td>NaN</td>\n",
              "      <td>NaN</td>\n",
              "      <td>NaN</td>\n",
              "      <td>NaN</td>\n",
              "      <td>NaN</td>\n",
              "      <td>NaN</td>\n",
              "      <td>7.341918</td>\n",
              "      <td>5.170976</td>\n",
              "      <td>NaN</td>\n",
              "      <td>NaN</td>\n",
              "      <td>NaN</td>\n",
              "      <td>NaN</td>\n",
              "      <td>NaN</td>\n",
              "      <td>NaN</td>\n",
              "      <td>NaN</td>\n",
              "      <td>NaN</td>\n",
              "      <td>NaN</td>\n",
              "      <td>NaN</td>\n",
              "      <td>NaN</td>\n",
              "      <td>NaN</td>\n",
              "      <td>NaN</td>\n",
              "      <td>...</td>\n",
              "      <td>NaN</td>\n",
              "      <td>NaN</td>\n",
              "      <td>NaN</td>\n",
              "      <td>NaN</td>\n",
              "      <td>NaN</td>\n",
              "      <td>NaN</td>\n",
              "      <td>NaN</td>\n",
              "      <td>NaN</td>\n",
              "      <td>NaN</td>\n",
              "      <td>NaN</td>\n",
              "      <td>NaN</td>\n",
              "      <td>NaN</td>\n",
              "      <td>NaN</td>\n",
              "      <td>NaN</td>\n",
              "      <td>NaN</td>\n",
              "      <td>NaN</td>\n",
              "      <td>NaN</td>\n",
              "      <td>NaN</td>\n",
              "      <td>NaN</td>\n",
              "      <td>NaN</td>\n",
              "      <td>NaN</td>\n",
              "      <td>NaN</td>\n",
              "      <td>NaN</td>\n",
              "      <td>NaN</td>\n",
              "      <td>NaN</td>\n",
              "      <td>NaN</td>\n",
              "      <td>NaN</td>\n",
              "      <td>NaN</td>\n",
              "      <td>NaN</td>\n",
              "      <td>NaN</td>\n",
              "      <td>NaN</td>\n",
              "      <td>NaN</td>\n",
              "      <td>NaN</td>\n",
              "      <td>NaN</td>\n",
              "      <td>NaN</td>\n",
              "      <td>NaN</td>\n",
              "      <td>NaN</td>\n",
              "      <td>NaN</td>\n",
              "      <td>NaN</td>\n",
              "      <td>NaN</td>\n",
              "    </tr>\n",
              "    <tr>\n",
              "      <th>1988-03-07</th>\n",
              "      <td>13.90</td>\n",
              "      <td>-0.007168</td>\n",
              "      <td>0.0572</td>\n",
              "      <td>127.76</td>\n",
              "      <td>89.77</td>\n",
              "      <td>14.00</td>\n",
              "      <td>NaN</td>\n",
              "      <td>NaN</td>\n",
              "      <td>NaN</td>\n",
              "      <td>NaN</td>\n",
              "      <td>NaN</td>\n",
              "      <td>NaN</td>\n",
              "      <td>NaN</td>\n",
              "      <td>NaN</td>\n",
              "      <td>NaN</td>\n",
              "      <td>0.0571</td>\n",
              "      <td>NaN</td>\n",
              "      <td>NaN</td>\n",
              "      <td>NaN</td>\n",
              "      <td>NaN</td>\n",
              "      <td>NaN</td>\n",
              "      <td>NaN</td>\n",
              "      <td>NaN</td>\n",
              "      <td>NaN</td>\n",
              "      <td>NaN</td>\n",
              "      <td>7.307872</td>\n",
              "      <td>5.134844</td>\n",
              "      <td>0.80080</td>\n",
              "      <td>NaN</td>\n",
              "      <td>NaN</td>\n",
              "      <td>NaN</td>\n",
              "      <td>NaN</td>\n",
              "      <td>NaN</td>\n",
              "      <td>NaN</td>\n",
              "      <td>NaN</td>\n",
              "      <td>NaN</td>\n",
              "      <td>NaN</td>\n",
              "      <td>0.003266</td>\n",
              "      <td>NaN</td>\n",
              "      <td>NaN</td>\n",
              "      <td>...</td>\n",
              "      <td>NaN</td>\n",
              "      <td>NaN</td>\n",
              "      <td>NaN</td>\n",
              "      <td>NaN</td>\n",
              "      <td>NaN</td>\n",
              "      <td>NaN</td>\n",
              "      <td>NaN</td>\n",
              "      <td>NaN</td>\n",
              "      <td>NaN</td>\n",
              "      <td>NaN</td>\n",
              "      <td>NaN</td>\n",
              "      <td>NaN</td>\n",
              "      <td>NaN</td>\n",
              "      <td>NaN</td>\n",
              "      <td>NaN</td>\n",
              "      <td>NaN</td>\n",
              "      <td>NaN</td>\n",
              "      <td>NaN</td>\n",
              "      <td>NaN</td>\n",
              "      <td>NaN</td>\n",
              "      <td>NaN</td>\n",
              "      <td>NaN</td>\n",
              "      <td>NaN</td>\n",
              "      <td>NaN</td>\n",
              "      <td>NaN</td>\n",
              "      <td>NaN</td>\n",
              "      <td>NaN</td>\n",
              "      <td>NaN</td>\n",
              "      <td>NaN</td>\n",
              "      <td>NaN</td>\n",
              "      <td>NaN</td>\n",
              "      <td>NaN</td>\n",
              "      <td>NaN</td>\n",
              "      <td>NaN</td>\n",
              "      <td>NaN</td>\n",
              "      <td>NaN</td>\n",
              "      <td>NaN</td>\n",
              "      <td>NaN</td>\n",
              "      <td>NaN</td>\n",
              "      <td>NaN</td>\n",
              "    </tr>\n",
              "    <tr>\n",
              "      <th>1988-03-08</th>\n",
              "      <td>13.80</td>\n",
              "      <td>-0.007220</td>\n",
              "      <td>0.0574</td>\n",
              "      <td>127.80</td>\n",
              "      <td>89.35</td>\n",
              "      <td>13.90</td>\n",
              "      <td>13.95</td>\n",
              "      <td>NaN</td>\n",
              "      <td>NaN</td>\n",
              "      <td>NaN</td>\n",
              "      <td>NaN</td>\n",
              "      <td>NaN</td>\n",
              "      <td>NaN</td>\n",
              "      <td>NaN</td>\n",
              "      <td>NaN</td>\n",
              "      <td>0.0572</td>\n",
              "      <td>0.05715</td>\n",
              "      <td>NaN</td>\n",
              "      <td>NaN</td>\n",
              "      <td>NaN</td>\n",
              "      <td>NaN</td>\n",
              "      <td>NaN</td>\n",
              "      <td>NaN</td>\n",
              "      <td>NaN</td>\n",
              "      <td>NaN</td>\n",
              "      <td>7.335720</td>\n",
              "      <td>5.128690</td>\n",
              "      <td>0.79786</td>\n",
              "      <td>0.800730</td>\n",
              "      <td>NaN</td>\n",
              "      <td>NaN</td>\n",
              "      <td>NaN</td>\n",
              "      <td>NaN</td>\n",
              "      <td>NaN</td>\n",
              "      <td>NaN</td>\n",
              "      <td>NaN</td>\n",
              "      <td>NaN</td>\n",
              "      <td>0.003283</td>\n",
              "      <td>0.003280</td>\n",
              "      <td>NaN</td>\n",
              "      <td>...</td>\n",
              "      <td>NaN</td>\n",
              "      <td>NaN</td>\n",
              "      <td>NaN</td>\n",
              "      <td>NaN</td>\n",
              "      <td>NaN</td>\n",
              "      <td>NaN</td>\n",
              "      <td>NaN</td>\n",
              "      <td>NaN</td>\n",
              "      <td>NaN</td>\n",
              "      <td>NaN</td>\n",
              "      <td>NaN</td>\n",
              "      <td>NaN</td>\n",
              "      <td>NaN</td>\n",
              "      <td>NaN</td>\n",
              "      <td>NaN</td>\n",
              "      <td>NaN</td>\n",
              "      <td>NaN</td>\n",
              "      <td>NaN</td>\n",
              "      <td>NaN</td>\n",
              "      <td>NaN</td>\n",
              "      <td>NaN</td>\n",
              "      <td>NaN</td>\n",
              "      <td>NaN</td>\n",
              "      <td>NaN</td>\n",
              "      <td>NaN</td>\n",
              "      <td>NaN</td>\n",
              "      <td>NaN</td>\n",
              "      <td>NaN</td>\n",
              "      <td>NaN</td>\n",
              "      <td>NaN</td>\n",
              "      <td>NaN</td>\n",
              "      <td>NaN</td>\n",
              "      <td>NaN</td>\n",
              "      <td>NaN</td>\n",
              "      <td>NaN</td>\n",
              "      <td>NaN</td>\n",
              "      <td>NaN</td>\n",
              "      <td>NaN</td>\n",
              "      <td>NaN</td>\n",
              "      <td>NaN</td>\n",
              "    </tr>\n",
              "    <tr>\n",
              "      <th>1988-03-09</th>\n",
              "      <td>13.98</td>\n",
              "      <td>0.012959</td>\n",
              "      <td>0.0573</td>\n",
              "      <td>128.12</td>\n",
              "      <td>89.32</td>\n",
              "      <td>13.80</td>\n",
              "      <td>13.85</td>\n",
              "      <td>13.900000</td>\n",
              "      <td>NaN</td>\n",
              "      <td>NaN</td>\n",
              "      <td>NaN</td>\n",
              "      <td>NaN</td>\n",
              "      <td>NaN</td>\n",
              "      <td>NaN</td>\n",
              "      <td>NaN</td>\n",
              "      <td>0.0574</td>\n",
              "      <td>0.05730</td>\n",
              "      <td>0.057233</td>\n",
              "      <td>NaN</td>\n",
              "      <td>NaN</td>\n",
              "      <td>NaN</td>\n",
              "      <td>NaN</td>\n",
              "      <td>NaN</td>\n",
              "      <td>NaN</td>\n",
              "      <td>NaN</td>\n",
              "      <td>7.341276</td>\n",
              "      <td>5.118036</td>\n",
              "      <td>0.79074</td>\n",
              "      <td>0.793605</td>\n",
              "      <td>0.796470</td>\n",
              "      <td>NaN</td>\n",
              "      <td>NaN</td>\n",
              "      <td>NaN</td>\n",
              "      <td>NaN</td>\n",
              "      <td>NaN</td>\n",
              "      <td>NaN</td>\n",
              "      <td>NaN</td>\n",
              "      <td>0.003289</td>\n",
              "      <td>0.003283</td>\n",
              "      <td>0.003279</td>\n",
              "      <td>...</td>\n",
              "      <td>NaN</td>\n",
              "      <td>NaN</td>\n",
              "      <td>NaN</td>\n",
              "      <td>NaN</td>\n",
              "      <td>0.003279</td>\n",
              "      <td>NaN</td>\n",
              "      <td>NaN</td>\n",
              "      <td>NaN</td>\n",
              "      <td>NaN</td>\n",
              "      <td>NaN</td>\n",
              "      <td>NaN</td>\n",
              "      <td>NaN</td>\n",
              "      <td>NaN</td>\n",
              "      <td>NaN</td>\n",
              "      <td>NaN</td>\n",
              "      <td>NaN</td>\n",
              "      <td>NaN</td>\n",
              "      <td>NaN</td>\n",
              "      <td>NaN</td>\n",
              "      <td>NaN</td>\n",
              "      <td>NaN</td>\n",
              "      <td>NaN</td>\n",
              "      <td>NaN</td>\n",
              "      <td>NaN</td>\n",
              "      <td>NaN</td>\n",
              "      <td>NaN</td>\n",
              "      <td>NaN</td>\n",
              "      <td>NaN</td>\n",
              "      <td>NaN</td>\n",
              "      <td>NaN</td>\n",
              "      <td>NaN</td>\n",
              "      <td>NaN</td>\n",
              "      <td>NaN</td>\n",
              "      <td>NaN</td>\n",
              "      <td>NaN</td>\n",
              "      <td>NaN</td>\n",
              "      <td>NaN</td>\n",
              "      <td>NaN</td>\n",
              "      <td>NaN</td>\n",
              "      <td>NaN</td>\n",
              "    </tr>\n",
              "    <tr>\n",
              "      <th>1988-03-10</th>\n",
              "      <td>14.48</td>\n",
              "      <td>0.035141</td>\n",
              "      <td>0.0575</td>\n",
              "      <td>127.88</td>\n",
              "      <td>89.38</td>\n",
              "      <td>13.98</td>\n",
              "      <td>13.89</td>\n",
              "      <td>13.893333</td>\n",
              "      <td>13.92</td>\n",
              "      <td>NaN</td>\n",
              "      <td>NaN</td>\n",
              "      <td>NaN</td>\n",
              "      <td>NaN</td>\n",
              "      <td>NaN</td>\n",
              "      <td>NaN</td>\n",
              "      <td>0.0573</td>\n",
              "      <td>0.05735</td>\n",
              "      <td>0.057300</td>\n",
              "      <td>0.05725</td>\n",
              "      <td>NaN</td>\n",
              "      <td>NaN</td>\n",
              "      <td>NaN</td>\n",
              "      <td>NaN</td>\n",
              "      <td>NaN</td>\n",
              "      <td>NaN</td>\n",
              "      <td>7.353100</td>\n",
              "      <td>5.139350</td>\n",
              "      <td>0.80385</td>\n",
              "      <td>0.798675</td>\n",
              "      <td>0.798867</td>\n",
              "      <td>0.8004</td>\n",
              "      <td>NaN</td>\n",
              "      <td>NaN</td>\n",
              "      <td>NaN</td>\n",
              "      <td>NaN</td>\n",
              "      <td>NaN</td>\n",
              "      <td>NaN</td>\n",
              "      <td>0.003295</td>\n",
              "      <td>0.003298</td>\n",
              "      <td>0.003295</td>\n",
              "      <td>...</td>\n",
              "      <td>NaN</td>\n",
              "      <td>NaN</td>\n",
              "      <td>NaN</td>\n",
              "      <td>NaN</td>\n",
              "      <td>0.003286</td>\n",
              "      <td>0.003283</td>\n",
              "      <td>NaN</td>\n",
              "      <td>NaN</td>\n",
              "      <td>NaN</td>\n",
              "      <td>NaN</td>\n",
              "      <td>NaN</td>\n",
              "      <td>NaN</td>\n",
              "      <td>0.00328</td>\n",
              "      <td>NaN</td>\n",
              "      <td>NaN</td>\n",
              "      <td>NaN</td>\n",
              "      <td>NaN</td>\n",
              "      <td>NaN</td>\n",
              "      <td>NaN</td>\n",
              "      <td>NaN</td>\n",
              "      <td>NaN</td>\n",
              "      <td>NaN</td>\n",
              "      <td>NaN</td>\n",
              "      <td>NaN</td>\n",
              "      <td>NaN</td>\n",
              "      <td>NaN</td>\n",
              "      <td>NaN</td>\n",
              "      <td>NaN</td>\n",
              "      <td>NaN</td>\n",
              "      <td>NaN</td>\n",
              "      <td>NaN</td>\n",
              "      <td>NaN</td>\n",
              "      <td>NaN</td>\n",
              "      <td>NaN</td>\n",
              "      <td>NaN</td>\n",
              "      <td>NaN</td>\n",
              "      <td>NaN</td>\n",
              "      <td>NaN</td>\n",
              "      <td>NaN</td>\n",
              "      <td>NaN</td>\n",
              "    </tr>\n",
              "  </tbody>\n",
              "</table>\n",
              "<p>5 rows × 278 columns</p>\n",
              "</div>"
            ],
            "text/plain": [
              "            Oil_price  Oil_log_return  ...  DTB3_MA8_DTB3_MA10  DTB3_MA9_DTB3_MA10\n",
              "Date                                   ...                                        \n",
              "1988-03-04      14.00             NaN  ...                 NaN                 NaN\n",
              "1988-03-07      13.90       -0.007168  ...                 NaN                 NaN\n",
              "1988-03-08      13.80       -0.007220  ...                 NaN                 NaN\n",
              "1988-03-09      13.98        0.012959  ...                 NaN                 NaN\n",
              "1988-03-10      14.48        0.035141  ...                 NaN                 NaN\n",
              "\n",
              "[5 rows x 278 columns]"
            ]
          },
          "metadata": {
            "tags": []
          },
          "execution_count": 215
        }
      ]
    },
    {
      "cell_type": "code",
      "metadata": {
        "colab": {
          "base_uri": "https://localhost:8080/",
          "height": 374
        },
        "id": "QtbjeuMEC5i4",
        "outputId": "94b5ec86-4660-4ff5-9354-981ccc00d609"
      },
      "source": [
        "# NaN 값을 제거\n",
        "dataset = dataset.dropna()\n",
        "dataset.head()"
      ],
      "execution_count": 216,
      "outputs": [
        {
          "output_type": "execute_result",
          "data": {
            "text/html": [
              "<div>\n",
              "<style scoped>\n",
              "    .dataframe tbody tr th:only-of-type {\n",
              "        vertical-align: middle;\n",
              "    }\n",
              "\n",
              "    .dataframe tbody tr th {\n",
              "        vertical-align: top;\n",
              "    }\n",
              "\n",
              "    .dataframe thead th {\n",
              "        text-align: right;\n",
              "    }\n",
              "</style>\n",
              "<table border=\"1\" class=\"dataframe\">\n",
              "  <thead>\n",
              "    <tr style=\"text-align: right;\">\n",
              "      <th></th>\n",
              "      <th>Oil_price</th>\n",
              "      <th>Oil_log_return</th>\n",
              "      <th>DTB3</th>\n",
              "      <th>USDJPY</th>\n",
              "      <th>DXY</th>\n",
              "      <th>Oil_MA1</th>\n",
              "      <th>Oil_MA2</th>\n",
              "      <th>Oil_MA3</th>\n",
              "      <th>Oil_MA4</th>\n",
              "      <th>Oil_MA5</th>\n",
              "      <th>Oil_MA6</th>\n",
              "      <th>Oil_MA7</th>\n",
              "      <th>Oil_MA8</th>\n",
              "      <th>Oil_MA9</th>\n",
              "      <th>Oil_MA10</th>\n",
              "      <th>DTB3_MA1</th>\n",
              "      <th>DTB3_MA2</th>\n",
              "      <th>DTB3_MA3</th>\n",
              "      <th>DTB3_MA4</th>\n",
              "      <th>DTB3_MA5</th>\n",
              "      <th>DTB3_MA6</th>\n",
              "      <th>DTB3_MA7</th>\n",
              "      <th>DTB3_MA8</th>\n",
              "      <th>DTB3_MA9</th>\n",
              "      <th>DTB3_MA10</th>\n",
              "      <th>DTB3_USDJPY</th>\n",
              "      <th>DTB3_DXY</th>\n",
              "      <th>DTB3_Oil_MA1</th>\n",
              "      <th>DTB3_Oil_MA2</th>\n",
              "      <th>DTB3_Oil_MA3</th>\n",
              "      <th>DTB3_Oil_MA4</th>\n",
              "      <th>DTB3_Oil_MA5</th>\n",
              "      <th>DTB3_Oil_MA6</th>\n",
              "      <th>DTB3_Oil_MA7</th>\n",
              "      <th>DTB3_Oil_MA8</th>\n",
              "      <th>DTB3_Oil_MA9</th>\n",
              "      <th>DTB3_Oil_MA10</th>\n",
              "      <th>DTB3_DTB3_MA1</th>\n",
              "      <th>DTB3_DTB3_MA2</th>\n",
              "      <th>DTB3_DTB3_MA3</th>\n",
              "      <th>...</th>\n",
              "      <th>DTB3_MA1_DTB3_MA7</th>\n",
              "      <th>DTB3_MA1_DTB3_MA8</th>\n",
              "      <th>DTB3_MA1_DTB3_MA9</th>\n",
              "      <th>DTB3_MA1_DTB3_MA10</th>\n",
              "      <th>DTB3_MA2_DTB3_MA3</th>\n",
              "      <th>DTB3_MA2_DTB3_MA4</th>\n",
              "      <th>DTB3_MA2_DTB3_MA5</th>\n",
              "      <th>DTB3_MA2_DTB3_MA6</th>\n",
              "      <th>DTB3_MA2_DTB3_MA7</th>\n",
              "      <th>DTB3_MA2_DTB3_MA8</th>\n",
              "      <th>DTB3_MA2_DTB3_MA9</th>\n",
              "      <th>DTB3_MA2_DTB3_MA10</th>\n",
              "      <th>DTB3_MA3_DTB3_MA4</th>\n",
              "      <th>DTB3_MA3_DTB3_MA5</th>\n",
              "      <th>DTB3_MA3_DTB3_MA6</th>\n",
              "      <th>DTB3_MA3_DTB3_MA7</th>\n",
              "      <th>DTB3_MA3_DTB3_MA8</th>\n",
              "      <th>DTB3_MA3_DTB3_MA9</th>\n",
              "      <th>DTB3_MA3_DTB3_MA10</th>\n",
              "      <th>DTB3_MA4_DTB3_MA5</th>\n",
              "      <th>DTB3_MA4_DTB3_MA6</th>\n",
              "      <th>DTB3_MA4_DTB3_MA7</th>\n",
              "      <th>DTB3_MA4_DTB3_MA8</th>\n",
              "      <th>DTB3_MA4_DTB3_MA9</th>\n",
              "      <th>DTB3_MA4_DTB3_MA10</th>\n",
              "      <th>DTB3_MA5_DTB3_MA6</th>\n",
              "      <th>DTB3_MA5_DTB3_MA7</th>\n",
              "      <th>DTB3_MA5_DTB3_MA8</th>\n",
              "      <th>DTB3_MA5_DTB3_MA9</th>\n",
              "      <th>DTB3_MA5_DTB3_MA10</th>\n",
              "      <th>DTB3_MA6_DTB3_MA7</th>\n",
              "      <th>DTB3_MA6_DTB3_MA8</th>\n",
              "      <th>DTB3_MA6_DTB3_MA9</th>\n",
              "      <th>DTB3_MA6_DTB3_MA10</th>\n",
              "      <th>DTB3_MA7_DTB3_MA8</th>\n",
              "      <th>DTB3_MA7_DTB3_MA9</th>\n",
              "      <th>DTB3_MA7_DTB3_MA10</th>\n",
              "      <th>DTB3_MA8_DTB3_MA9</th>\n",
              "      <th>DTB3_MA8_DTB3_MA10</th>\n",
              "      <th>DTB3_MA9_DTB3_MA10</th>\n",
              "    </tr>\n",
              "    <tr>\n",
              "      <th>Date</th>\n",
              "      <th></th>\n",
              "      <th></th>\n",
              "      <th></th>\n",
              "      <th></th>\n",
              "      <th></th>\n",
              "      <th></th>\n",
              "      <th></th>\n",
              "      <th></th>\n",
              "      <th></th>\n",
              "      <th></th>\n",
              "      <th></th>\n",
              "      <th></th>\n",
              "      <th></th>\n",
              "      <th></th>\n",
              "      <th></th>\n",
              "      <th></th>\n",
              "      <th></th>\n",
              "      <th></th>\n",
              "      <th></th>\n",
              "      <th></th>\n",
              "      <th></th>\n",
              "      <th></th>\n",
              "      <th></th>\n",
              "      <th></th>\n",
              "      <th></th>\n",
              "      <th></th>\n",
              "      <th></th>\n",
              "      <th></th>\n",
              "      <th></th>\n",
              "      <th></th>\n",
              "      <th></th>\n",
              "      <th></th>\n",
              "      <th></th>\n",
              "      <th></th>\n",
              "      <th></th>\n",
              "      <th></th>\n",
              "      <th></th>\n",
              "      <th></th>\n",
              "      <th></th>\n",
              "      <th></th>\n",
              "      <th></th>\n",
              "      <th></th>\n",
              "      <th></th>\n",
              "      <th></th>\n",
              "      <th></th>\n",
              "      <th></th>\n",
              "      <th></th>\n",
              "      <th></th>\n",
              "      <th></th>\n",
              "      <th></th>\n",
              "      <th></th>\n",
              "      <th></th>\n",
              "      <th></th>\n",
              "      <th></th>\n",
              "      <th></th>\n",
              "      <th></th>\n",
              "      <th></th>\n",
              "      <th></th>\n",
              "      <th></th>\n",
              "      <th></th>\n",
              "      <th></th>\n",
              "      <th></th>\n",
              "      <th></th>\n",
              "      <th></th>\n",
              "      <th></th>\n",
              "      <th></th>\n",
              "      <th></th>\n",
              "      <th></th>\n",
              "      <th></th>\n",
              "      <th></th>\n",
              "      <th></th>\n",
              "      <th></th>\n",
              "      <th></th>\n",
              "      <th></th>\n",
              "      <th></th>\n",
              "      <th></th>\n",
              "      <th></th>\n",
              "      <th></th>\n",
              "      <th></th>\n",
              "      <th></th>\n",
              "      <th></th>\n",
              "    </tr>\n",
              "  </thead>\n",
              "  <tbody>\n",
              "    <tr>\n",
              "      <th>1988-03-18</th>\n",
              "      <td>14.93</td>\n",
              "      <td>0.034063</td>\n",
              "      <td>0.0566</td>\n",
              "      <td>127.88</td>\n",
              "      <td>90.51</td>\n",
              "      <td>14.43</td>\n",
              "      <td>14.440</td>\n",
              "      <td>14.393333</td>\n",
              "      <td>14.3650</td>\n",
              "      <td>14.468</td>\n",
              "      <td>14.470000</td>\n",
              "      <td>14.400000</td>\n",
              "      <td>14.32500</td>\n",
              "      <td>14.277778</td>\n",
              "      <td>14.250</td>\n",
              "      <td>0.0560</td>\n",
              "      <td>0.05605</td>\n",
              "      <td>0.056067</td>\n",
              "      <td>0.056300</td>\n",
              "      <td>0.05650</td>\n",
              "      <td>0.056667</td>\n",
              "      <td>0.056757</td>\n",
              "      <td>0.056837</td>\n",
              "      <td>0.056878</td>\n",
              "      <td>0.05690</td>\n",
              "      <td>7.238008</td>\n",
              "      <td>5.122866</td>\n",
              "      <td>0.816738</td>\n",
              "      <td>0.817304</td>\n",
              "      <td>0.814663</td>\n",
              "      <td>0.813059</td>\n",
              "      <td>0.818889</td>\n",
              "      <td>0.819002</td>\n",
              "      <td>0.815040</td>\n",
              "      <td>0.810795</td>\n",
              "      <td>0.808122</td>\n",
              "      <td>0.806550</td>\n",
              "      <td>0.003170</td>\n",
              "      <td>0.003172</td>\n",
              "      <td>0.003173</td>\n",
              "      <td>...</td>\n",
              "      <td>0.003178</td>\n",
              "      <td>0.003183</td>\n",
              "      <td>0.003185</td>\n",
              "      <td>0.003186</td>\n",
              "      <td>0.003143</td>\n",
              "      <td>0.003156</td>\n",
              "      <td>0.003167</td>\n",
              "      <td>0.003176</td>\n",
              "      <td>0.003181</td>\n",
              "      <td>0.003186</td>\n",
              "      <td>0.003188</td>\n",
              "      <td>0.003189</td>\n",
              "      <td>0.003157</td>\n",
              "      <td>0.003168</td>\n",
              "      <td>0.003177</td>\n",
              "      <td>0.003182</td>\n",
              "      <td>0.003187</td>\n",
              "      <td>0.003189</td>\n",
              "      <td>0.003190</td>\n",
              "      <td>0.003181</td>\n",
              "      <td>0.003190</td>\n",
              "      <td>0.003195</td>\n",
              "      <td>0.003200</td>\n",
              "      <td>0.003202</td>\n",
              "      <td>0.003203</td>\n",
              "      <td>0.003202</td>\n",
              "      <td>0.003207</td>\n",
              "      <td>0.003211</td>\n",
              "      <td>0.003214</td>\n",
              "      <td>0.003215</td>\n",
              "      <td>0.003216</td>\n",
              "      <td>0.003221</td>\n",
              "      <td>0.003223</td>\n",
              "      <td>0.003224</td>\n",
              "      <td>0.003226</td>\n",
              "      <td>0.003228</td>\n",
              "      <td>0.003229</td>\n",
              "      <td>0.003233</td>\n",
              "      <td>0.003234</td>\n",
              "      <td>0.003236</td>\n",
              "    </tr>\n",
              "    <tr>\n",
              "      <th>1988-03-21</th>\n",
              "      <td>15.38</td>\n",
              "      <td>0.029695</td>\n",
              "      <td>0.0574</td>\n",
              "      <td>126.92</td>\n",
              "      <td>90.10</td>\n",
              "      <td>14.93</td>\n",
              "      <td>14.680</td>\n",
              "      <td>14.603333</td>\n",
              "      <td>14.5275</td>\n",
              "      <td>14.478</td>\n",
              "      <td>14.545000</td>\n",
              "      <td>14.535714</td>\n",
              "      <td>14.46625</td>\n",
              "      <td>14.392222</td>\n",
              "      <td>14.343</td>\n",
              "      <td>0.0566</td>\n",
              "      <td>0.05630</td>\n",
              "      <td>0.056233</td>\n",
              "      <td>0.056200</td>\n",
              "      <td>0.05636</td>\n",
              "      <td>0.056517</td>\n",
              "      <td>0.056657</td>\n",
              "      <td>0.056737</td>\n",
              "      <td>0.056811</td>\n",
              "      <td>0.05685</td>\n",
              "      <td>7.285208</td>\n",
              "      <td>5.171740</td>\n",
              "      <td>0.856982</td>\n",
              "      <td>0.842632</td>\n",
              "      <td>0.838231</td>\n",
              "      <td>0.833878</td>\n",
              "      <td>0.831037</td>\n",
              "      <td>0.834883</td>\n",
              "      <td>0.834350</td>\n",
              "      <td>0.830363</td>\n",
              "      <td>0.826114</td>\n",
              "      <td>0.823288</td>\n",
              "      <td>0.003249</td>\n",
              "      <td>0.003232</td>\n",
              "      <td>0.003228</td>\n",
              "      <td>...</td>\n",
              "      <td>0.003207</td>\n",
              "      <td>0.003211</td>\n",
              "      <td>0.003216</td>\n",
              "      <td>0.003218</td>\n",
              "      <td>0.003166</td>\n",
              "      <td>0.003164</td>\n",
              "      <td>0.003173</td>\n",
              "      <td>0.003182</td>\n",
              "      <td>0.003190</td>\n",
              "      <td>0.003194</td>\n",
              "      <td>0.003198</td>\n",
              "      <td>0.003201</td>\n",
              "      <td>0.003160</td>\n",
              "      <td>0.003169</td>\n",
              "      <td>0.003178</td>\n",
              "      <td>0.003186</td>\n",
              "      <td>0.003191</td>\n",
              "      <td>0.003195</td>\n",
              "      <td>0.003197</td>\n",
              "      <td>0.003167</td>\n",
              "      <td>0.003176</td>\n",
              "      <td>0.003184</td>\n",
              "      <td>0.003189</td>\n",
              "      <td>0.003193</td>\n",
              "      <td>0.003195</td>\n",
              "      <td>0.003185</td>\n",
              "      <td>0.003193</td>\n",
              "      <td>0.003198</td>\n",
              "      <td>0.003202</td>\n",
              "      <td>0.003204</td>\n",
              "      <td>0.003202</td>\n",
              "      <td>0.003207</td>\n",
              "      <td>0.003211</td>\n",
              "      <td>0.003213</td>\n",
              "      <td>0.003215</td>\n",
              "      <td>0.003219</td>\n",
              "      <td>0.003221</td>\n",
              "      <td>0.003223</td>\n",
              "      <td>0.003226</td>\n",
              "      <td>0.003230</td>\n",
              "    </tr>\n",
              "    <tr>\n",
              "      <th>1988-03-22</th>\n",
              "      <td>15.03</td>\n",
              "      <td>-0.023020</td>\n",
              "      <td>0.0578</td>\n",
              "      <td>126.97</td>\n",
              "      <td>90.20</td>\n",
              "      <td>15.38</td>\n",
              "      <td>15.155</td>\n",
              "      <td>14.913333</td>\n",
              "      <td>14.7975</td>\n",
              "      <td>14.698</td>\n",
              "      <td>14.628333</td>\n",
              "      <td>14.664286</td>\n",
              "      <td>14.64125</td>\n",
              "      <td>14.567778</td>\n",
              "      <td>14.491</td>\n",
              "      <td>0.0574</td>\n",
              "      <td>0.05700</td>\n",
              "      <td>0.056667</td>\n",
              "      <td>0.056525</td>\n",
              "      <td>0.05644</td>\n",
              "      <td>0.056533</td>\n",
              "      <td>0.056643</td>\n",
              "      <td>0.056750</td>\n",
              "      <td>0.056811</td>\n",
              "      <td>0.05687</td>\n",
              "      <td>7.338866</td>\n",
              "      <td>5.213560</td>\n",
              "      <td>0.888964</td>\n",
              "      <td>0.875959</td>\n",
              "      <td>0.861991</td>\n",
              "      <td>0.855295</td>\n",
              "      <td>0.849544</td>\n",
              "      <td>0.845518</td>\n",
              "      <td>0.847596</td>\n",
              "      <td>0.846264</td>\n",
              "      <td>0.842018</td>\n",
              "      <td>0.837580</td>\n",
              "      <td>0.003318</td>\n",
              "      <td>0.003295</td>\n",
              "      <td>0.003275</td>\n",
              "      <td>...</td>\n",
              "      <td>0.003251</td>\n",
              "      <td>0.003257</td>\n",
              "      <td>0.003261</td>\n",
              "      <td>0.003264</td>\n",
              "      <td>0.003230</td>\n",
              "      <td>0.003222</td>\n",
              "      <td>0.003217</td>\n",
              "      <td>0.003222</td>\n",
              "      <td>0.003229</td>\n",
              "      <td>0.003235</td>\n",
              "      <td>0.003238</td>\n",
              "      <td>0.003242</td>\n",
              "      <td>0.003203</td>\n",
              "      <td>0.003198</td>\n",
              "      <td>0.003204</td>\n",
              "      <td>0.003210</td>\n",
              "      <td>0.003216</td>\n",
              "      <td>0.003219</td>\n",
              "      <td>0.003223</td>\n",
              "      <td>0.003190</td>\n",
              "      <td>0.003196</td>\n",
              "      <td>0.003202</td>\n",
              "      <td>0.003208</td>\n",
              "      <td>0.003211</td>\n",
              "      <td>0.003215</td>\n",
              "      <td>0.003191</td>\n",
              "      <td>0.003197</td>\n",
              "      <td>0.003203</td>\n",
              "      <td>0.003206</td>\n",
              "      <td>0.003210</td>\n",
              "      <td>0.003202</td>\n",
              "      <td>0.003208</td>\n",
              "      <td>0.003212</td>\n",
              "      <td>0.003215</td>\n",
              "      <td>0.003214</td>\n",
              "      <td>0.003218</td>\n",
              "      <td>0.003221</td>\n",
              "      <td>0.003224</td>\n",
              "      <td>0.003227</td>\n",
              "      <td>0.003231</td>\n",
              "    </tr>\n",
              "    <tr>\n",
              "      <th>1988-03-23</th>\n",
              "      <td>15.40</td>\n",
              "      <td>0.024319</td>\n",
              "      <td>0.0583</td>\n",
              "      <td>126.73</td>\n",
              "      <td>90.07</td>\n",
              "      <td>15.03</td>\n",
              "      <td>15.205</td>\n",
              "      <td>15.113333</td>\n",
              "      <td>14.9425</td>\n",
              "      <td>14.844</td>\n",
              "      <td>14.753333</td>\n",
              "      <td>14.685714</td>\n",
              "      <td>14.71000</td>\n",
              "      <td>14.684444</td>\n",
              "      <td>14.614</td>\n",
              "      <td>0.0578</td>\n",
              "      <td>0.05760</td>\n",
              "      <td>0.057267</td>\n",
              "      <td>0.056950</td>\n",
              "      <td>0.05678</td>\n",
              "      <td>0.056667</td>\n",
              "      <td>0.056714</td>\n",
              "      <td>0.056787</td>\n",
              "      <td>0.056867</td>\n",
              "      <td>0.05691</td>\n",
              "      <td>7.388359</td>\n",
              "      <td>5.251081</td>\n",
              "      <td>0.876249</td>\n",
              "      <td>0.886452</td>\n",
              "      <td>0.881107</td>\n",
              "      <td>0.871148</td>\n",
              "      <td>0.865405</td>\n",
              "      <td>0.860119</td>\n",
              "      <td>0.856177</td>\n",
              "      <td>0.857593</td>\n",
              "      <td>0.856103</td>\n",
              "      <td>0.851996</td>\n",
              "      <td>0.003370</td>\n",
              "      <td>0.003358</td>\n",
              "      <td>0.003339</td>\n",
              "      <td>...</td>\n",
              "      <td>0.003278</td>\n",
              "      <td>0.003282</td>\n",
              "      <td>0.003287</td>\n",
              "      <td>0.003289</td>\n",
              "      <td>0.003299</td>\n",
              "      <td>0.003280</td>\n",
              "      <td>0.003271</td>\n",
              "      <td>0.003264</td>\n",
              "      <td>0.003267</td>\n",
              "      <td>0.003271</td>\n",
              "      <td>0.003276</td>\n",
              "      <td>0.003278</td>\n",
              "      <td>0.003261</td>\n",
              "      <td>0.003252</td>\n",
              "      <td>0.003245</td>\n",
              "      <td>0.003248</td>\n",
              "      <td>0.003252</td>\n",
              "      <td>0.003257</td>\n",
              "      <td>0.003259</td>\n",
              "      <td>0.003234</td>\n",
              "      <td>0.003227</td>\n",
              "      <td>0.003230</td>\n",
              "      <td>0.003234</td>\n",
              "      <td>0.003239</td>\n",
              "      <td>0.003241</td>\n",
              "      <td>0.003218</td>\n",
              "      <td>0.003220</td>\n",
              "      <td>0.003224</td>\n",
              "      <td>0.003229</td>\n",
              "      <td>0.003231</td>\n",
              "      <td>0.003214</td>\n",
              "      <td>0.003218</td>\n",
              "      <td>0.003222</td>\n",
              "      <td>0.003225</td>\n",
              "      <td>0.003221</td>\n",
              "      <td>0.003225</td>\n",
              "      <td>0.003228</td>\n",
              "      <td>0.003229</td>\n",
              "      <td>0.003232</td>\n",
              "      <td>0.003236</td>\n",
              "    </tr>\n",
              "    <tr>\n",
              "      <th>1988-03-24</th>\n",
              "      <td>15.65</td>\n",
              "      <td>0.016103</td>\n",
              "      <td>0.0579</td>\n",
              "      <td>125.48</td>\n",
              "      <td>89.40</td>\n",
              "      <td>15.40</td>\n",
              "      <td>15.215</td>\n",
              "      <td>15.270000</td>\n",
              "      <td>15.1850</td>\n",
              "      <td>15.034</td>\n",
              "      <td>14.936667</td>\n",
              "      <td>14.845714</td>\n",
              "      <td>14.77500</td>\n",
              "      <td>14.786667</td>\n",
              "      <td>14.756</td>\n",
              "      <td>0.0583</td>\n",
              "      <td>0.05805</td>\n",
              "      <td>0.057833</td>\n",
              "      <td>0.057525</td>\n",
              "      <td>0.05722</td>\n",
              "      <td>0.057033</td>\n",
              "      <td>0.056900</td>\n",
              "      <td>0.056912</td>\n",
              "      <td>0.056956</td>\n",
              "      <td>0.05701</td>\n",
              "      <td>7.265292</td>\n",
              "      <td>5.176260</td>\n",
              "      <td>0.891660</td>\n",
              "      <td>0.880949</td>\n",
              "      <td>0.884133</td>\n",
              "      <td>0.879212</td>\n",
              "      <td>0.870469</td>\n",
              "      <td>0.864833</td>\n",
              "      <td>0.859567</td>\n",
              "      <td>0.855472</td>\n",
              "      <td>0.856148</td>\n",
              "      <td>0.854372</td>\n",
              "      <td>0.003376</td>\n",
              "      <td>0.003361</td>\n",
              "      <td>0.003349</td>\n",
              "      <td>...</td>\n",
              "      <td>0.003317</td>\n",
              "      <td>0.003318</td>\n",
              "      <td>0.003321</td>\n",
              "      <td>0.003324</td>\n",
              "      <td>0.003357</td>\n",
              "      <td>0.003339</td>\n",
              "      <td>0.003322</td>\n",
              "      <td>0.003311</td>\n",
              "      <td>0.003303</td>\n",
              "      <td>0.003304</td>\n",
              "      <td>0.003306</td>\n",
              "      <td>0.003309</td>\n",
              "      <td>0.003327</td>\n",
              "      <td>0.003309</td>\n",
              "      <td>0.003298</td>\n",
              "      <td>0.003291</td>\n",
              "      <td>0.003291</td>\n",
              "      <td>0.003294</td>\n",
              "      <td>0.003297</td>\n",
              "      <td>0.003292</td>\n",
              "      <td>0.003281</td>\n",
              "      <td>0.003273</td>\n",
              "      <td>0.003274</td>\n",
              "      <td>0.003276</td>\n",
              "      <td>0.003280</td>\n",
              "      <td>0.003263</td>\n",
              "      <td>0.003256</td>\n",
              "      <td>0.003257</td>\n",
              "      <td>0.003259</td>\n",
              "      <td>0.003262</td>\n",
              "      <td>0.003245</td>\n",
              "      <td>0.003246</td>\n",
              "      <td>0.003248</td>\n",
              "      <td>0.003251</td>\n",
              "      <td>0.003238</td>\n",
              "      <td>0.003241</td>\n",
              "      <td>0.003244</td>\n",
              "      <td>0.003241</td>\n",
              "      <td>0.003245</td>\n",
              "      <td>0.003247</td>\n",
              "    </tr>\n",
              "  </tbody>\n",
              "</table>\n",
              "<p>5 rows × 278 columns</p>\n",
              "</div>"
            ],
            "text/plain": [
              "            Oil_price  Oil_log_return  ...  DTB3_MA8_DTB3_MA10  DTB3_MA9_DTB3_MA10\n",
              "Date                                   ...                                        \n",
              "1988-03-18      14.93        0.034063  ...            0.003234            0.003236\n",
              "1988-03-21      15.38        0.029695  ...            0.003226            0.003230\n",
              "1988-03-22      15.03       -0.023020  ...            0.003227            0.003231\n",
              "1988-03-23      15.40        0.024319  ...            0.003232            0.003236\n",
              "1988-03-24      15.65        0.016103  ...            0.003245            0.003247\n",
              "\n",
              "[5 rows x 278 columns]"
            ]
          },
          "metadata": {
            "tags": []
          },
          "execution_count": 216
        }
      ]
    },
    {
      "cell_type": "code",
      "metadata": {
        "colab": {
          "base_uri": "https://localhost:8080/",
          "height": 374
        },
        "id": "wDwmFkpakFdJ",
        "outputId": "34a260b4-cf87-4253-efff-b0765e029c22"
      },
      "source": [
        "# 샘플 데이터의 시작일과 종료일을 선택\n",
        "start_date = \"1987-06-03\" \n",
        "end_date = \"2019-12-31\"\n",
        " \n",
        "data = dataset.loc[start_date:end_date,:].copy()\n",
        "data.head()"
      ],
      "execution_count": 217,
      "outputs": [
        {
          "output_type": "execute_result",
          "data": {
            "text/html": [
              "<div>\n",
              "<style scoped>\n",
              "    .dataframe tbody tr th:only-of-type {\n",
              "        vertical-align: middle;\n",
              "    }\n",
              "\n",
              "    .dataframe tbody tr th {\n",
              "        vertical-align: top;\n",
              "    }\n",
              "\n",
              "    .dataframe thead th {\n",
              "        text-align: right;\n",
              "    }\n",
              "</style>\n",
              "<table border=\"1\" class=\"dataframe\">\n",
              "  <thead>\n",
              "    <tr style=\"text-align: right;\">\n",
              "      <th></th>\n",
              "      <th>Oil_price</th>\n",
              "      <th>Oil_log_return</th>\n",
              "      <th>DTB3</th>\n",
              "      <th>USDJPY</th>\n",
              "      <th>DXY</th>\n",
              "      <th>Oil_MA1</th>\n",
              "      <th>Oil_MA2</th>\n",
              "      <th>Oil_MA3</th>\n",
              "      <th>Oil_MA4</th>\n",
              "      <th>Oil_MA5</th>\n",
              "      <th>Oil_MA6</th>\n",
              "      <th>Oil_MA7</th>\n",
              "      <th>Oil_MA8</th>\n",
              "      <th>Oil_MA9</th>\n",
              "      <th>Oil_MA10</th>\n",
              "      <th>DTB3_MA1</th>\n",
              "      <th>DTB3_MA2</th>\n",
              "      <th>DTB3_MA3</th>\n",
              "      <th>DTB3_MA4</th>\n",
              "      <th>DTB3_MA5</th>\n",
              "      <th>DTB3_MA6</th>\n",
              "      <th>DTB3_MA7</th>\n",
              "      <th>DTB3_MA8</th>\n",
              "      <th>DTB3_MA9</th>\n",
              "      <th>DTB3_MA10</th>\n",
              "      <th>DTB3_USDJPY</th>\n",
              "      <th>DTB3_DXY</th>\n",
              "      <th>DTB3_Oil_MA1</th>\n",
              "      <th>DTB3_Oil_MA2</th>\n",
              "      <th>DTB3_Oil_MA3</th>\n",
              "      <th>DTB3_Oil_MA4</th>\n",
              "      <th>DTB3_Oil_MA5</th>\n",
              "      <th>DTB3_Oil_MA6</th>\n",
              "      <th>DTB3_Oil_MA7</th>\n",
              "      <th>DTB3_Oil_MA8</th>\n",
              "      <th>DTB3_Oil_MA9</th>\n",
              "      <th>DTB3_Oil_MA10</th>\n",
              "      <th>DTB3_DTB3_MA1</th>\n",
              "      <th>DTB3_DTB3_MA2</th>\n",
              "      <th>DTB3_DTB3_MA3</th>\n",
              "      <th>...</th>\n",
              "      <th>DTB3_MA1_DTB3_MA7</th>\n",
              "      <th>DTB3_MA1_DTB3_MA8</th>\n",
              "      <th>DTB3_MA1_DTB3_MA9</th>\n",
              "      <th>DTB3_MA1_DTB3_MA10</th>\n",
              "      <th>DTB3_MA2_DTB3_MA3</th>\n",
              "      <th>DTB3_MA2_DTB3_MA4</th>\n",
              "      <th>DTB3_MA2_DTB3_MA5</th>\n",
              "      <th>DTB3_MA2_DTB3_MA6</th>\n",
              "      <th>DTB3_MA2_DTB3_MA7</th>\n",
              "      <th>DTB3_MA2_DTB3_MA8</th>\n",
              "      <th>DTB3_MA2_DTB3_MA9</th>\n",
              "      <th>DTB3_MA2_DTB3_MA10</th>\n",
              "      <th>DTB3_MA3_DTB3_MA4</th>\n",
              "      <th>DTB3_MA3_DTB3_MA5</th>\n",
              "      <th>DTB3_MA3_DTB3_MA6</th>\n",
              "      <th>DTB3_MA3_DTB3_MA7</th>\n",
              "      <th>DTB3_MA3_DTB3_MA8</th>\n",
              "      <th>DTB3_MA3_DTB3_MA9</th>\n",
              "      <th>DTB3_MA3_DTB3_MA10</th>\n",
              "      <th>DTB3_MA4_DTB3_MA5</th>\n",
              "      <th>DTB3_MA4_DTB3_MA6</th>\n",
              "      <th>DTB3_MA4_DTB3_MA7</th>\n",
              "      <th>DTB3_MA4_DTB3_MA8</th>\n",
              "      <th>DTB3_MA4_DTB3_MA9</th>\n",
              "      <th>DTB3_MA4_DTB3_MA10</th>\n",
              "      <th>DTB3_MA5_DTB3_MA6</th>\n",
              "      <th>DTB3_MA5_DTB3_MA7</th>\n",
              "      <th>DTB3_MA5_DTB3_MA8</th>\n",
              "      <th>DTB3_MA5_DTB3_MA9</th>\n",
              "      <th>DTB3_MA5_DTB3_MA10</th>\n",
              "      <th>DTB3_MA6_DTB3_MA7</th>\n",
              "      <th>DTB3_MA6_DTB3_MA8</th>\n",
              "      <th>DTB3_MA6_DTB3_MA9</th>\n",
              "      <th>DTB3_MA6_DTB3_MA10</th>\n",
              "      <th>DTB3_MA7_DTB3_MA8</th>\n",
              "      <th>DTB3_MA7_DTB3_MA9</th>\n",
              "      <th>DTB3_MA7_DTB3_MA10</th>\n",
              "      <th>DTB3_MA8_DTB3_MA9</th>\n",
              "      <th>DTB3_MA8_DTB3_MA10</th>\n",
              "      <th>DTB3_MA9_DTB3_MA10</th>\n",
              "    </tr>\n",
              "    <tr>\n",
              "      <th>Date</th>\n",
              "      <th></th>\n",
              "      <th></th>\n",
              "      <th></th>\n",
              "      <th></th>\n",
              "      <th></th>\n",
              "      <th></th>\n",
              "      <th></th>\n",
              "      <th></th>\n",
              "      <th></th>\n",
              "      <th></th>\n",
              "      <th></th>\n",
              "      <th></th>\n",
              "      <th></th>\n",
              "      <th></th>\n",
              "      <th></th>\n",
              "      <th></th>\n",
              "      <th></th>\n",
              "      <th></th>\n",
              "      <th></th>\n",
              "      <th></th>\n",
              "      <th></th>\n",
              "      <th></th>\n",
              "      <th></th>\n",
              "      <th></th>\n",
              "      <th></th>\n",
              "      <th></th>\n",
              "      <th></th>\n",
              "      <th></th>\n",
              "      <th></th>\n",
              "      <th></th>\n",
              "      <th></th>\n",
              "      <th></th>\n",
              "      <th></th>\n",
              "      <th></th>\n",
              "      <th></th>\n",
              "      <th></th>\n",
              "      <th></th>\n",
              "      <th></th>\n",
              "      <th></th>\n",
              "      <th></th>\n",
              "      <th></th>\n",
              "      <th></th>\n",
              "      <th></th>\n",
              "      <th></th>\n",
              "      <th></th>\n",
              "      <th></th>\n",
              "      <th></th>\n",
              "      <th></th>\n",
              "      <th></th>\n",
              "      <th></th>\n",
              "      <th></th>\n",
              "      <th></th>\n",
              "      <th></th>\n",
              "      <th></th>\n",
              "      <th></th>\n",
              "      <th></th>\n",
              "      <th></th>\n",
              "      <th></th>\n",
              "      <th></th>\n",
              "      <th></th>\n",
              "      <th></th>\n",
              "      <th></th>\n",
              "      <th></th>\n",
              "      <th></th>\n",
              "      <th></th>\n",
              "      <th></th>\n",
              "      <th></th>\n",
              "      <th></th>\n",
              "      <th></th>\n",
              "      <th></th>\n",
              "      <th></th>\n",
              "      <th></th>\n",
              "      <th></th>\n",
              "      <th></th>\n",
              "      <th></th>\n",
              "      <th></th>\n",
              "      <th></th>\n",
              "      <th></th>\n",
              "      <th></th>\n",
              "      <th></th>\n",
              "      <th></th>\n",
              "    </tr>\n",
              "  </thead>\n",
              "  <tbody>\n",
              "    <tr>\n",
              "      <th>1988-03-18</th>\n",
              "      <td>14.93</td>\n",
              "      <td>0.034063</td>\n",
              "      <td>0.0566</td>\n",
              "      <td>127.88</td>\n",
              "      <td>90.51</td>\n",
              "      <td>14.43</td>\n",
              "      <td>14.440</td>\n",
              "      <td>14.393333</td>\n",
              "      <td>14.3650</td>\n",
              "      <td>14.468</td>\n",
              "      <td>14.470000</td>\n",
              "      <td>14.400000</td>\n",
              "      <td>14.32500</td>\n",
              "      <td>14.277778</td>\n",
              "      <td>14.250</td>\n",
              "      <td>0.0560</td>\n",
              "      <td>0.05605</td>\n",
              "      <td>0.056067</td>\n",
              "      <td>0.056300</td>\n",
              "      <td>0.05650</td>\n",
              "      <td>0.056667</td>\n",
              "      <td>0.056757</td>\n",
              "      <td>0.056837</td>\n",
              "      <td>0.056878</td>\n",
              "      <td>0.05690</td>\n",
              "      <td>7.238008</td>\n",
              "      <td>5.122866</td>\n",
              "      <td>0.816738</td>\n",
              "      <td>0.817304</td>\n",
              "      <td>0.814663</td>\n",
              "      <td>0.813059</td>\n",
              "      <td>0.818889</td>\n",
              "      <td>0.819002</td>\n",
              "      <td>0.815040</td>\n",
              "      <td>0.810795</td>\n",
              "      <td>0.808122</td>\n",
              "      <td>0.806550</td>\n",
              "      <td>0.003170</td>\n",
              "      <td>0.003172</td>\n",
              "      <td>0.003173</td>\n",
              "      <td>...</td>\n",
              "      <td>0.003178</td>\n",
              "      <td>0.003183</td>\n",
              "      <td>0.003185</td>\n",
              "      <td>0.003186</td>\n",
              "      <td>0.003143</td>\n",
              "      <td>0.003156</td>\n",
              "      <td>0.003167</td>\n",
              "      <td>0.003176</td>\n",
              "      <td>0.003181</td>\n",
              "      <td>0.003186</td>\n",
              "      <td>0.003188</td>\n",
              "      <td>0.003189</td>\n",
              "      <td>0.003157</td>\n",
              "      <td>0.003168</td>\n",
              "      <td>0.003177</td>\n",
              "      <td>0.003182</td>\n",
              "      <td>0.003187</td>\n",
              "      <td>0.003189</td>\n",
              "      <td>0.003190</td>\n",
              "      <td>0.003181</td>\n",
              "      <td>0.003190</td>\n",
              "      <td>0.003195</td>\n",
              "      <td>0.003200</td>\n",
              "      <td>0.003202</td>\n",
              "      <td>0.003203</td>\n",
              "      <td>0.003202</td>\n",
              "      <td>0.003207</td>\n",
              "      <td>0.003211</td>\n",
              "      <td>0.003214</td>\n",
              "      <td>0.003215</td>\n",
              "      <td>0.003216</td>\n",
              "      <td>0.003221</td>\n",
              "      <td>0.003223</td>\n",
              "      <td>0.003224</td>\n",
              "      <td>0.003226</td>\n",
              "      <td>0.003228</td>\n",
              "      <td>0.003229</td>\n",
              "      <td>0.003233</td>\n",
              "      <td>0.003234</td>\n",
              "      <td>0.003236</td>\n",
              "    </tr>\n",
              "    <tr>\n",
              "      <th>1988-03-21</th>\n",
              "      <td>15.38</td>\n",
              "      <td>0.029695</td>\n",
              "      <td>0.0574</td>\n",
              "      <td>126.92</td>\n",
              "      <td>90.10</td>\n",
              "      <td>14.93</td>\n",
              "      <td>14.680</td>\n",
              "      <td>14.603333</td>\n",
              "      <td>14.5275</td>\n",
              "      <td>14.478</td>\n",
              "      <td>14.545000</td>\n",
              "      <td>14.535714</td>\n",
              "      <td>14.46625</td>\n",
              "      <td>14.392222</td>\n",
              "      <td>14.343</td>\n",
              "      <td>0.0566</td>\n",
              "      <td>0.05630</td>\n",
              "      <td>0.056233</td>\n",
              "      <td>0.056200</td>\n",
              "      <td>0.05636</td>\n",
              "      <td>0.056517</td>\n",
              "      <td>0.056657</td>\n",
              "      <td>0.056737</td>\n",
              "      <td>0.056811</td>\n",
              "      <td>0.05685</td>\n",
              "      <td>7.285208</td>\n",
              "      <td>5.171740</td>\n",
              "      <td>0.856982</td>\n",
              "      <td>0.842632</td>\n",
              "      <td>0.838231</td>\n",
              "      <td>0.833878</td>\n",
              "      <td>0.831037</td>\n",
              "      <td>0.834883</td>\n",
              "      <td>0.834350</td>\n",
              "      <td>0.830363</td>\n",
              "      <td>0.826114</td>\n",
              "      <td>0.823288</td>\n",
              "      <td>0.003249</td>\n",
              "      <td>0.003232</td>\n",
              "      <td>0.003228</td>\n",
              "      <td>...</td>\n",
              "      <td>0.003207</td>\n",
              "      <td>0.003211</td>\n",
              "      <td>0.003216</td>\n",
              "      <td>0.003218</td>\n",
              "      <td>0.003166</td>\n",
              "      <td>0.003164</td>\n",
              "      <td>0.003173</td>\n",
              "      <td>0.003182</td>\n",
              "      <td>0.003190</td>\n",
              "      <td>0.003194</td>\n",
              "      <td>0.003198</td>\n",
              "      <td>0.003201</td>\n",
              "      <td>0.003160</td>\n",
              "      <td>0.003169</td>\n",
              "      <td>0.003178</td>\n",
              "      <td>0.003186</td>\n",
              "      <td>0.003191</td>\n",
              "      <td>0.003195</td>\n",
              "      <td>0.003197</td>\n",
              "      <td>0.003167</td>\n",
              "      <td>0.003176</td>\n",
              "      <td>0.003184</td>\n",
              "      <td>0.003189</td>\n",
              "      <td>0.003193</td>\n",
              "      <td>0.003195</td>\n",
              "      <td>0.003185</td>\n",
              "      <td>0.003193</td>\n",
              "      <td>0.003198</td>\n",
              "      <td>0.003202</td>\n",
              "      <td>0.003204</td>\n",
              "      <td>0.003202</td>\n",
              "      <td>0.003207</td>\n",
              "      <td>0.003211</td>\n",
              "      <td>0.003213</td>\n",
              "      <td>0.003215</td>\n",
              "      <td>0.003219</td>\n",
              "      <td>0.003221</td>\n",
              "      <td>0.003223</td>\n",
              "      <td>0.003226</td>\n",
              "      <td>0.003230</td>\n",
              "    </tr>\n",
              "    <tr>\n",
              "      <th>1988-03-22</th>\n",
              "      <td>15.03</td>\n",
              "      <td>-0.023020</td>\n",
              "      <td>0.0578</td>\n",
              "      <td>126.97</td>\n",
              "      <td>90.20</td>\n",
              "      <td>15.38</td>\n",
              "      <td>15.155</td>\n",
              "      <td>14.913333</td>\n",
              "      <td>14.7975</td>\n",
              "      <td>14.698</td>\n",
              "      <td>14.628333</td>\n",
              "      <td>14.664286</td>\n",
              "      <td>14.64125</td>\n",
              "      <td>14.567778</td>\n",
              "      <td>14.491</td>\n",
              "      <td>0.0574</td>\n",
              "      <td>0.05700</td>\n",
              "      <td>0.056667</td>\n",
              "      <td>0.056525</td>\n",
              "      <td>0.05644</td>\n",
              "      <td>0.056533</td>\n",
              "      <td>0.056643</td>\n",
              "      <td>0.056750</td>\n",
              "      <td>0.056811</td>\n",
              "      <td>0.05687</td>\n",
              "      <td>7.338866</td>\n",
              "      <td>5.213560</td>\n",
              "      <td>0.888964</td>\n",
              "      <td>0.875959</td>\n",
              "      <td>0.861991</td>\n",
              "      <td>0.855295</td>\n",
              "      <td>0.849544</td>\n",
              "      <td>0.845518</td>\n",
              "      <td>0.847596</td>\n",
              "      <td>0.846264</td>\n",
              "      <td>0.842018</td>\n",
              "      <td>0.837580</td>\n",
              "      <td>0.003318</td>\n",
              "      <td>0.003295</td>\n",
              "      <td>0.003275</td>\n",
              "      <td>...</td>\n",
              "      <td>0.003251</td>\n",
              "      <td>0.003257</td>\n",
              "      <td>0.003261</td>\n",
              "      <td>0.003264</td>\n",
              "      <td>0.003230</td>\n",
              "      <td>0.003222</td>\n",
              "      <td>0.003217</td>\n",
              "      <td>0.003222</td>\n",
              "      <td>0.003229</td>\n",
              "      <td>0.003235</td>\n",
              "      <td>0.003238</td>\n",
              "      <td>0.003242</td>\n",
              "      <td>0.003203</td>\n",
              "      <td>0.003198</td>\n",
              "      <td>0.003204</td>\n",
              "      <td>0.003210</td>\n",
              "      <td>0.003216</td>\n",
              "      <td>0.003219</td>\n",
              "      <td>0.003223</td>\n",
              "      <td>0.003190</td>\n",
              "      <td>0.003196</td>\n",
              "      <td>0.003202</td>\n",
              "      <td>0.003208</td>\n",
              "      <td>0.003211</td>\n",
              "      <td>0.003215</td>\n",
              "      <td>0.003191</td>\n",
              "      <td>0.003197</td>\n",
              "      <td>0.003203</td>\n",
              "      <td>0.003206</td>\n",
              "      <td>0.003210</td>\n",
              "      <td>0.003202</td>\n",
              "      <td>0.003208</td>\n",
              "      <td>0.003212</td>\n",
              "      <td>0.003215</td>\n",
              "      <td>0.003214</td>\n",
              "      <td>0.003218</td>\n",
              "      <td>0.003221</td>\n",
              "      <td>0.003224</td>\n",
              "      <td>0.003227</td>\n",
              "      <td>0.003231</td>\n",
              "    </tr>\n",
              "    <tr>\n",
              "      <th>1988-03-23</th>\n",
              "      <td>15.40</td>\n",
              "      <td>0.024319</td>\n",
              "      <td>0.0583</td>\n",
              "      <td>126.73</td>\n",
              "      <td>90.07</td>\n",
              "      <td>15.03</td>\n",
              "      <td>15.205</td>\n",
              "      <td>15.113333</td>\n",
              "      <td>14.9425</td>\n",
              "      <td>14.844</td>\n",
              "      <td>14.753333</td>\n",
              "      <td>14.685714</td>\n",
              "      <td>14.71000</td>\n",
              "      <td>14.684444</td>\n",
              "      <td>14.614</td>\n",
              "      <td>0.0578</td>\n",
              "      <td>0.05760</td>\n",
              "      <td>0.057267</td>\n",
              "      <td>0.056950</td>\n",
              "      <td>0.05678</td>\n",
              "      <td>0.056667</td>\n",
              "      <td>0.056714</td>\n",
              "      <td>0.056787</td>\n",
              "      <td>0.056867</td>\n",
              "      <td>0.05691</td>\n",
              "      <td>7.388359</td>\n",
              "      <td>5.251081</td>\n",
              "      <td>0.876249</td>\n",
              "      <td>0.886452</td>\n",
              "      <td>0.881107</td>\n",
              "      <td>0.871148</td>\n",
              "      <td>0.865405</td>\n",
              "      <td>0.860119</td>\n",
              "      <td>0.856177</td>\n",
              "      <td>0.857593</td>\n",
              "      <td>0.856103</td>\n",
              "      <td>0.851996</td>\n",
              "      <td>0.003370</td>\n",
              "      <td>0.003358</td>\n",
              "      <td>0.003339</td>\n",
              "      <td>...</td>\n",
              "      <td>0.003278</td>\n",
              "      <td>0.003282</td>\n",
              "      <td>0.003287</td>\n",
              "      <td>0.003289</td>\n",
              "      <td>0.003299</td>\n",
              "      <td>0.003280</td>\n",
              "      <td>0.003271</td>\n",
              "      <td>0.003264</td>\n",
              "      <td>0.003267</td>\n",
              "      <td>0.003271</td>\n",
              "      <td>0.003276</td>\n",
              "      <td>0.003278</td>\n",
              "      <td>0.003261</td>\n",
              "      <td>0.003252</td>\n",
              "      <td>0.003245</td>\n",
              "      <td>0.003248</td>\n",
              "      <td>0.003252</td>\n",
              "      <td>0.003257</td>\n",
              "      <td>0.003259</td>\n",
              "      <td>0.003234</td>\n",
              "      <td>0.003227</td>\n",
              "      <td>0.003230</td>\n",
              "      <td>0.003234</td>\n",
              "      <td>0.003239</td>\n",
              "      <td>0.003241</td>\n",
              "      <td>0.003218</td>\n",
              "      <td>0.003220</td>\n",
              "      <td>0.003224</td>\n",
              "      <td>0.003229</td>\n",
              "      <td>0.003231</td>\n",
              "      <td>0.003214</td>\n",
              "      <td>0.003218</td>\n",
              "      <td>0.003222</td>\n",
              "      <td>0.003225</td>\n",
              "      <td>0.003221</td>\n",
              "      <td>0.003225</td>\n",
              "      <td>0.003228</td>\n",
              "      <td>0.003229</td>\n",
              "      <td>0.003232</td>\n",
              "      <td>0.003236</td>\n",
              "    </tr>\n",
              "    <tr>\n",
              "      <th>1988-03-24</th>\n",
              "      <td>15.65</td>\n",
              "      <td>0.016103</td>\n",
              "      <td>0.0579</td>\n",
              "      <td>125.48</td>\n",
              "      <td>89.40</td>\n",
              "      <td>15.40</td>\n",
              "      <td>15.215</td>\n",
              "      <td>15.270000</td>\n",
              "      <td>15.1850</td>\n",
              "      <td>15.034</td>\n",
              "      <td>14.936667</td>\n",
              "      <td>14.845714</td>\n",
              "      <td>14.77500</td>\n",
              "      <td>14.786667</td>\n",
              "      <td>14.756</td>\n",
              "      <td>0.0583</td>\n",
              "      <td>0.05805</td>\n",
              "      <td>0.057833</td>\n",
              "      <td>0.057525</td>\n",
              "      <td>0.05722</td>\n",
              "      <td>0.057033</td>\n",
              "      <td>0.056900</td>\n",
              "      <td>0.056912</td>\n",
              "      <td>0.056956</td>\n",
              "      <td>0.05701</td>\n",
              "      <td>7.265292</td>\n",
              "      <td>5.176260</td>\n",
              "      <td>0.891660</td>\n",
              "      <td>0.880949</td>\n",
              "      <td>0.884133</td>\n",
              "      <td>0.879212</td>\n",
              "      <td>0.870469</td>\n",
              "      <td>0.864833</td>\n",
              "      <td>0.859567</td>\n",
              "      <td>0.855472</td>\n",
              "      <td>0.856148</td>\n",
              "      <td>0.854372</td>\n",
              "      <td>0.003376</td>\n",
              "      <td>0.003361</td>\n",
              "      <td>0.003349</td>\n",
              "      <td>...</td>\n",
              "      <td>0.003317</td>\n",
              "      <td>0.003318</td>\n",
              "      <td>0.003321</td>\n",
              "      <td>0.003324</td>\n",
              "      <td>0.003357</td>\n",
              "      <td>0.003339</td>\n",
              "      <td>0.003322</td>\n",
              "      <td>0.003311</td>\n",
              "      <td>0.003303</td>\n",
              "      <td>0.003304</td>\n",
              "      <td>0.003306</td>\n",
              "      <td>0.003309</td>\n",
              "      <td>0.003327</td>\n",
              "      <td>0.003309</td>\n",
              "      <td>0.003298</td>\n",
              "      <td>0.003291</td>\n",
              "      <td>0.003291</td>\n",
              "      <td>0.003294</td>\n",
              "      <td>0.003297</td>\n",
              "      <td>0.003292</td>\n",
              "      <td>0.003281</td>\n",
              "      <td>0.003273</td>\n",
              "      <td>0.003274</td>\n",
              "      <td>0.003276</td>\n",
              "      <td>0.003280</td>\n",
              "      <td>0.003263</td>\n",
              "      <td>0.003256</td>\n",
              "      <td>0.003257</td>\n",
              "      <td>0.003259</td>\n",
              "      <td>0.003262</td>\n",
              "      <td>0.003245</td>\n",
              "      <td>0.003246</td>\n",
              "      <td>0.003248</td>\n",
              "      <td>0.003251</td>\n",
              "      <td>0.003238</td>\n",
              "      <td>0.003241</td>\n",
              "      <td>0.003244</td>\n",
              "      <td>0.003241</td>\n",
              "      <td>0.003245</td>\n",
              "      <td>0.003247</td>\n",
              "    </tr>\n",
              "  </tbody>\n",
              "</table>\n",
              "<p>5 rows × 278 columns</p>\n",
              "</div>"
            ],
            "text/plain": [
              "            Oil_price  Oil_log_return  ...  DTB3_MA8_DTB3_MA10  DTB3_MA9_DTB3_MA10\n",
              "Date                                   ...                                        \n",
              "1988-03-18      14.93        0.034063  ...            0.003234            0.003236\n",
              "1988-03-21      15.38        0.029695  ...            0.003226            0.003230\n",
              "1988-03-22      15.03       -0.023020  ...            0.003227            0.003231\n",
              "1988-03-23      15.40        0.024319  ...            0.003232            0.003236\n",
              "1988-03-24      15.65        0.016103  ...            0.003245            0.003247\n",
              "\n",
              "[5 rows x 278 columns]"
            ]
          },
          "metadata": {
            "tags": []
          },
          "execution_count": 217
        }
      ]
    },
    {
      "cell_type": "markdown",
      "metadata": {
        "id": "doOUAp6ywlx4"
      },
      "source": [
        "# 실습 - feature 선택"
      ]
    },
    {
      "cell_type": "code",
      "metadata": {
        "colab": {
          "base_uri": "https://localhost:8080/"
        },
        "id": "ZTgbmZ_awwLE",
        "outputId": "732f30a5-6c6b-49b8-87e7-2d875a53dad3"
      },
      "source": [
        "data.columns"
      ],
      "execution_count": 218,
      "outputs": [
        {
          "output_type": "execute_result",
          "data": {
            "text/plain": [
              "Index(['Oil_price', 'Oil_log_return', 'DTB3', 'USDJPY', 'DXY', 'Oil_MA1',\n",
              "       'Oil_MA2', 'Oil_MA3', 'Oil_MA4', 'Oil_MA5',\n",
              "       ...\n",
              "       'DTB3_MA6_DTB3_MA7', 'DTB3_MA6_DTB3_MA8', 'DTB3_MA6_DTB3_MA9',\n",
              "       'DTB3_MA6_DTB3_MA10', 'DTB3_MA7_DTB3_MA8', 'DTB3_MA7_DTB3_MA9',\n",
              "       'DTB3_MA7_DTB3_MA10', 'DTB3_MA8_DTB3_MA9', 'DTB3_MA8_DTB3_MA10',\n",
              "       'DTB3_MA9_DTB3_MA10'],\n",
              "      dtype='object', length=278)"
            ]
          },
          "metadata": {
            "tags": []
          },
          "execution_count": 218
        }
      ]
    },
    {
      "cell_type": "code",
      "metadata": {
        "colab": {
          "base_uri": "https://localhost:8080/",
          "height": 258
        },
        "id": "z2k3yeej4pP1",
        "outputId": "3974bf7f-7553-4d8c-804a-9a416a8978b9"
      },
      "source": [
        "# 원하는 특징 변수를 선택\n",
        "features = [\"Oil_MA1\", \"Oil_MA5\", \"Oil_MA10\", \"DTB3_Oil_MA5\"]\n",
        " \n",
        "# 선택한 특징 변수를 X로 설정\n",
        "X = data[features]\n",
        " \n",
        "# 데이터의 시작부분을 확인\n",
        "X.head()"
      ],
      "execution_count": 219,
      "outputs": [
        {
          "output_type": "execute_result",
          "data": {
            "text/html": [
              "<div>\n",
              "<style scoped>\n",
              "    .dataframe tbody tr th:only-of-type {\n",
              "        vertical-align: middle;\n",
              "    }\n",
              "\n",
              "    .dataframe tbody tr th {\n",
              "        vertical-align: top;\n",
              "    }\n",
              "\n",
              "    .dataframe thead th {\n",
              "        text-align: right;\n",
              "    }\n",
              "</style>\n",
              "<table border=\"1\" class=\"dataframe\">\n",
              "  <thead>\n",
              "    <tr style=\"text-align: right;\">\n",
              "      <th></th>\n",
              "      <th>Oil_MA1</th>\n",
              "      <th>Oil_MA5</th>\n",
              "      <th>Oil_MA10</th>\n",
              "      <th>DTB3_Oil_MA5</th>\n",
              "    </tr>\n",
              "    <tr>\n",
              "      <th>Date</th>\n",
              "      <th></th>\n",
              "      <th></th>\n",
              "      <th></th>\n",
              "      <th></th>\n",
              "    </tr>\n",
              "  </thead>\n",
              "  <tbody>\n",
              "    <tr>\n",
              "      <th>1988-03-18</th>\n",
              "      <td>14.43</td>\n",
              "      <td>14.468</td>\n",
              "      <td>14.250</td>\n",
              "      <td>0.818889</td>\n",
              "    </tr>\n",
              "    <tr>\n",
              "      <th>1988-03-21</th>\n",
              "      <td>14.93</td>\n",
              "      <td>14.478</td>\n",
              "      <td>14.343</td>\n",
              "      <td>0.831037</td>\n",
              "    </tr>\n",
              "    <tr>\n",
              "      <th>1988-03-22</th>\n",
              "      <td>15.38</td>\n",
              "      <td>14.698</td>\n",
              "      <td>14.491</td>\n",
              "      <td>0.849544</td>\n",
              "    </tr>\n",
              "    <tr>\n",
              "      <th>1988-03-23</th>\n",
              "      <td>15.03</td>\n",
              "      <td>14.844</td>\n",
              "      <td>14.614</td>\n",
              "      <td>0.865405</td>\n",
              "    </tr>\n",
              "    <tr>\n",
              "      <th>1988-03-24</th>\n",
              "      <td>15.40</td>\n",
              "      <td>15.034</td>\n",
              "      <td>14.756</td>\n",
              "      <td>0.870469</td>\n",
              "    </tr>\n",
              "  </tbody>\n",
              "</table>\n",
              "</div>"
            ],
            "text/plain": [
              "            Oil_MA1  Oil_MA5  Oil_MA10  DTB3_Oil_MA5\n",
              "Date                                                \n",
              "1988-03-18    14.43   14.468    14.250      0.818889\n",
              "1988-03-21    14.93   14.478    14.343      0.831037\n",
              "1988-03-22    15.38   14.698    14.491      0.849544\n",
              "1988-03-23    15.03   14.844    14.614      0.865405\n",
              "1988-03-24    15.40   15.034    14.756      0.870469"
            ]
          },
          "metadata": {
            "tags": []
          },
          "execution_count": 219
        }
      ]
    },
    {
      "cell_type": "markdown",
      "metadata": {
        "id": "Bpm5sVq7EynU"
      },
      "source": [
        "## 종속변수 정의\n",
        "\n"
      ]
    },
    {
      "cell_type": "code",
      "metadata": {
        "colab": {
          "base_uri": "https://localhost:8080/"
        },
        "id": "Kiig5o3VE0H0",
        "outputId": "f060d6b2-f2b6-47e8-868b-69126c19bd06"
      },
      "source": [
        "# 원하는 종속 변수를 선택 \n",
        "# \"Oil_price\"  : 오일의 가격\n",
        "# \"Oil_log_return\"  : 오일의 로그 수익률\n",
        "dep_var = \"Oil_price\"\n",
        "y = data[dep_var] \n",
        " \n",
        "# 데이터의 시작부분을 확인\n",
        "y.head()"
      ],
      "execution_count": 220,
      "outputs": [
        {
          "output_type": "execute_result",
          "data": {
            "text/plain": [
              "Date\n",
              "1988-03-18    14.93\n",
              "1988-03-21    15.38\n",
              "1988-03-22    15.03\n",
              "1988-03-23    15.40\n",
              "1988-03-24    15.65\n",
              "Name: Oil_price, dtype: float64"
            ]
          },
          "metadata": {
            "tags": []
          },
          "execution_count": 220
        }
      ]
    },
    {
      "cell_type": "markdown",
      "metadata": {
        "id": "_gjWyAWRE6BL"
      },
      "source": [
        "## Training\n",
        "\n",
        "### 데이터를 2가지 집단으로 나누기 \n",
        "* 80% : training set\n",
        "* 20% : testing set"
      ]
    },
    {
      "cell_type": "code",
      "metadata": {
        "id": "ObBhG13AE28X"
      },
      "source": [
        "# 전체 데이터의 80%를 training set으로 설정\n",
        "training = 0.8\n",
        "t = int(training*len(data))\n",
        " \n",
        "# Training dataset\n",
        "X_train = X[:t]\n",
        "y_train = y[:t]\n",
        " \n",
        "# Testing dataset\n",
        "X_test = X[t:]\n",
        "y_test = y[t:]"
      ],
      "execution_count": 221,
      "outputs": []
    },
    {
      "cell_type": "markdown",
      "metadata": {
        "id": "62VwoogatYLz"
      },
      "source": [
        "\n",
        "![](https://github.com/data-science-lab/predicting-oil-prices/blob/main/03_Result/training_test.png?raw=true)"
      ]
    },
    {
      "cell_type": "markdown",
      "metadata": {
        "id": "QdeX9DNy7Uti"
      },
      "source": [
        "## 모형 선택\n",
        "\n",
        "### 선형 회귀(Linear Regression)"
      ]
    },
    {
      "cell_type": "code",
      "metadata": {
        "id": "WSkPckSQFA5v"
      },
      "source": [
        "# 회귀 분석에 대한 계수 및 상수 생성\n",
        "linear_model = LinearRegression().fit(X_train,y_train)"
      ],
      "execution_count": 222,
      "outputs": []
    },
    {
      "cell_type": "markdown",
      "metadata": {
        "id": "bAVOCJ7EFhC8"
      },
      "source": [
        "#### Predicted Value & Actual Value 비교"
      ]
    },
    {
      "cell_type": "code",
      "metadata": {
        "colab": {
          "base_uri": "https://localhost:8080/",
          "height": 338
        },
        "id": "SDqZB7CiFjYX",
        "outputId": "52fb148c-40be-40cf-8c42-40e9f1936178"
      },
      "source": [
        "predicted_value = linear_model.predict(X_test)\n",
        "predicted_value = pd.DataFrame(predicted_value,index=y_test.index,columns = [dep_var])\n",
        "predicted_value.plot(figsize=(10,5))\n",
        "y_test.plot()\n",
        "plt.legend(['Predicted Value','Actual Value'])\n",
        "plt.ylabel(dep_var)\n",
        "plt.show()"
      ],
      "execution_count": 223,
      "outputs": [
        {
          "output_type": "display_data",
          "data": {
            "image/png": "[encoded data removed]",
            "text/plain": [
              "<Figure size 720x360 with 1 Axes>"
            ]
          },
          "metadata": {
            "tags": [],
            "needs_background": "light"
          }
        }
      ]
    },
    {
      "cell_type": "markdown",
      "metadata": {
        "id": "b85aNO8JFq8V"
      },
      "source": [
        "#### 모형 정확도(accuracy) 계산"
      ]
    },
    {
      "cell_type": "markdown",
      "metadata": {
        "id": "a-tuQrfBvkNT"
      },
      "source": [
        "![image.png](data:image/png;base64,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)"
      ]
    },
    {
      "cell_type": "markdown",
      "metadata": {
        "id": "kQNS9oLkvf2n"
      },
      "source": [
        "![image.png](data:image/png;base64,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)"
      ]
    },
    {
      "cell_type": "code",
      "metadata": {
        "colab": {
          "base_uri": "https://localhost:8080/"
        },
        "id": "ZXH8o7GxDb--",
        "outputId": "42b839b9-862b-4f24-d4fc-c7ee6c836ebc"
      },
      "source": [
        "y_hat = linear_model.predict(X_train)\n",
        "y_true = np.array(y_train)\n",
        " \n",
        "TSS = sum((y_true - y_true.mean())**2)\n",
        "ESS = sum((y_hat - y_true.mean())**2)\n",
        "RSS = sum((y_hat-y_true)**2)\n",
        " \n",
        "r_squared = 1- RSS/TSS\n",
        " \n",
        "accuracy = (\"{0:.4f}\".format(r_squared*100))\n",
        "print (\"The model has a \" + accuracy + \"% accuracy.\")"
      ],
      "execution_count": 224,
      "outputs": [
        {
          "output_type": "stream",
          "text": [
            "The model has a 99.9008% accuracy.\n"
          ],
          "name": "stdout"
        }
      ]
    },
    {
      "cell_type": "markdown",
      "metadata": {
        "id": "cYv76ZpI9R9F"
      },
      "source": [
        "### 서포트 벡터 머신(Support Vector Machine)"
      ]
    },
    {
      "cell_type": "code",
      "metadata": {
        "colab": {
          "base_uri": "https://localhost:8080/"
        },
        "id": "CZRKi7VP9SR0",
        "outputId": "06ac2b30-59db-4967-a649-cc500f2d8c98"
      },
      "source": [
        "svm_model = svm.SVR()\n",
        "svm_model.fit(X_train, y_train)"
      ],
      "execution_count": 225,
      "outputs": [
        {
          "output_type": "execute_result",
          "data": {
            "text/plain": [
              "SVR(C=1.0, cache_size=200, coef0=0.0, degree=3, epsilon=0.1, gamma='scale',\n",
              "    kernel='rbf', max_iter=-1, shrinking=True, tol=0.001, verbose=False)"
            ]
          },
          "metadata": {
            "tags": []
          },
          "execution_count": 225
        }
      ]
    },
    {
      "cell_type": "markdown",
      "metadata": {
        "id": "wUwoaW7UCwVl"
      },
      "source": [
        "#### Predicted Value & Actual Value 비교"
      ]
    },
    {
      "cell_type": "code",
      "metadata": {
        "colab": {
          "base_uri": "https://localhost:8080/",
          "height": 338
        },
        "id": "_1mqU4N3CiiX",
        "outputId": "b86e40c2-574a-49aa-891a-d6e855bea7c1"
      },
      "source": [
        "predicted_value = svm_model.predict(X_test)\n",
        "predicted_value = pd.DataFrame(predicted_value,index=y_test.index,columns = [dep_var])\n",
        "predicted_value.plot(figsize=(10,5))\n",
        "y_test.plot()\n",
        "plt.legend(['Predicted Value','Actual Value'])\n",
        "plt.ylabel(dep_var)\n",
        "plt.show()"
      ],
      "execution_count": 226,
      "outputs": [
        {
          "output_type": "display_data",
          "data": {
            "image/png": "[encoded data removed]",
            "text/plain": [
              "<Figure size 720x360 with 1 Axes>"
            ]
          },
          "metadata": {
            "tags": [],
            "needs_background": "light"
          }
        }
      ]
    },
    {
      "cell_type": "markdown",
      "metadata": {
        "id": "D6XhhNuFCypT"
      },
      "source": [
        "#### 모형 정확도(accuracy) 계산"
      ]
    },
    {
      "cell_type": "code",
      "metadata": {
        "colab": {
          "base_uri": "https://localhost:8080/"
        },
        "id": "4Z53i-33EGIB",
        "outputId": "62b19617-1c78-4e80-e679-2738b4d2a18b"
      },
      "source": [
        "y_hat = svm_model.predict(X_train)\n",
        "y_true = np.array(y_train)\n",
        " \n",
        "TSS = sum((y_true - y_true.mean())**2)\n",
        "ESS = sum((y_hat - y_true.mean())**2)\n",
        "RSS = sum((y_hat-y_true)**2)\n",
        " \n",
        "r_squared = 1- RSS/TSS\n",
        " \n",
        "accuracy = (\"{0:.4f}\".format(r_squared*100))\n",
        "print (\"The model has a \" + accuracy + \"% accuracy.\")"
      ],
      "execution_count": 227,
      "outputs": [
        {
          "output_type": "stream",
          "text": [
            "The model has a 99.8186% accuracy.\n"
          ],
          "name": "stdout"
        }
      ]
    },
    {
      "cell_type": "markdown",
      "metadata": {
        "id": "WX8_y7kGD5Tu"
      },
      "source": [
        "### 결정 트리(Decision Tree Regression)"
      ]
    },
    {
      "cell_type": "code",
      "metadata": {
        "colab": {
          "base_uri": "https://localhost:8080/"
        },
        "id": "Ik-fQTusHcKH",
        "outputId": "897ac22b-be30-44ff-a87b-86493bec3ace"
      },
      "source": [
        "# max_depth의 값이 커질수록 정확도 상승\n",
        "N = 2\n",
        "dtr_model = DecisionTreeRegressor(max_depth=N) \n",
        "dtr_model.fit(X_train, y_train)"
      ],
      "execution_count": 228,
      "outputs": [
        {
          "output_type": "execute_result",
          "data": {
            "text/plain": [
              "DecisionTreeRegressor(ccp_alpha=0.0, criterion='mse', max_depth=2,\n",
              "                      max_features=None, max_leaf_nodes=None,\n",
              "                      min_impurity_decrease=0.0, min_impurity_split=None,\n",
              "                      min_samples_leaf=1, min_samples_split=2,\n",
              "                      min_weight_fraction_leaf=0.0, presort='deprecated',\n",
              "                      random_state=None, splitter='best')"
            ]
          },
          "metadata": {
            "tags": []
          },
          "execution_count": 228
        }
      ]
    },
    {
      "cell_type": "markdown",
      "metadata": {
        "id": "aEN4Qcu7H8T8"
      },
      "source": [
        "#### Predicted Value & Actual Value 비교"
      ]
    },
    {
      "cell_type": "code",
      "metadata": {
        "colab": {
          "base_uri": "https://localhost:8080/",
          "height": 338
        },
        "id": "YrzYoAGbH8-9",
        "outputId": "c152931f-6604-4111-aee3-092b851dc747"
      },
      "source": [
        "predicted_value = dtr_model.predict(X_test)\n",
        "predicted_value = pd.DataFrame(predicted_value,index=y_test.index,columns = [dep_var])\n",
        "predicted_value.plot(figsize=(10,5))\n",
        "y_test.plot()\n",
        "plt.legend(['Predicted Value','Actual Value'])\n",
        "plt.ylabel(dep_var)\n",
        "plt.show()"
      ],
      "execution_count": 229,
      "outputs": [
        {
          "output_type": "display_data",
          "data": {
            "image/png": "[encoded data removed]",
            "text/plain": [
              "<Figure size 720x360 with 1 Axes>"
            ]
          },
          "metadata": {
            "tags": [],
            "needs_background": "light"
          }
        }
      ]
    },
    {
      "cell_type": "markdown",
      "metadata": {
        "id": "rQ8BHSrPIHEi"
      },
      "source": [
        "#### 모형 정확도(accuracy) 계산"
      ]
    },
    {
      "cell_type": "code",
      "metadata": {
        "colab": {
          "base_uri": "https://localhost:8080/"
        },
        "id": "pt76S2YPEMTN",
        "outputId": "bf795a39-5153-4df0-813a-6ffbc84826e8"
      },
      "source": [
        "y_hat = dtr_model.predict(X_train)\n",
        "y_true = np.array(y_train)\n",
        " \n",
        "TSS = sum((y_true - y_true.mean())**2)\n",
        "ESS = sum((y_hat - y_true.mean())**2)\n",
        "RSS = sum((y_hat-y_true)**2)\n",
        " \n",
        "r_squared = 1- RSS/TSS\n",
        " \n",
        "accuracy = (\"{0:.4f}\".format(r_squared*100))\n",
        "print (\"The model has a \" + accuracy + \"% accuracy.\")"
      ],
      "execution_count": 230,
      "outputs": [
        {
          "output_type": "stream",
          "text": [
            "The model has a 95.7826% accuracy.\n"
          ],
          "name": "stdout"
        }
      ]
    },
    {
      "cell_type": "markdown",
      "metadata": {
        "id": "AJy7OWS2--bQ"
      },
      "source": [
        "### Neural Network"
      ]
    },
    {
      "cell_type": "code",
      "metadata": {
        "id": "52XMs3tfKuCW"
      },
      "source": [
        "# 뉴럴 네트워크에 들어가도록 인풋 데이터를 변형해준다.\n",
        "X_train_set = np.array(X_train).reshape((X_train.shape[0], X_train.shape[1], 1))\n",
        "y_train_set = np.array(y_train)\n",
        "X_test_set = np.array(X_test).reshape((X_test.shape[0], X_test.shape[1], 1))"
      ],
      "execution_count": 231,
      "outputs": []
    },
    {
      "cell_type": "code",
      "metadata": {
        "colab": {
          "base_uri": "https://localhost:8080/"
        },
        "id": "-5A6WWVQPJov",
        "outputId": "166f9ee0-1f4e-4eda-be83-8b44c7a5cc2e"
      },
      "source": [
        "model = Sequential()\n",
        "##model.add(Conv1D(filters=64, kernel_size=2, activation='relu', input_shape=(len(features), 1)))\n",
        "##model.add(MaxPooling1D(pool_size=2))\n",
        " \n",
        "model.add(Flatten())\n",
        "model.add(Dense(50, activation='relu'))\n",
        "model.add(Dense(1))\n",
        " \n",
        "model.compile(optimizer='adam',loss='mse')\n",
        "history = model.fit(X_train_set,y_train_set, epochs=10, verbose = 2)\n",
        "#model.summary()"
      ],
      "execution_count": 232,
      "outputs": [
        {
          "output_type": "stream",
          "text": [
            "Epoch 1/10\n",
            "208/208 - 1s - loss: 304.9759\n",
            "Epoch 2/10\n",
            "208/208 - 0s - loss: 2.0247\n",
            "Epoch 3/10\n",
            "208/208 - 0s - loss: 1.9927\n",
            "Epoch 4/10\n",
            "208/208 - 0s - loss: 1.9824\n",
            "Epoch 5/10\n",
            "208/208 - 0s - loss: 1.9619\n",
            "Epoch 6/10\n",
            "208/208 - 0s - loss: 1.9438\n",
            "Epoch 7/10\n",
            "208/208 - 0s - loss: 1.9207\n",
            "Epoch 8/10\n",
            "208/208 - 0s - loss: 1.8982\n",
            "Epoch 9/10\n",
            "208/208 - 0s - loss: 1.9075\n",
            "Epoch 10/10\n",
            "208/208 - 0s - loss: 1.8628\n"
          ],
          "name": "stdout"
        }
      ]
    },
    {
      "cell_type": "markdown",
      "metadata": {
        "id": "dQ6shgHNQOTV"
      },
      "source": [
        "#### Predicted Value & Actual Value 비교"
      ]
    },
    {
      "cell_type": "code",
      "metadata": {
        "colab": {
          "base_uri": "https://localhost:8080/",
          "height": 338
        },
        "id": "L6V7SUx_P76Z",
        "outputId": "9b750b10-ff32-49d7-b544-3a86c4910360"
      },
      "source": [
        "predicted_value = model.predict(X_test_set,verbose=0)\n",
        "predicted_value = pd.DataFrame(predicted_value,index=y_test.index,columns = [dep_var])\n",
        "predicted_value.plot(figsize=(10,5))\n",
        "y_test.plot()\n",
        "plt.legend(['Predicted Value','Actual Value'])\n",
        "plt.ylabel(dep_var)\n",
        "plt.show()"
      ],
      "execution_count": 233,
      "outputs": [
        {
          "output_type": "display_data",
          "data": {
            "image/png": "[encoded data removed]",
            "text/plain": [
              "<Figure size 720x360 with 1 Axes>"
            ]
          },
          "metadata": {
            "tags": [],
            "needs_background": "light"
          }
        }
      ]
    },
    {
      "cell_type": "markdown",
      "metadata": {
        "id": "p5LZq2wiRehD"
      },
      "source": [
        "#### 모형 정확도(accuracy) 계산"
      ]
    },
    {
      "cell_type": "code",
      "metadata": {
        "colab": {
          "base_uri": "https://localhost:8080/"
        },
        "id": "dXKdTnA6EPP8",
        "outputId": "5d312116-237c-423e-ac40-c5783ed5f764"
      },
      "source": [
        "y_hat = model.predict(X_train_set,verbose=0).reshape(len(X_train_set))\n",
        "y_true = np.array(y_train)\n",
        " \n",
        "TSS = sum((y_true - y_true.mean())**2)\n",
        "ESS = sum((y_hat - y_true.mean())**2)\n",
        "RSS = sum((y_hat-y_true)**2)\n",
        " \n",
        "r_squared = 1- RSS/TSS\n",
        " \n",
        "accuracy = (\"{0:.4f}\".format(r_squared*100))\n",
        "print (\"The model has a \" + accuracy + \"% accuracy.\")"
      ],
      "execution_count": 234,
      "outputs": [
        {
          "output_type": "stream",
          "text": [
            "The model has a 99.8334% accuracy.\n"
          ],
          "name": "stdout"
        }
      ]
    },
    {
      "cell_type": "markdown",
      "metadata": {
        "id": "kP81H39m15Iv"
      },
      "source": [
        "## 구글 서베이 링크에 R squared를 제출\n",
        "\n",
        "* https://docs.google.com/forms/d/e/1FAIpQLScVL-vdflB_D7FnuItv0qxGpGQBtWC_JRsNbwPhwrKWEmFeiw/viewform?usp=sf_link"
      ]
    },
    {
      "cell_type": "markdown",
      "metadata": {
        "id": "4t7LgeulGKoP"
      },
      "source": [
        "## 모델 개선\n",
        "\n",
        "* Making our dataset larger : 데이터의 시작일이나 종료일을 변경\n",
        "* 독립변수 변경\n",
        "* 모형 변경"
      ]
    },
    {
      "cell_type": "code",
      "metadata": {
        "id": "VNtLi18E7xQJ",
        "colab": {
          "base_uri": "https://localhost:8080/"
        },
        "outputId": "6051fea7-2078-48f9-a7df-2d87f5bc1d82"
      },
      "source": [
        "# 샘플 데이터의 시작일과 종료일을 선택\n",
        "start_date = \"2015-01-01\" \n",
        "end_date = \"2019-12-31\"\n",
        " \n",
        "data = dataset.loc[start_date:end_date,:].copy()\n",
        " \n",
        "# 원하는 특징 변수를 선택\n",
        "features = [\"Oil_MA1\", \"Oil_MA2\", \"Oil_MA3\", \"DTB3_Oil_MA1\", \"DTB3_Oil_MA2\"]\n",
        "# 선택한 특징 변수를 X로 설정  \n",
        "X = data[features]\n",
        "# 상수항을 추가\n",
        "X['Constant'] = 1\n",
        " \n",
        "# 원하는 종속 변수를 선택 \n",
        "# \"Oil_price\"   :   오일의 가격\n",
        "# \"Oil_log_return\"   :   오일의 로그 수익률\n",
        "y = data[\"Oil_log_return\"]"
      ],
      "execution_count": 235,
      "outputs": [
        {
          "output_type": "stream",
          "text": [
            "/usr/local/lib/python3.7/dist-packages/ipykernel_launcher.py:12: SettingWithCopyWarning: \n",
            "A value is trying to be set on a copy of a slice from a DataFrame.\n",
            "Try using .loc[row_indexer,col_indexer] = value instead\n",
            "\n",
            "See the caveats in the documentation: https://pandas.pydata.org/pandas-docs/stable/user_guide/indexing.html#returning-a-view-versus-a-copy\n",
            "  if sys.path[0] == '':\n"
          ],
          "name": "stderr"
        }
      ]
    },
    {
      "cell_type": "code",
      "metadata": {
        "id": "ITeq6fROW0NG"
      },
      "source": [
        "# 전체 데이터의 80%를 training set으로 설정\n",
        "training = 0.8\n",
        "t = int(training*len(data))\n",
        " \n",
        "# Training dataset\n",
        "X_train = X[:t]\n",
        "y_train = y[:t]\n",
        " \n",
        "# Testing dataset\n",
        "X_test = X[t:]\n",
        "y_test = y[t:]"
      ],
      "execution_count": 236,
      "outputs": []
    },
    {
      "cell_type": "markdown",
      "metadata": {
        "id": "3LqfC7leb9Rv"
      },
      "source": [
        "##### 선형 회귀(Linear Regression)"
      ]
    },
    {
      "cell_type": "code",
      "metadata": {
        "id": "IWjwjRAkW0J8",
        "colab": {
          "base_uri": "https://localhost:8080/"
        },
        "outputId": "5f33f79f-2a2e-43da-a0ad-7eac515fb01d"
      },
      "source": [
        "# 회귀 분석에 대한 계수 및 상수 생성\n",
        "linear_model = LinearRegression().fit(X_train,y_train)\n",
        " \n",
        "predicted_value = linear_model.predict(X_test)\n",
        " \n",
        "# 모형 정확도 계산\n",
        "y_hat = linear_model.predict(X_train)\n",
        "y_true = np.array(y_train)\n",
        " \n",
        "TSS = sum((y_true - y_true.mean())**2)\n",
        "ESS = sum((y_hat - y_true.mean())**2)\n",
        "RSS = sum((y_hat-y_true)**2)\n",
        " \n",
        "r_squared = 1- RSS/TSS\n",
        " \n",
        "accuracy = (\"{0:.4f}\".format(r_squared*100))\n",
        "print (\"The model has a \" + accuracy + \"% accuracy.\")"
      ],
      "execution_count": 237,
      "outputs": [
        {
          "output_type": "stream",
          "text": [
            "The model has a 0.5821% accuracy.\n"
          ],
          "name": "stdout"
        }
      ]
    },
    {
      "cell_type": "code",
      "metadata": {
        "colab": {
          "base_uri": "https://localhost:8080/"
        },
        "id": "chSxQiDpCQ9I",
        "outputId": "6d7f3b79-c2f7-4737-afb8-5f52090add67"
      },
      "source": [
        " ESS/TSS, linear_model.score(X_train,y_train)"
      ],
      "execution_count": 238,
      "outputs": [
        {
          "output_type": "execute_result",
          "data": {
            "text/plain": [
              "(0.005821299539536077, 0.00582129953953614)"
            ]
          },
          "metadata": {
            "tags": []
          },
          "execution_count": 238
        }
      ]
    },
    {
      "cell_type": "markdown",
      "metadata": {
        "id": "DG1uF9Zkb-60"
      },
      "source": [
        "##### 서포트 벡터 머신(Support Vector Machine)"
      ]
    },
    {
      "cell_type": "code",
      "metadata": {
        "colab": {
          "base_uri": "https://localhost:8080/"
        },
        "id": "XPEIYrQbKDTm",
        "outputId": "b91aa9c7-3d23-4f41-98b2-40a230f6bb80"
      },
      "source": [
        "# 서포트 벡터 머신\n",
        "svm_model = svm.SVR()\n",
        "svm_model.fit(X_train, y_train)\n",
        " \n",
        "predicted_value = svm_model.predict(X_test)\n",
        " \n",
        "# 모형 정확도 계산\n",
        "y_hat = svm_model.predict(X_train)\n",
        "y_true = np.array(y_train)\n",
        "\n",
        "TSS = sum((y_true - y_true.mean())**2)\n",
        "ESS = sum((y_hat - y_true.mean())**2)\n",
        "RSS = sum((y_hat - y_true)**2)\n",
        " \n",
        "r_squared = 1- RSS/TSS\n",
        " \n",
        "accuracy = (\"{0:.4f}\".format(r_squared*100))\n",
        "print (\"The model has a \" + accuracy + \"% accuracy.\")"
      ],
      "execution_count": 239,
      "outputs": [
        {
          "output_type": "stream",
          "text": [
            "The model has a -16.3886% accuracy.\n"
          ],
          "name": "stdout"
        }
      ]
    },
    {
      "cell_type": "markdown",
      "metadata": {
        "id": "MK6HRHrGcE5t"
      },
      "source": [
        "##### 결정 트리 모형(Decision Tree Regression)"
      ]
    },
    {
      "cell_type": "code",
      "metadata": {
        "colab": {
          "base_uri": "https://localhost:8080/"
        },
        "id": "5Srb_0nQKC8T",
        "outputId": "c2450f33-b5dc-4023-d054-2210b39fb9be"
      },
      "source": [
        "# 결정 트리 모형\n",
        "# max_depth의 값이 커질수록 정확도 상승\n",
        "N = 8\n",
        "dtr_model = DecisionTreeRegressor(max_depth=N) \n",
        "dtr_model.fit(X_train, y_train)\n",
        " \n",
        "predicted_value = dtr_model.predict(X_test)\n",
        " \n",
        "# 모형 정확도 계산\n",
        "y_hat = dtr_model.predict(X_train)\n",
        "y_true = np.array(y_train)\n",
        " \n",
        "TSS = sum((y_true - y_true.mean())**2)\n",
        "ESS = sum((y_hat - y_true.mean())**2)\n",
        "RSS = sum((y_hat-y_true)**2)\n",
        " \n",
        "r_squared = 1- RSS/TSS\n",
        " \n",
        "accuracy = (\"{0:.4f}\".format(r_squared*100))\n",
        "print (\"The model has a \" + accuracy + \"% accuracy.\")"
      ],
      "execution_count": 240,
      "outputs": [
        {
          "output_type": "stream",
          "text": [
            "The model has a 22.3610% accuracy.\n"
          ],
          "name": "stdout"
        }
      ]
    },
    {
      "cell_type": "markdown",
      "metadata": {
        "id": "mGVAsKLpcLfW"
      },
      "source": [
        "##### Neural Network"
      ]
    },
    {
      "cell_type": "code",
      "metadata": {
        "id": "8nni-0z9bTtM",
        "colab": {
          "base_uri": "https://localhost:8080/"
        },
        "outputId": "879f7554-0253-4e27-96aa-015feb6dc8d8"
      },
      "source": [
        "# 뉴럴 네트워크에 들어가도록 인풋 데이터를 변형해준다.\n",
        "X_train_set = np.array(X_train).reshape((X_train.shape[0], X_train.shape[1], 1))\n",
        "y_train_set = np.array(y_train)\n",
        "X_test_set = np.array(X_test).reshape((X_test.shape[0], X_test.shape[1], 1))\n",
        " \n",
        "model = Sequential()\n",
        "#model.add(Conv1D(filters=64, kernel_size=2, activation='relu', input_shape=(len(features), 1)))\n",
        "#model.add(MaxPooling1D(pool_size=2))\n",
        " \n",
        "model.add(Flatten())\n",
        "model.add(Dense(50, activation='relu'))\n",
        "model.add(Dense(100, activation='relu'))\n",
        "model.add(Dense(50, activation='relu'))\n",
        "model.add(Dense(1))\n",
        " \n",
        "model.compile(optimizer='adam',loss='mse')\n",
        "history = model.fit(X_train_set,y_train_set, epochs=100, verbose=False)\n",
        "predicted_value = model.predict(X_test_set,verbose=0)\n",
        " \n",
        "# 모형 정확도 계산\n",
        "y_hat = model.predict(X_train_set,verbose=0).reshape(len(y_train))\n",
        "y_true = np.array(y_train)\n",
        " \n",
        "TSS = sum((y_true - y_true.mean())**2)\n",
        "ESS = sum((y_hat - y_true.mean())**2)\n",
        "RSS = sum((y_hat-y_true)**2)\n",
        " \n",
        "r_squared = 1- RSS/TSS\n",
        " \n",
        "accuracy = (\"{0:.4f}\".format(r_squared*100))\n",
        "print (\"The model has a \" + accuracy + \"% accuracy.\")"
      ],
      "execution_count": 241,
      "outputs": [
        {
          "output_type": "stream",
          "text": [
            "The model has a -59.1999% accuracy.\n"
          ],
          "name": "stdout"
        }
      ]
    },
    {
      "cell_type": "markdown",
      "metadata": {
        "id": "IXHkxzfc14Z2"
      },
      "source": [
        "## 구글 서베이 링크에 R squared를 제출\n",
        "\n",
        "* https://docs.google.com/forms/d/e/1FAIpQLScVL-vdflB_D7FnuItv0qxGpGQBtWC_JRsNbwPhwrKWEmFeiw/viewform?usp=sf_link"
      ]
    },
    {
      "cell_type": "markdown",
      "metadata": {
        "id": "3NBvheQMbFDr"
      },
      "source": [
        "## 리더의 역할\n",
        "\n",
        "![](https://assets-global.website-files.com/5beb10462914c4a8f77b4892/5c0587dc08a6431fe0839f1f_moneyball-approach.jpeg)\n",
        "\n",
        "[머니볼-브래드피트](https://youtu.be/DtumWOsgFXc)"
      ]
    },
    {
      "cell_type": "markdown",
      "metadata": {
        "id": "nepxjzVlFrrj"
      },
      "source": [
        "# Textual Analysis\n",
        "\n",
        "![](https://github.com/khbae/data-analytics-process/blob/main/Data/ML_approach.png?raw=true)\n"
      ]
    }
  ]
}